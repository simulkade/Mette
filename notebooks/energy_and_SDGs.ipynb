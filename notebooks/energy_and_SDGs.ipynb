{
 "cells": [
  {
   "cell_type": "markdown",
   "metadata": {},
   "source": [
    "# Teaching objectives\n",
    "The students are expected to:\n",
    "  - describe the sustainable development goals (SDG)\n",
    "  - explain the link between the energy consumption and SDG indices\n",
    "  - analyze the energy supply and demand of a European country\n",
    "  - quantify the average energy demand of a European person\n",
    "  - quantitatively explain the potential role of hydrogen in future energy systems and achieving SDGs\n",
    "\n",
    "## Teaching material\n",
    "All the data and Python codes will be shared with the participants. Working with real data is the best way to learn to describe sustainability in \"numbers; not adjectives\".\n"
   ]
  },
  {
   "cell_type": "markdown",
   "metadata": {},
   "source": [
    "# Sustainable Development Goals (SDG)\n",
    "Here's the first paragraph of the history of SDGs from the [official UN website](https://sdgs.un.org/goals):\n",
    " > The 2030 Agenda for Sustainable Development, adopted by all United Nations Member States in 2015, provides a shared blueprint for __peace and prosperity for people and the planet__, now and into the future. At its heart are the __17 Sustainable Development Goals (SDGs)__, which are an __urgent call for action__ by all countries - developed and developing - in a global partnership. They recognize that __ending poverty and other deprivations__ must go hand-in-hand with strategies that __improve health and education__, __reduce inequality__, and spur __economic growth__ – all __while tackling climate change__ and working to __preserve our oceans and forests__.  \n",
    " \n",
    "![SDG Image](../resources/Sustainable_Development_Goals.svg.png)\n",
    "\n",
    "## SDGs and energy\n",
    "The SDGs are not independent of each other. There are strong correlations between some of these goals. Energy consumption of a nation, for instance, is strongly linked to the prosperity of a nation. Note that we try to avoid a cause and effect interpretation here: so it does not matter if the prosperity comes first and lead to a higher energy consumption that seems to be an indicator of a better life style, or having a lot of energy leads to prosperity and a better life. Let's have a look at the data. We will use the national energy consumption data from [our world in data](), gross national product (GDP) from [the World Bank](), national direct CO2 emission from [our world in data](), and finally the sustainable development indices from [the sustainable development report website](https://dashboards.sdgindex.org/downloads)"
   ]
  },
  {
   "cell_type": "code",
   "execution_count": 2,
   "metadata": {},
   "outputs": [],
   "source": [
    "# load energy data\n",
    "import pandas as pd\n",
    "import numpy as np\n",
    "import matplotlib.pyplot as plt\n",
    "import seaborn as sns\n",
    "\n",
    "# load data\n",
    "energy = pd.read_csv('../data/owid-energy-data.csv')\n",
    "# filter for the final year of data\n",
    "energy = energy[energy['year'] == 2022].reset_index(drop=True)\n",
    "# remove iso_code = NaN\n",
    "energy = energy[energy['iso_code'].notna()].reset_index(drop=True)\n",
    "energy['energy_per_capita'] = energy['energy_per_capita']/365 # to kWh/person/day\n",
    "\n",
    "CO2 = pd.read_csv('../data/co-emissions-per-capita.csv')\n",
    "# change column name from 'Entity' to 'country' and 'Code' to 'iso_code'\n",
    "CO2.rename(columns={'Entity':'country', 'Code':'iso_code', 'Year': 'year'}, inplace=True)\n",
    "# filter for Year == 2022\n",
    "CO2 = CO2[CO2['year'] == 2022].reset_index(drop=True)\n",
    "# remove iso_code = NaN or iso_code = OWID_WRL\n",
    "CO2 = CO2[CO2['iso_code'].notna()].reset_index(drop=True)\n",
    "CO2 = CO2[CO2['iso_code'] != 'OWID_WRL'].reset_index(drop=True)\n",
    "\n",
    "# load data for sustainable development goals\n",
    "sdg = pd.read_excel('../data/SDR2024-data.xlsx', sheet_name='Full Database')\n",
    "# change column name from 'Country Code ISO3' to iso_code\n",
    "sdg.rename(columns={'Country Code ISO3':'iso_code', 'Country': 'country'}, inplace=True)\n",
    "# remove iso_code that contains _\n",
    "sdg = sdg[~sdg['iso_code'].str.contains('_')].reset_index(drop=True)\n",
    "\n",
    "# working with greenhouse_gas_emissions, energy_per_capita (kWh/person), energy_per_gdp\n",
    "# all per capita are reported in kWh/person"
   ]
  },
  {
   "cell_type": "code",
   "execution_count": 3,
   "metadata": {},
   "outputs": [
    {
     "data": {
      "text/html": [
       "<div>\n",
       "<style scoped>\n",
       "    .dataframe tbody tr th:only-of-type {\n",
       "        vertical-align: middle;\n",
       "    }\n",
       "\n",
       "    .dataframe tbody tr th {\n",
       "        vertical-align: top;\n",
       "    }\n",
       "\n",
       "    .dataframe thead th {\n",
       "        text-align: right;\n",
       "    }\n",
       "</style>\n",
       "<table border=\"1\" class=\"dataframe\">\n",
       "  <thead>\n",
       "    <tr style=\"text-align: right;\">\n",
       "      <th></th>\n",
       "      <th>country_x</th>\n",
       "      <th>year_x</th>\n",
       "      <th>iso_code</th>\n",
       "      <th>population</th>\n",
       "      <th>gdp</th>\n",
       "      <th>biofuel_cons_change_pct</th>\n",
       "      <th>biofuel_cons_change_twh</th>\n",
       "      <th>biofuel_cons_per_capita</th>\n",
       "      <th>biofuel_consumption</th>\n",
       "      <th>biofuel_elec_per_capita</th>\n",
       "      <th>...</th>\n",
       "      <th>Goal 9 Score</th>\n",
       "      <th>Goal 10 Score</th>\n",
       "      <th>Goal 11 Score</th>\n",
       "      <th>Goal 12 Score</th>\n",
       "      <th>Goal 13 Score</th>\n",
       "      <th>Goal 14 Score</th>\n",
       "      <th>Goal 15 Score</th>\n",
       "      <th>Goal 16 Score</th>\n",
       "      <th>Goal 17 Score</th>\n",
       "      <th>gdp_per_capita</th>\n",
       "    </tr>\n",
       "  </thead>\n",
       "  <tbody>\n",
       "    <tr>\n",
       "      <th>0</th>\n",
       "      <td>Afghanistan</td>\n",
       "      <td>2022</td>\n",
       "      <td>AFG</td>\n",
       "      <td>41128772.0</td>\n",
       "      <td>5.330347e+10</td>\n",
       "      <td>NaN</td>\n",
       "      <td>NaN</td>\n",
       "      <td>NaN</td>\n",
       "      <td>NaN</td>\n",
       "      <td>0.000</td>\n",
       "      <td>...</td>\n",
       "      <td>16.123429</td>\n",
       "      <td>NaN</td>\n",
       "      <td>34.509750</td>\n",
       "      <td>95.540714</td>\n",
       "      <td>98.914667</td>\n",
       "      <td>NaN</td>\n",
       "      <td>77.4748</td>\n",
       "      <td>41.422909</td>\n",
       "      <td>43.48660</td>\n",
       "      <td>1296.014190</td>\n",
       "    </tr>\n",
       "    <tr>\n",
       "      <th>1</th>\n",
       "      <td>Albania</td>\n",
       "      <td>2022</td>\n",
       "      <td>ALB</td>\n",
       "      <td>2842318.0</td>\n",
       "      <td>3.617101e+10</td>\n",
       "      <td>NaN</td>\n",
       "      <td>NaN</td>\n",
       "      <td>NaN</td>\n",
       "      <td>NaN</td>\n",
       "      <td>0.000</td>\n",
       "      <td>...</td>\n",
       "      <td>48.404429</td>\n",
       "      <td>92.4490</td>\n",
       "      <td>88.891667</td>\n",
       "      <td>79.107714</td>\n",
       "      <td>89.565500</td>\n",
       "      <td>49.186000</td>\n",
       "      <td>82.2742</td>\n",
       "      <td>62.367364</td>\n",
       "      <td>68.37960</td>\n",
       "      <td>12725.882872</td>\n",
       "    </tr>\n",
       "    <tr>\n",
       "      <th>2</th>\n",
       "      <td>Algeria</td>\n",
       "      <td>2022</td>\n",
       "      <td>DZA</td>\n",
       "      <td>44903228.0</td>\n",
       "      <td>5.958200e+11</td>\n",
       "      <td>NaN</td>\n",
       "      <td>NaN</td>\n",
       "      <td>NaN</td>\n",
       "      <td>NaN</td>\n",
       "      <td>0.000</td>\n",
       "      <td>...</td>\n",
       "      <td>52.316143</td>\n",
       "      <td>97.0150</td>\n",
       "      <td>68.482750</td>\n",
       "      <td>88.713143</td>\n",
       "      <td>87.224500</td>\n",
       "      <td>64.772167</td>\n",
       "      <td>65.9196</td>\n",
       "      <td>65.156273</td>\n",
       "      <td>73.36400</td>\n",
       "      <td>13268.979676</td>\n",
       "    </tr>\n",
       "    <tr>\n",
       "      <th>3</th>\n",
       "      <td>Angola</td>\n",
       "      <td>2022</td>\n",
       "      <td>AGO</td>\n",
       "      <td>35588996.0</td>\n",
       "      <td>1.583462e+11</td>\n",
       "      <td>NaN</td>\n",
       "      <td>NaN</td>\n",
       "      <td>NaN</td>\n",
       "      <td>NaN</td>\n",
       "      <td>1.405</td>\n",
       "      <td>...</td>\n",
       "      <td>21.181429</td>\n",
       "      <td>16.4790</td>\n",
       "      <td>42.364750</td>\n",
       "      <td>94.465857</td>\n",
       "      <td>94.550667</td>\n",
       "      <td>67.379167</td>\n",
       "      <td>66.5306</td>\n",
       "      <td>40.944545</td>\n",
       "      <td>54.28880</td>\n",
       "      <td>4449.303605</td>\n",
       "    </tr>\n",
       "    <tr>\n",
       "      <th>4</th>\n",
       "      <td>Antigua and Barbuda</td>\n",
       "      <td>2022</td>\n",
       "      <td>ATG</td>\n",
       "      <td>93772.0</td>\n",
       "      <td>NaN</td>\n",
       "      <td>NaN</td>\n",
       "      <td>NaN</td>\n",
       "      <td>NaN</td>\n",
       "      <td>NaN</td>\n",
       "      <td>0.000</td>\n",
       "      <td>...</td>\n",
       "      <td>NaN</td>\n",
       "      <td>NaN</td>\n",
       "      <td>NaN</td>\n",
       "      <td>NaN</td>\n",
       "      <td>NaN</td>\n",
       "      <td>NaN</td>\n",
       "      <td>NaN</td>\n",
       "      <td>NaN</td>\n",
       "      <td>NaN</td>\n",
       "      <td>NaN</td>\n",
       "    </tr>\n",
       "    <tr>\n",
       "      <th>...</th>\n",
       "      <td>...</td>\n",
       "      <td>...</td>\n",
       "      <td>...</td>\n",
       "      <td>...</td>\n",
       "      <td>...</td>\n",
       "      <td>...</td>\n",
       "      <td>...</td>\n",
       "      <td>...</td>\n",
       "      <td>...</td>\n",
       "      <td>...</td>\n",
       "      <td>...</td>\n",
       "      <td>...</td>\n",
       "      <td>...</td>\n",
       "      <td>...</td>\n",
       "      <td>...</td>\n",
       "      <td>...</td>\n",
       "      <td>...</td>\n",
       "      <td>...</td>\n",
       "      <td>...</td>\n",
       "      <td>...</td>\n",
       "      <td>...</td>\n",
       "    </tr>\n",
       "    <tr>\n",
       "      <th>180</th>\n",
       "      <td>Venezuela</td>\n",
       "      <td>2022</td>\n",
       "      <td>VEN</td>\n",
       "      <td>28301700.0</td>\n",
       "      <td>1.496821e+11</td>\n",
       "      <td>NaN</td>\n",
       "      <td>NaN</td>\n",
       "      <td>NaN</td>\n",
       "      <td>NaN</td>\n",
       "      <td>0.000</td>\n",
       "      <td>...</td>\n",
       "      <td>38.641286</td>\n",
       "      <td>28.5715</td>\n",
       "      <td>62.127000</td>\n",
       "      <td>82.052667</td>\n",
       "      <td>86.544500</td>\n",
       "      <td>82.581500</td>\n",
       "      <td>78.3348</td>\n",
       "      <td>29.704200</td>\n",
       "      <td>57.94900</td>\n",
       "      <td>5288.801072</td>\n",
       "    </tr>\n",
       "    <tr>\n",
       "      <th>181</th>\n",
       "      <td>Vietnam</td>\n",
       "      <td>2022</td>\n",
       "      <td>VNM</td>\n",
       "      <td>98186856.0</td>\n",
       "      <td>8.338038e+11</td>\n",
       "      <td>NaN</td>\n",
       "      <td>NaN</td>\n",
       "      <td>NaN</td>\n",
       "      <td>NaN</td>\n",
       "      <td>3.666</td>\n",
       "      <td>...</td>\n",
       "      <td>62.994571</td>\n",
       "      <td>67.8075</td>\n",
       "      <td>80.091000</td>\n",
       "      <td>83.375857</td>\n",
       "      <td>90.038333</td>\n",
       "      <td>48.111500</td>\n",
       "      <td>41.4916</td>\n",
       "      <td>63.726909</td>\n",
       "      <td>69.93125</td>\n",
       "      <td>8492.010841</td>\n",
       "    </tr>\n",
       "    <tr>\n",
       "      <th>182</th>\n",
       "      <td>Yemen</td>\n",
       "      <td>2022</td>\n",
       "      <td>YEM</td>\n",
       "      <td>33696612.0</td>\n",
       "      <td>6.085299e+10</td>\n",
       "      <td>NaN</td>\n",
       "      <td>NaN</td>\n",
       "      <td>NaN</td>\n",
       "      <td>NaN</td>\n",
       "      <td>0.000</td>\n",
       "      <td>...</td>\n",
       "      <td>16.158857</td>\n",
       "      <td>66.2925</td>\n",
       "      <td>48.444750</td>\n",
       "      <td>96.202429</td>\n",
       "      <td>98.460000</td>\n",
       "      <td>74.983333</td>\n",
       "      <td>50.2930</td>\n",
       "      <td>38.936000</td>\n",
       "      <td>48.95450</td>\n",
       "      <td>1805.908382</td>\n",
       "    </tr>\n",
       "    <tr>\n",
       "      <th>183</th>\n",
       "      <td>Zambia</td>\n",
       "      <td>2022</td>\n",
       "      <td>ZMB</td>\n",
       "      <td>20017670.0</td>\n",
       "      <td>6.846960e+10</td>\n",
       "      <td>NaN</td>\n",
       "      <td>NaN</td>\n",
       "      <td>NaN</td>\n",
       "      <td>NaN</td>\n",
       "      <td>3.996</td>\n",
       "      <td>...</td>\n",
       "      <td>33.069143</td>\n",
       "      <td>10.0000</td>\n",
       "      <td>47.983250</td>\n",
       "      <td>94.840857</td>\n",
       "      <td>98.466333</td>\n",
       "      <td>NaN</td>\n",
       "      <td>68.2324</td>\n",
       "      <td>45.187909</td>\n",
       "      <td>64.82760</td>\n",
       "      <td>3420.458243</td>\n",
       "    </tr>\n",
       "    <tr>\n",
       "      <th>184</th>\n",
       "      <td>Zimbabwe</td>\n",
       "      <td>2022</td>\n",
       "      <td>ZWE</td>\n",
       "      <td>16320539.0</td>\n",
       "      <td>2.590159e+10</td>\n",
       "      <td>NaN</td>\n",
       "      <td>NaN</td>\n",
       "      <td>NaN</td>\n",
       "      <td>NaN</td>\n",
       "      <td>6.127</td>\n",
       "      <td>...</td>\n",
       "      <td>41.714167</td>\n",
       "      <td>23.9810</td>\n",
       "      <td>74.179250</td>\n",
       "      <td>96.245571</td>\n",
       "      <td>97.838667</td>\n",
       "      <td>NaN</td>\n",
       "      <td>76.6442</td>\n",
       "      <td>42.927727</td>\n",
       "      <td>49.44460</td>\n",
       "      <td>1587.054596</td>\n",
       "    </tr>\n",
       "  </tbody>\n",
       "</table>\n",
       "<p>185 rows × 151 columns</p>\n",
       "</div>"
      ],
      "text/plain": [
       "               country_x  year_x iso_code  population           gdp  \\\n",
       "0            Afghanistan    2022      AFG  41128772.0  5.330347e+10   \n",
       "1                Albania    2022      ALB   2842318.0  3.617101e+10   \n",
       "2                Algeria    2022      DZA  44903228.0  5.958200e+11   \n",
       "3                 Angola    2022      AGO  35588996.0  1.583462e+11   \n",
       "4    Antigua and Barbuda    2022      ATG     93772.0           NaN   \n",
       "..                   ...     ...      ...         ...           ...   \n",
       "180            Venezuela    2022      VEN  28301700.0  1.496821e+11   \n",
       "181              Vietnam    2022      VNM  98186856.0  8.338038e+11   \n",
       "182                Yemen    2022      YEM  33696612.0  6.085299e+10   \n",
       "183               Zambia    2022      ZMB  20017670.0  6.846960e+10   \n",
       "184             Zimbabwe    2022      ZWE  16320539.0  2.590159e+10   \n",
       "\n",
       "     biofuel_cons_change_pct  biofuel_cons_change_twh  \\\n",
       "0                        NaN                      NaN   \n",
       "1                        NaN                      NaN   \n",
       "2                        NaN                      NaN   \n",
       "3                        NaN                      NaN   \n",
       "4                        NaN                      NaN   \n",
       "..                       ...                      ...   \n",
       "180                      NaN                      NaN   \n",
       "181                      NaN                      NaN   \n",
       "182                      NaN                      NaN   \n",
       "183                      NaN                      NaN   \n",
       "184                      NaN                      NaN   \n",
       "\n",
       "     biofuel_cons_per_capita  biofuel_consumption  biofuel_elec_per_capita  \\\n",
       "0                        NaN                  NaN                    0.000   \n",
       "1                        NaN                  NaN                    0.000   \n",
       "2                        NaN                  NaN                    0.000   \n",
       "3                        NaN                  NaN                    1.405   \n",
       "4                        NaN                  NaN                    0.000   \n",
       "..                       ...                  ...                      ...   \n",
       "180                      NaN                  NaN                    0.000   \n",
       "181                      NaN                  NaN                    3.666   \n",
       "182                      NaN                  NaN                    0.000   \n",
       "183                      NaN                  NaN                    3.996   \n",
       "184                      NaN                  NaN                    6.127   \n",
       "\n",
       "     ...  Goal 9 Score  Goal 10 Score  Goal 11 Score  Goal 12 Score  \\\n",
       "0    ...     16.123429            NaN      34.509750      95.540714   \n",
       "1    ...     48.404429        92.4490      88.891667      79.107714   \n",
       "2    ...     52.316143        97.0150      68.482750      88.713143   \n",
       "3    ...     21.181429        16.4790      42.364750      94.465857   \n",
       "4    ...           NaN            NaN            NaN            NaN   \n",
       "..   ...           ...            ...            ...            ...   \n",
       "180  ...     38.641286        28.5715      62.127000      82.052667   \n",
       "181  ...     62.994571        67.8075      80.091000      83.375857   \n",
       "182  ...     16.158857        66.2925      48.444750      96.202429   \n",
       "183  ...     33.069143        10.0000      47.983250      94.840857   \n",
       "184  ...     41.714167        23.9810      74.179250      96.245571   \n",
       "\n",
       "     Goal 13 Score  Goal 14 Score  Goal 15 Score  Goal 16 Score  \\\n",
       "0        98.914667            NaN        77.4748      41.422909   \n",
       "1        89.565500      49.186000        82.2742      62.367364   \n",
       "2        87.224500      64.772167        65.9196      65.156273   \n",
       "3        94.550667      67.379167        66.5306      40.944545   \n",
       "4              NaN            NaN            NaN            NaN   \n",
       "..             ...            ...            ...            ...   \n",
       "180      86.544500      82.581500        78.3348      29.704200   \n",
       "181      90.038333      48.111500        41.4916      63.726909   \n",
       "182      98.460000      74.983333        50.2930      38.936000   \n",
       "183      98.466333            NaN        68.2324      45.187909   \n",
       "184      97.838667            NaN        76.6442      42.927727   \n",
       "\n",
       "     Goal 17 Score  gdp_per_capita  \n",
       "0         43.48660     1296.014190  \n",
       "1         68.37960    12725.882872  \n",
       "2         73.36400    13268.979676  \n",
       "3         54.28880     4449.303605  \n",
       "4              NaN             NaN  \n",
       "..             ...             ...  \n",
       "180       57.94900     5288.801072  \n",
       "181       69.93125     8492.010841  \n",
       "182       48.95450     1805.908382  \n",
       "183       64.82760     3420.458243  \n",
       "184       49.44460     1587.054596  \n",
       "\n",
       "[185 rows x 151 columns]"
      ]
     },
     "execution_count": 3,
     "metadata": {},
     "output_type": "execute_result"
    }
   ],
   "source": [
    "# extract sdg columns 'Goal 1 Score' to 'Goal 17 Score', and country name and iso_code\n",
    "sdg_score = sdg[['country', 'iso_code', 'Goal 1 Score', 'Goal 2 Score', 'Goal 3 Score', 'Goal 4 Score', 'Goal 5 Score', 'Goal 6 Score', 'Goal 7 Score', 'Goal 8 Score', 'Goal 9 Score', 'Goal 10 Score', 'Goal 11 Score', 'Goal 12 Score', 'Goal 13 Score', 'Goal 14 Score', 'Goal 15 Score', 'Goal 16 Score', 'Goal 17 Score']].copy()\n",
    "# merge energy, CO2, and sdg_score\n",
    "df = pd.merge(energy, CO2, on='iso_code', how='inner')\n",
    "df = pd.merge(df, sdg_score, on='iso_code', how='inner')\n",
    "df['gdp_per_capita'] = df['gdp']/df['population']"
   ]
  },
  {
   "cell_type": "code",
   "execution_count": 56,
   "metadata": {},
   "outputs": [
    {
     "data": {
      "application/vnd.plotly.v1+json": {
       "config": {
        "plotlyServerURL": "https://plot.ly"
       },
       "data": [
        {
         "customdata": [
          [
           "Afghanistan"
          ],
          [
           "Albania"
          ],
          [
           "Algeria"
          ],
          [
           "Angola"
          ],
          [
           "Antigua and Barbuda"
          ],
          [
           "Argentina"
          ],
          [
           "Armenia"
          ],
          [
           "Australia"
          ],
          [
           "Austria"
          ],
          [
           "Azerbaijan"
          ],
          [
           "Bahamas, The"
          ],
          [
           "Bahrain"
          ],
          [
           "Bangladesh"
          ],
          [
           "Barbados"
          ],
          [
           "Belarus"
          ],
          [
           "Belgium"
          ],
          [
           "Belize"
          ],
          [
           "Benin"
          ],
          [
           "Bhutan"
          ],
          [
           "Bolivia"
          ],
          [
           "Bosnia and Herzegovina"
          ],
          [
           "Botswana"
          ],
          [
           "Brazil"
          ],
          [
           "Brunei Darussalam"
          ],
          [
           "Bulgaria"
          ],
          [
           "Burkina Faso"
          ],
          [
           "Burundi"
          ],
          [
           "Cambodia"
          ],
          [
           "Cameroon"
          ],
          [
           "Canada"
          ],
          [
           "Cabo Verde"
          ],
          [
           "Central African Republic"
          ],
          [
           "Chad"
          ],
          [
           "Chile"
          ],
          [
           "China"
          ],
          [
           "Colombia"
          ],
          [
           "Comoros"
          ],
          [
           "Congo, Rep."
          ],
          [
           "Costa Rica"
          ],
          [
           "Cote d'Ivoire"
          ],
          [
           "Croatia"
          ],
          [
           "Cuba"
          ],
          [
           "Cyprus"
          ],
          [
           "Czechia"
          ],
          [
           "Congo, Dem. Rep."
          ],
          [
           "Denmark"
          ],
          [
           "Djibouti"
          ],
          [
           "Dominica"
          ],
          [
           "Dominican Republic"
          ],
          [
           "Timor-Leste"
          ],
          [
           "Ecuador"
          ],
          [
           "Egypt, Arab Rep."
          ],
          [
           "El Salvador"
          ],
          [
           "Equatorial Guinea"
          ],
          [
           "Eritrea"
          ],
          [
           "Estonia"
          ],
          [
           "Eswatini"
          ],
          [
           "Ethiopia"
          ],
          [
           "Fiji"
          ],
          [
           "Finland"
          ],
          [
           "France"
          ],
          [
           "Gabon"
          ],
          [
           "Gambia, The"
          ],
          [
           "Georgia"
          ],
          [
           "Germany"
          ],
          [
           "Ghana"
          ],
          [
           "Greece"
          ],
          [
           "Grenada"
          ],
          [
           "Guatemala"
          ],
          [
           "Guinea"
          ],
          [
           "Guinea-Bissau"
          ],
          [
           "Guyana"
          ],
          [
           "Haiti"
          ],
          [
           "Honduras"
          ],
          [
           "Hungary"
          ],
          [
           "Iceland"
          ],
          [
           "India"
          ],
          [
           "Indonesia"
          ],
          [
           "Iran, Islamic Rep."
          ],
          [
           "Iraq"
          ],
          [
           "Ireland"
          ],
          [
           "Israel"
          ],
          [
           "Italy"
          ],
          [
           "Jamaica"
          ],
          [
           "Japan"
          ],
          [
           "Jordan"
          ],
          [
           "Kazakhstan"
          ],
          [
           "Kenya"
          ],
          [
           "Kiribati"
          ],
          [
           "Kuwait"
          ],
          [
           "Kyrgyz Republic"
          ],
          [
           "Lao PDR"
          ],
          [
           "Latvia"
          ],
          [
           "Lebanon"
          ],
          [
           "Lesotho"
          ],
          [
           "Liberia"
          ],
          [
           "Libya"
          ],
          [
           "Lithuania"
          ],
          [
           "Luxembourg"
          ],
          [
           "Madagascar"
          ],
          [
           "Malawi"
          ],
          [
           "Malaysia"
          ],
          [
           "Maldives"
          ],
          [
           "Mali"
          ],
          [
           "Malta"
          ],
          [
           "Mauritania"
          ],
          [
           "Mauritius"
          ],
          [
           "Mexico"
          ],
          [
           "Moldova"
          ],
          [
           "Mongolia"
          ],
          [
           "Montenegro"
          ],
          [
           "Morocco"
          ],
          [
           "Mozambique"
          ],
          [
           "Myanmar"
          ],
          [
           "Namibia"
          ],
          [
           "Nauru"
          ],
          [
           "Nepal"
          ],
          [
           "Netherlands"
          ],
          [
           "New Zealand"
          ],
          [
           "Nicaragua"
          ],
          [
           "Niger"
          ],
          [
           "Nigeria"
          ],
          [
           "Korea, Dem. Rep."
          ],
          [
           "North Macedonia"
          ],
          [
           "Norway"
          ],
          [
           "Oman"
          ],
          [
           "Pakistan"
          ],
          [
           "Panama"
          ],
          [
           "Papua New Guinea"
          ],
          [
           "Paraguay"
          ],
          [
           "Peru"
          ],
          [
           "Philippines"
          ],
          [
           "Poland"
          ],
          [
           "Portugal"
          ],
          [
           "Qatar"
          ],
          [
           "Romania"
          ],
          [
           "Russian Federation"
          ],
          [
           "Rwanda"
          ],
          [
           "St. Kitts and Nevis"
          ],
          [
           "St. Lucia"
          ],
          [
           "St. Vincent and the Grenadines"
          ],
          [
           "Samoa"
          ],
          [
           "Sao Tome and Principe"
          ],
          [
           "Saudi Arabia"
          ],
          [
           "Senegal"
          ],
          [
           "Serbia"
          ],
          [
           "Seychelles"
          ],
          [
           "Sierra Leone"
          ],
          [
           "Singapore"
          ],
          [
           "Slovak Republic"
          ],
          [
           "Slovenia"
          ],
          [
           "Solomon Islands"
          ],
          [
           "Somalia"
          ],
          [
           "South Africa"
          ],
          [
           "Korea, Rep."
          ],
          [
           "South Sudan"
          ],
          [
           "Spain"
          ],
          [
           "Sri Lanka"
          ],
          [
           "Sudan"
          ],
          [
           "Suriname"
          ],
          [
           "Sweden"
          ],
          [
           "Switzerland"
          ],
          [
           "Syrian Arab Republic"
          ],
          [
           "Tajikistan"
          ],
          [
           "Tanzania"
          ],
          [
           "Thailand"
          ],
          [
           "Togo"
          ],
          [
           "Tonga"
          ],
          [
           "Trinidad and Tobago"
          ],
          [
           "Tunisia"
          ],
          [
           "Türkiye"
          ],
          [
           "Turkmenistan"
          ],
          [
           "Uganda"
          ],
          [
           "Ukraine"
          ],
          [
           "United Arab Emirates"
          ],
          [
           "United Kingdom"
          ],
          [
           "United States"
          ],
          [
           "Uruguay"
          ],
          [
           "Uzbekistan"
          ],
          [
           "Vanuatu"
          ],
          [
           "Venezuela, RB"
          ],
          [
           "Vietnam"
          ],
          [
           "Yemen, Rep."
          ],
          [
           "Zambia"
          ],
          [
           "Zimbabwe"
          ]
         ],
         "hovertemplate": "energy_per_capita=%{x}<br>Goal 13 Score=%{y}<br>country=%{customdata[0]}<extra></extra>",
         "legendgroup": "",
         "marker": {
          "color": "#636efa",
          "symbol": "circle"
         },
         "mode": "markers",
         "name": "",
         "orientation": "v",
         "showlegend": false,
         "type": "scatter",
         "x": [
          null,
          null,
          44.795945205479455,
          null,
          null,
          61.968835616438355,
          null,
          173.84182465753426,
          116.38788493150685,
          55.62100821917809,
          null,
          null,
          8.289846575342466,
          null,
          84.57201917808219,
          163.23909589041094,
          null,
          null,
          null,
          null,
          null,
          null,
          47.48985479452055,
          null,
          92.7018301369863,
          null,
          null,
          null,
          null,
          282.98816438356164,
          null,
          null,
          null,
          70.36753424657535,
          85.53445479452056,
          32.220701369863015,
          null,
          null,
          null,
          null,
          63.33251780821917,
          null,
          69.3406301369863,
          118.9803397260274,
          null,
          91.88437534246575,
          null,
          null,
          null,
          null,
          33.8989698630137,
          27.311835616438355,
          null,
          null,
          null,
          130.9716301369863,
          null,
          null,
          null,
          158.5908493150685,
          97.44317260273974,
          null,
          null,
          null,
          112.15909589041095,
          null,
          82.92736986301371,
          null,
          null,
          null,
          null,
          null,
          null,
          null,
          73.39529589041096,
          468.2590739726028,
          19.53180821917808,
          27.759323287671233,
          107.26393424657535,
          40.86192876712329,
          101.43096164383562,
          93.55874246575343,
          79.73813150684931,
          null,
          110.62375890410958,
          null,
          115.71350684931507,
          null,
          null,
          277.5097589041096,
          null,
          null,
          56.95866301369863,
          null,
          null,
          null,
          null,
          64.8218,
          163.9925095890411,
          null,
          null,
          107.47001369863014,
          null,
          null,
          null,
          null,
          null,
          48.8425506849315,
          null,
          null,
          null,
          19.53289315068493,
          null,
          null,
          null,
          null,
          null,
          148.99564383561645,
          122.69228493150685,
          null,
          null,
          null,
          null,
          40.08523287671233,
          268.5685780821918,
          249.59169589041096,
          11.60258904109589,
          null,
          null,
          null,
          27.193493150684933,
          13.537397260273972,
          81.58370684931506,
          70.06792602739726,
          576.044605479452,
          50.18779452054794,
          163.4253095890411,
          null,
          null,
          null,
          null,
          null,
          null,
          null,
          null,
          null,
          null,
          null,
          404.3077479452055,
          87.33251780821918,
          91.24706849315069,
          null,
          null,
          61.90241369863014,
          187.29905753424657,
          null,
          91.6550410958904,
          12.24492602739726,
          null,
          null,
          161.45740547945206,
          90.93571232876714,
          null,
          null,
          null,
          53.034942465753424,
          null,
          null,
          309.6760712328767,
          null,
          63.31127397260274,
          192.91175068493152,
          null,
          44.58342465753425,
          393.40916164383566,
          81.93112054794521,
          214.6518191780822,
          null,
          46.586558904109594,
          null,
          62.94975342465754,
          34.713446575342466,
          null,
          null,
          null
         ],
         "xaxis": "x",
         "y": [
          98.91466666666666,
          89.5655,
          87.2245,
          94.55066666666669,
          null,
          90.43400000000001,
          91.14466666666665,
          28.12566666666666,
          70.55433333333333,
          81.02866666666667,
          80.90333333333334,
          32.2185,
          96.6375,
          88.754,
          82.57566666666668,
          60.56566666666667,
          90.51733333333334,
          98.21266666666668,
          90.4675,
          93.01466666666666,
          85.82866666666666,
          87.313,
          93.76666666666667,
          7.662333333333334,
          82.32,
          98.95666666666666,
          99.58266666666667,
          95.86933333333333,
          98.37333333333333,
          48.85066666666666,
          97.5925,
          99.419,
          99.0665,
          85.32666666666667,
          75.8735,
          91.05266666666667,
          98.755,
          93.62933333333335,
          92.80499999999999,
          97.80533333333334,
          83.47666666666667,
          93.95,
          69.06233333333334,
          74.423,
          99.35933333333332,
          70.33433333333333,
          90.16333333333334,
          null,
          92.61033333333334,
          null,
          92.31366666666668,
          94.28766666666667,
          93.61466666666666,
          null,
          null,
          69.21533333333333,
          97.089,
          99.41533333333332,
          97.10249999999999,
          72.66666666666667,
          81.59466666666667,
          84.11666666666666,
          98.92433333333334,
          90.585,
          71.65633333333334,
          97.05266666666667,
          79.284,
          null,
          95.53966666666668,
          98.44866666666667,
          99.6075,
          53.7855,
          98.57166666666667,
          96.15133333333334,
          83.97733333333333,
          66.413,
          93.74950000000001,
          91.85933333333334,
          74.9375,
          85.66900000000001,
          57.61166666666666,
          75.78166666666667,
          80.806,
          90.58866666666667,
          75.30966666666667,
          91.97733333333333,
          59.99100000000001,
          98.11666666666667,
          null,
          32.99433333333334,
          96.24466666666667,
          92.49166666666667,
          76.38766666666668,
          83.17033333333335,
          96.58500000000001,
          99.49033333333334,
          null,
          76.14933333333333,
          47.19166666666666,
          99.46866666666666,
          99.00166666666667,
          76.32433333333334,
          91.89750000000001,
          98.82133333333333,
          61.78299999999999,
          95.97500000000001,
          91.82249999999999,
          88.57600000000001,
          91.356,
          60.37333333333333,
          90.54050000000001,
          94.74000000000001,
          97.895,
          98.00099999999999,
          90.22333333333334,
          null,
          97.33966666666667,
          46.4615,
          73.48533333333334,
          97.01033333333334,
          99.44133333333333,
          97.959,
          null,
          88.66733333333333,
          39.47166666666667,
          35.80366666666666,
          96.7765,
          91.38633333333333,
          95.556,
          89.6575,
          93.70333333333333,
          95.47866666666665,
          78.426,
          84.20866666666666,
          0,
          87.12333333333333,
          70.61133333333333,
          98.86833333333334,
          null,
          null,
          null,
          null,
          98.5325,
          37.17433333333333,
          97.13166666666667,
          83.88266666666668,
          null,
          99.38866666666667,
          51.76500000000001,
          77.95066666666666,
          76.06433333333334,
          null,
          98.728,
          84.49133333333333,
          66.57600000000001,
          99.155,
          82.90000000000002,
          96.36666666666667,
          98.21000000000001,
          85.435,
          78.84933333333333,
          69.64833333333333,
          94.78750000000001,
          96.91666666666667,
          99.13533333333334,
          83.712,
          98.93299999999999,
          null,
          42.008,
          92.08566666666667,
          85.90066666666667,
          63.8055,
          99.158,
          87.803,
          27.85833333333333,
          81.19133333333333,
          61.28033333333334,
          85.71950000000001,
          91.87966666666667,
          null,
          86.5445,
          90.03833333333334,
          98.46000000000001,
          98.46633333333334,
          97.83866666666667
         ],
         "yaxis": "y"
        }
       ],
       "layout": {
        "legend": {
         "tracegroupgap": 0
        },
        "margin": {
         "t": 60
        },
        "template": {
         "data": {
          "bar": [
           {
            "error_x": {
             "color": "#2a3f5f"
            },
            "error_y": {
             "color": "#2a3f5f"
            },
            "marker": {
             "line": {
              "color": "#E5ECF6",
              "width": 0.5
             },
             "pattern": {
              "fillmode": "overlay",
              "size": 10,
              "solidity": 0.2
             }
            },
            "type": "bar"
           }
          ],
          "barpolar": [
           {
            "marker": {
             "line": {
              "color": "#E5ECF6",
              "width": 0.5
             },
             "pattern": {
              "fillmode": "overlay",
              "size": 10,
              "solidity": 0.2
             }
            },
            "type": "barpolar"
           }
          ],
          "carpet": [
           {
            "aaxis": {
             "endlinecolor": "#2a3f5f",
             "gridcolor": "white",
             "linecolor": "white",
             "minorgridcolor": "white",
             "startlinecolor": "#2a3f5f"
            },
            "baxis": {
             "endlinecolor": "#2a3f5f",
             "gridcolor": "white",
             "linecolor": "white",
             "minorgridcolor": "white",
             "startlinecolor": "#2a3f5f"
            },
            "type": "carpet"
           }
          ],
          "choropleth": [
           {
            "colorbar": {
             "outlinewidth": 0,
             "ticks": ""
            },
            "type": "choropleth"
           }
          ],
          "contour": [
           {
            "colorbar": {
             "outlinewidth": 0,
             "ticks": ""
            },
            "colorscale": [
             [
              0,
              "#0d0887"
             ],
             [
              0.1111111111111111,
              "#46039f"
             ],
             [
              0.2222222222222222,
              "#7201a8"
             ],
             [
              0.3333333333333333,
              "#9c179e"
             ],
             [
              0.4444444444444444,
              "#bd3786"
             ],
             [
              0.5555555555555556,
              "#d8576b"
             ],
             [
              0.6666666666666666,
              "#ed7953"
             ],
             [
              0.7777777777777778,
              "#fb9f3a"
             ],
             [
              0.8888888888888888,
              "#fdca26"
             ],
             [
              1,
              "#f0f921"
             ]
            ],
            "type": "contour"
           }
          ],
          "contourcarpet": [
           {
            "colorbar": {
             "outlinewidth": 0,
             "ticks": ""
            },
            "type": "contourcarpet"
           }
          ],
          "heatmap": [
           {
            "colorbar": {
             "outlinewidth": 0,
             "ticks": ""
            },
            "colorscale": [
             [
              0,
              "#0d0887"
             ],
             [
              0.1111111111111111,
              "#46039f"
             ],
             [
              0.2222222222222222,
              "#7201a8"
             ],
             [
              0.3333333333333333,
              "#9c179e"
             ],
             [
              0.4444444444444444,
              "#bd3786"
             ],
             [
              0.5555555555555556,
              "#d8576b"
             ],
             [
              0.6666666666666666,
              "#ed7953"
             ],
             [
              0.7777777777777778,
              "#fb9f3a"
             ],
             [
              0.8888888888888888,
              "#fdca26"
             ],
             [
              1,
              "#f0f921"
             ]
            ],
            "type": "heatmap"
           }
          ],
          "heatmapgl": [
           {
            "colorbar": {
             "outlinewidth": 0,
             "ticks": ""
            },
            "colorscale": [
             [
              0,
              "#0d0887"
             ],
             [
              0.1111111111111111,
              "#46039f"
             ],
             [
              0.2222222222222222,
              "#7201a8"
             ],
             [
              0.3333333333333333,
              "#9c179e"
             ],
             [
              0.4444444444444444,
              "#bd3786"
             ],
             [
              0.5555555555555556,
              "#d8576b"
             ],
             [
              0.6666666666666666,
              "#ed7953"
             ],
             [
              0.7777777777777778,
              "#fb9f3a"
             ],
             [
              0.8888888888888888,
              "#fdca26"
             ],
             [
              1,
              "#f0f921"
             ]
            ],
            "type": "heatmapgl"
           }
          ],
          "histogram": [
           {
            "marker": {
             "pattern": {
              "fillmode": "overlay",
              "size": 10,
              "solidity": 0.2
             }
            },
            "type": "histogram"
           }
          ],
          "histogram2d": [
           {
            "colorbar": {
             "outlinewidth": 0,
             "ticks": ""
            },
            "colorscale": [
             [
              0,
              "#0d0887"
             ],
             [
              0.1111111111111111,
              "#46039f"
             ],
             [
              0.2222222222222222,
              "#7201a8"
             ],
             [
              0.3333333333333333,
              "#9c179e"
             ],
             [
              0.4444444444444444,
              "#bd3786"
             ],
             [
              0.5555555555555556,
              "#d8576b"
             ],
             [
              0.6666666666666666,
              "#ed7953"
             ],
             [
              0.7777777777777778,
              "#fb9f3a"
             ],
             [
              0.8888888888888888,
              "#fdca26"
             ],
             [
              1,
              "#f0f921"
             ]
            ],
            "type": "histogram2d"
           }
          ],
          "histogram2dcontour": [
           {
            "colorbar": {
             "outlinewidth": 0,
             "ticks": ""
            },
            "colorscale": [
             [
              0,
              "#0d0887"
             ],
             [
              0.1111111111111111,
              "#46039f"
             ],
             [
              0.2222222222222222,
              "#7201a8"
             ],
             [
              0.3333333333333333,
              "#9c179e"
             ],
             [
              0.4444444444444444,
              "#bd3786"
             ],
             [
              0.5555555555555556,
              "#d8576b"
             ],
             [
              0.6666666666666666,
              "#ed7953"
             ],
             [
              0.7777777777777778,
              "#fb9f3a"
             ],
             [
              0.8888888888888888,
              "#fdca26"
             ],
             [
              1,
              "#f0f921"
             ]
            ],
            "type": "histogram2dcontour"
           }
          ],
          "mesh3d": [
           {
            "colorbar": {
             "outlinewidth": 0,
             "ticks": ""
            },
            "type": "mesh3d"
           }
          ],
          "parcoords": [
           {
            "line": {
             "colorbar": {
              "outlinewidth": 0,
              "ticks": ""
             }
            },
            "type": "parcoords"
           }
          ],
          "pie": [
           {
            "automargin": true,
            "type": "pie"
           }
          ],
          "scatter": [
           {
            "fillpattern": {
             "fillmode": "overlay",
             "size": 10,
             "solidity": 0.2
            },
            "type": "scatter"
           }
          ],
          "scatter3d": [
           {
            "line": {
             "colorbar": {
              "outlinewidth": 0,
              "ticks": ""
             }
            },
            "marker": {
             "colorbar": {
              "outlinewidth": 0,
              "ticks": ""
             }
            },
            "type": "scatter3d"
           }
          ],
          "scattercarpet": [
           {
            "marker": {
             "colorbar": {
              "outlinewidth": 0,
              "ticks": ""
             }
            },
            "type": "scattercarpet"
           }
          ],
          "scattergeo": [
           {
            "marker": {
             "colorbar": {
              "outlinewidth": 0,
              "ticks": ""
             }
            },
            "type": "scattergeo"
           }
          ],
          "scattergl": [
           {
            "marker": {
             "colorbar": {
              "outlinewidth": 0,
              "ticks": ""
             }
            },
            "type": "scattergl"
           }
          ],
          "scattermapbox": [
           {
            "marker": {
             "colorbar": {
              "outlinewidth": 0,
              "ticks": ""
             }
            },
            "type": "scattermapbox"
           }
          ],
          "scatterpolar": [
           {
            "marker": {
             "colorbar": {
              "outlinewidth": 0,
              "ticks": ""
             }
            },
            "type": "scatterpolar"
           }
          ],
          "scatterpolargl": [
           {
            "marker": {
             "colorbar": {
              "outlinewidth": 0,
              "ticks": ""
             }
            },
            "type": "scatterpolargl"
           }
          ],
          "scatterternary": [
           {
            "marker": {
             "colorbar": {
              "outlinewidth": 0,
              "ticks": ""
             }
            },
            "type": "scatterternary"
           }
          ],
          "surface": [
           {
            "colorbar": {
             "outlinewidth": 0,
             "ticks": ""
            },
            "colorscale": [
             [
              0,
              "#0d0887"
             ],
             [
              0.1111111111111111,
              "#46039f"
             ],
             [
              0.2222222222222222,
              "#7201a8"
             ],
             [
              0.3333333333333333,
              "#9c179e"
             ],
             [
              0.4444444444444444,
              "#bd3786"
             ],
             [
              0.5555555555555556,
              "#d8576b"
             ],
             [
              0.6666666666666666,
              "#ed7953"
             ],
             [
              0.7777777777777778,
              "#fb9f3a"
             ],
             [
              0.8888888888888888,
              "#fdca26"
             ],
             [
              1,
              "#f0f921"
             ]
            ],
            "type": "surface"
           }
          ],
          "table": [
           {
            "cells": {
             "fill": {
              "color": "#EBF0F8"
             },
             "line": {
              "color": "white"
             }
            },
            "header": {
             "fill": {
              "color": "#C8D4E3"
             },
             "line": {
              "color": "white"
             }
            },
            "type": "table"
           }
          ]
         },
         "layout": {
          "annotationdefaults": {
           "arrowcolor": "#2a3f5f",
           "arrowhead": 0,
           "arrowwidth": 1
          },
          "autotypenumbers": "strict",
          "coloraxis": {
           "colorbar": {
            "outlinewidth": 0,
            "ticks": ""
           }
          },
          "colorscale": {
           "diverging": [
            [
             0,
             "#8e0152"
            ],
            [
             0.1,
             "#c51b7d"
            ],
            [
             0.2,
             "#de77ae"
            ],
            [
             0.3,
             "#f1b6da"
            ],
            [
             0.4,
             "#fde0ef"
            ],
            [
             0.5,
             "#f7f7f7"
            ],
            [
             0.6,
             "#e6f5d0"
            ],
            [
             0.7,
             "#b8e186"
            ],
            [
             0.8,
             "#7fbc41"
            ],
            [
             0.9,
             "#4d9221"
            ],
            [
             1,
             "#276419"
            ]
           ],
           "sequential": [
            [
             0,
             "#0d0887"
            ],
            [
             0.1111111111111111,
             "#46039f"
            ],
            [
             0.2222222222222222,
             "#7201a8"
            ],
            [
             0.3333333333333333,
             "#9c179e"
            ],
            [
             0.4444444444444444,
             "#bd3786"
            ],
            [
             0.5555555555555556,
             "#d8576b"
            ],
            [
             0.6666666666666666,
             "#ed7953"
            ],
            [
             0.7777777777777778,
             "#fb9f3a"
            ],
            [
             0.8888888888888888,
             "#fdca26"
            ],
            [
             1,
             "#f0f921"
            ]
           ],
           "sequentialminus": [
            [
             0,
             "#0d0887"
            ],
            [
             0.1111111111111111,
             "#46039f"
            ],
            [
             0.2222222222222222,
             "#7201a8"
            ],
            [
             0.3333333333333333,
             "#9c179e"
            ],
            [
             0.4444444444444444,
             "#bd3786"
            ],
            [
             0.5555555555555556,
             "#d8576b"
            ],
            [
             0.6666666666666666,
             "#ed7953"
            ],
            [
             0.7777777777777778,
             "#fb9f3a"
            ],
            [
             0.8888888888888888,
             "#fdca26"
            ],
            [
             1,
             "#f0f921"
            ]
           ]
          },
          "colorway": [
           "#636efa",
           "#EF553B",
           "#00cc96",
           "#ab63fa",
           "#FFA15A",
           "#19d3f3",
           "#FF6692",
           "#B6E880",
           "#FF97FF",
           "#FECB52"
          ],
          "font": {
           "color": "#2a3f5f"
          },
          "geo": {
           "bgcolor": "white",
           "lakecolor": "white",
           "landcolor": "#E5ECF6",
           "showlakes": true,
           "showland": true,
           "subunitcolor": "white"
          },
          "hoverlabel": {
           "align": "left"
          },
          "hovermode": "closest",
          "mapbox": {
           "style": "light"
          },
          "paper_bgcolor": "white",
          "plot_bgcolor": "#E5ECF6",
          "polar": {
           "angularaxis": {
            "gridcolor": "white",
            "linecolor": "white",
            "ticks": ""
           },
           "bgcolor": "#E5ECF6",
           "radialaxis": {
            "gridcolor": "white",
            "linecolor": "white",
            "ticks": ""
           }
          },
          "scene": {
           "xaxis": {
            "backgroundcolor": "#E5ECF6",
            "gridcolor": "white",
            "gridwidth": 2,
            "linecolor": "white",
            "showbackground": true,
            "ticks": "",
            "zerolinecolor": "white"
           },
           "yaxis": {
            "backgroundcolor": "#E5ECF6",
            "gridcolor": "white",
            "gridwidth": 2,
            "linecolor": "white",
            "showbackground": true,
            "ticks": "",
            "zerolinecolor": "white"
           },
           "zaxis": {
            "backgroundcolor": "#E5ECF6",
            "gridcolor": "white",
            "gridwidth": 2,
            "linecolor": "white",
            "showbackground": true,
            "ticks": "",
            "zerolinecolor": "white"
           }
          },
          "shapedefaults": {
           "line": {
            "color": "#2a3f5f"
           }
          },
          "ternary": {
           "aaxis": {
            "gridcolor": "white",
            "linecolor": "white",
            "ticks": ""
           },
           "baxis": {
            "gridcolor": "white",
            "linecolor": "white",
            "ticks": ""
           },
           "bgcolor": "#E5ECF6",
           "caxis": {
            "gridcolor": "white",
            "linecolor": "white",
            "ticks": ""
           }
          },
          "title": {
           "x": 0.05
          },
          "xaxis": {
           "automargin": true,
           "gridcolor": "white",
           "linecolor": "white",
           "ticks": "",
           "title": {
            "standoff": 15
           },
           "zerolinecolor": "white",
           "zerolinewidth": 2
          },
          "yaxis": {
           "automargin": true,
           "gridcolor": "white",
           "linecolor": "white",
           "ticks": "",
           "title": {
            "standoff": 15
           },
           "zerolinecolor": "white",
           "zerolinewidth": 2
          }
         }
        },
        "xaxis": {
         "anchor": "y",
         "domain": [
          0,
          1
         ],
         "title": {
          "text": "Energy per capita, kWh/(day.person)"
         }
        },
        "yaxis": {
         "anchor": "x",
         "domain": [
          0,
          1
         ],
         "title": {
          "text": "Goal 13 Score"
         }
        }
       }
      }
     },
     "metadata": {},
     "output_type": "display_data"
    }
   ],
   "source": [
    "# plot energy_per_gdp vs sdg score in an interactive plot\n",
    "import plotly.express as px\n",
    "fig = px.scatter(df, x='energy_per_capita', y='Goal 13 Score', hover_data=['country'])\n",
    "fig.update_xaxes(title_text='Energy per capita, kWh/(day.person)')\n",
    "fig.show()\n",
    "\n",
    "# plt.figure(figsize=(10, 6))\n",
    "# plt.scatter(df['energy_per_capita']/365, df['Goal 1 Score'], color='blue', alpha=0.5)\n",
    "# plt.xlabel('Energy per capita, kWh/(day.person)')\n",
    "# plt.ylabel('Goal 7 Score')"
   ]
  },
  {
   "cell_type": "code",
   "execution_count": 43,
   "metadata": {},
   "outputs": [
    {
     "name": "stderr",
     "output_type": "stream",
     "text": [
      "c:\\Users\\aaeft\\venvs\\myccs\\Lib\\site-packages\\seaborn\\_oldcore.py:1498: FutureWarning:\n",
      "\n",
      "is_categorical_dtype is deprecated and will be removed in a future version. Use isinstance(dtype, CategoricalDtype) instead\n",
      "\n",
      "c:\\Users\\aaeft\\venvs\\myccs\\Lib\\site-packages\\seaborn\\_oldcore.py:1498: FutureWarning:\n",
      "\n",
      "is_categorical_dtype is deprecated and will be removed in a future version. Use isinstance(dtype, CategoricalDtype) instead\n",
      "\n"
     ]
    },
    {
     "data": {
      "image/png": "[encoded data removed]",
      "text/plain": [
       "<Figure size 1000x600 with 1 Axes>"
      ]
     },
     "metadata": {},
     "output_type": "display_data"
    }
   ],
   "source": [
    "# plot energy_per_gdp vs sdg score 1 with seaborn\n",
    "sns.set_theme(style='white')\n",
    "plt.figure(figsize=(10, 6))\n",
    "sns.scatterplot(data=df, x='energy_per_capita', y='Goal 1 Score')\n",
    "plt.xlabel('Energy per capita, kWh/(day.person)')\n",
    "# plt.ylabel('Goal 1 Score')\n",
    "plt.show()\n",
    "\n"
   ]
  },
  {
   "cell_type": "code",
   "execution_count": 5,
   "metadata": {},
   "outputs": [
    {
     "data": {
      "application/vnd.plotly.v1+json": {
       "config": {
        "plotlyServerURL": "https://plot.ly"
       },
       "data": [
        {
         "customdata": [
          [
           "Afghanistan"
          ],
          [
           "Albania"
          ],
          [
           "Algeria"
          ],
          [
           "Angola"
          ],
          [
           "Antigua and Barbuda"
          ],
          [
           "Argentina"
          ],
          [
           "Armenia"
          ],
          [
           "Australia"
          ],
          [
           "Austria"
          ],
          [
           "Azerbaijan"
          ],
          [
           "Bahamas, The"
          ],
          [
           "Bahrain"
          ],
          [
           "Bangladesh"
          ],
          [
           "Barbados"
          ],
          [
           "Belarus"
          ],
          [
           "Belgium"
          ],
          [
           "Belize"
          ],
          [
           "Benin"
          ],
          [
           "Bhutan"
          ],
          [
           "Bolivia"
          ],
          [
           "Bosnia and Herzegovina"
          ],
          [
           "Botswana"
          ],
          [
           "Brazil"
          ],
          [
           "Brunei Darussalam"
          ],
          [
           "Bulgaria"
          ],
          [
           "Burkina Faso"
          ],
          [
           "Burundi"
          ],
          [
           "Cambodia"
          ],
          [
           "Cameroon"
          ],
          [
           "Canada"
          ],
          [
           "Cabo Verde"
          ],
          [
           "Central African Republic"
          ],
          [
           "Chad"
          ],
          [
           "Chile"
          ],
          [
           "China"
          ],
          [
           "Colombia"
          ],
          [
           "Comoros"
          ],
          [
           "Congo, Rep."
          ],
          [
           "Costa Rica"
          ],
          [
           "Cote d'Ivoire"
          ],
          [
           "Croatia"
          ],
          [
           "Cuba"
          ],
          [
           "Cyprus"
          ],
          [
           "Czechia"
          ],
          [
           "Congo, Dem. Rep."
          ],
          [
           "Denmark"
          ],
          [
           "Djibouti"
          ],
          [
           "Dominica"
          ],
          [
           "Dominican Republic"
          ],
          [
           "Timor-Leste"
          ],
          [
           "Ecuador"
          ],
          [
           "Egypt, Arab Rep."
          ],
          [
           "El Salvador"
          ],
          [
           "Equatorial Guinea"
          ],
          [
           "Eritrea"
          ],
          [
           "Estonia"
          ],
          [
           "Eswatini"
          ],
          [
           "Ethiopia"
          ],
          [
           "Fiji"
          ],
          [
           "Finland"
          ],
          [
           "France"
          ],
          [
           "Gabon"
          ],
          [
           "Gambia, The"
          ],
          [
           "Georgia"
          ],
          [
           "Germany"
          ],
          [
           "Ghana"
          ],
          [
           "Greece"
          ],
          [
           "Grenada"
          ],
          [
           "Guatemala"
          ],
          [
           "Guinea"
          ],
          [
           "Guinea-Bissau"
          ],
          [
           "Guyana"
          ],
          [
           "Haiti"
          ],
          [
           "Honduras"
          ],
          [
           "Hungary"
          ],
          [
           "Iceland"
          ],
          [
           "India"
          ],
          [
           "Indonesia"
          ],
          [
           "Iran, Islamic Rep."
          ],
          [
           "Iraq"
          ],
          [
           "Ireland"
          ],
          [
           "Israel"
          ],
          [
           "Italy"
          ],
          [
           "Jamaica"
          ],
          [
           "Japan"
          ],
          [
           "Jordan"
          ],
          [
           "Kazakhstan"
          ],
          [
           "Kenya"
          ],
          [
           "Kiribati"
          ],
          [
           "Kuwait"
          ],
          [
           "Kyrgyz Republic"
          ],
          [
           "Lao PDR"
          ],
          [
           "Latvia"
          ],
          [
           "Lebanon"
          ],
          [
           "Lesotho"
          ],
          [
           "Liberia"
          ],
          [
           "Libya"
          ],
          [
           "Lithuania"
          ],
          [
           "Luxembourg"
          ],
          [
           "Madagascar"
          ],
          [
           "Malawi"
          ],
          [
           "Malaysia"
          ],
          [
           "Maldives"
          ],
          [
           "Mali"
          ],
          [
           "Malta"
          ],
          [
           "Mauritania"
          ],
          [
           "Mauritius"
          ],
          [
           "Mexico"
          ],
          [
           "Moldova"
          ],
          [
           "Mongolia"
          ],
          [
           "Montenegro"
          ],
          [
           "Morocco"
          ],
          [
           "Mozambique"
          ],
          [
           "Myanmar"
          ],
          [
           "Namibia"
          ],
          [
           "Nauru"
          ],
          [
           "Nepal"
          ],
          [
           "Netherlands"
          ],
          [
           "New Zealand"
          ],
          [
           "Nicaragua"
          ],
          [
           "Niger"
          ],
          [
           "Nigeria"
          ],
          [
           "Korea, Dem. Rep."
          ],
          [
           "North Macedonia"
          ],
          [
           "Norway"
          ],
          [
           "Oman"
          ],
          [
           "Pakistan"
          ],
          [
           "Panama"
          ],
          [
           "Papua New Guinea"
          ],
          [
           "Paraguay"
          ],
          [
           "Peru"
          ],
          [
           "Philippines"
          ],
          [
           "Poland"
          ],
          [
           "Portugal"
          ],
          [
           "Qatar"
          ],
          [
           "Romania"
          ],
          [
           "Russian Federation"
          ],
          [
           "Rwanda"
          ],
          [
           "St. Kitts and Nevis"
          ],
          [
           "St. Lucia"
          ],
          [
           "St. Vincent and the Grenadines"
          ],
          [
           "Samoa"
          ],
          [
           "Sao Tome and Principe"
          ],
          [
           "Saudi Arabia"
          ],
          [
           "Senegal"
          ],
          [
           "Serbia"
          ],
          [
           "Seychelles"
          ],
          [
           "Sierra Leone"
          ],
          [
           "Singapore"
          ],
          [
           "Slovak Republic"
          ],
          [
           "Slovenia"
          ],
          [
           "Solomon Islands"
          ],
          [
           "Somalia"
          ],
          [
           "South Africa"
          ],
          [
           "Korea, Rep."
          ],
          [
           "South Sudan"
          ],
          [
           "Spain"
          ],
          [
           "Sri Lanka"
          ],
          [
           "Sudan"
          ],
          [
           "Suriname"
          ],
          [
           "Sweden"
          ],
          [
           "Switzerland"
          ],
          [
           "Syrian Arab Republic"
          ],
          [
           "Tajikistan"
          ],
          [
           "Tanzania"
          ],
          [
           "Thailand"
          ],
          [
           "Togo"
          ],
          [
           "Tonga"
          ],
          [
           "Trinidad and Tobago"
          ],
          [
           "Tunisia"
          ],
          [
           "Türkiye"
          ],
          [
           "Turkmenistan"
          ],
          [
           "Uganda"
          ],
          [
           "Ukraine"
          ],
          [
           "United Arab Emirates"
          ],
          [
           "United Kingdom"
          ],
          [
           "United States"
          ],
          [
           "Uruguay"
          ],
          [
           "Uzbekistan"
          ],
          [
           "Vanuatu"
          ],
          [
           "Venezuela, RB"
          ],
          [
           "Vietnam"
          ],
          [
           "Yemen, Rep."
          ],
          [
           "Zambia"
          ],
          [
           "Zimbabwe"
          ]
         ],
         "hovertemplate": "energy_per_capita=%{x}<br>gdp_per_capita=%{y}<br>country=%{customdata[0]}<extra></extra>",
         "legendgroup": "",
         "marker": {
          "color": "#636efa",
          "symbol": "circle"
         },
         "mode": "markers",
         "name": "",
         "orientation": "v",
         "showlegend": false,
         "type": "scatter",
         "x": [
          null,
          null,
          44.795945205479455,
          null,
          null,
          61.968835616438355,
          null,
          173.84182465753426,
          116.38788493150685,
          55.62100821917809,
          null,
          null,
          8.289846575342466,
          null,
          84.57201917808219,
          163.23909589041094,
          null,
          null,
          null,
          null,
          null,
          null,
          47.48985479452055,
          null,
          92.7018301369863,
          null,
          null,
          null,
          null,
          282.98816438356164,
          null,
          null,
          null,
          70.36753424657535,
          85.53445479452056,
          32.220701369863015,
          null,
          null,
          null,
          null,
          63.33251780821917,
          null,
          69.3406301369863,
          118.9803397260274,
          null,
          91.88437534246575,
          null,
          null,
          null,
          null,
          33.8989698630137,
          27.311835616438355,
          null,
          null,
          null,
          130.9716301369863,
          null,
          null,
          null,
          158.5908493150685,
          97.44317260273974,
          null,
          null,
          null,
          112.15909589041095,
          null,
          82.92736986301371,
          null,
          null,
          null,
          null,
          null,
          null,
          null,
          73.39529589041096,
          468.2590739726028,
          19.53180821917808,
          27.759323287671233,
          107.26393424657535,
          40.86192876712329,
          101.43096164383562,
          93.55874246575343,
          79.73813150684931,
          null,
          110.62375890410958,
          null,
          115.71350684931507,
          null,
          null,
          277.5097589041096,
          null,
          null,
          56.95866301369863,
          null,
          null,
          null,
          null,
          64.8218,
          163.9925095890411,
          null,
          null,
          107.47001369863014,
          null,
          null,
          null,
          null,
          null,
          48.8425506849315,
          null,
          null,
          null,
          19.53289315068493,
          null,
          null,
          null,
          null,
          null,
          148.99564383561645,
          122.69228493150685,
          null,
          null,
          null,
          null,
          40.08523287671233,
          268.5685780821918,
          249.59169589041096,
          11.60258904109589,
          null,
          null,
          null,
          27.193493150684933,
          13.537397260273972,
          81.58370684931506,
          70.06792602739726,
          576.044605479452,
          50.18779452054794,
          163.4253095890411,
          null,
          null,
          null,
          null,
          null,
          null,
          null,
          null,
          null,
          null,
          null,
          404.3077479452055,
          87.33251780821918,
          91.24706849315069,
          null,
          null,
          61.90241369863014,
          187.29905753424657,
          null,
          91.6550410958904,
          12.24492602739726,
          null,
          null,
          161.45740547945206,
          90.93571232876714,
          null,
          null,
          null,
          53.034942465753424,
          null,
          null,
          309.6760712328767,
          null,
          63.31127397260274,
          192.91175068493152,
          null,
          44.58342465753425,
          393.40916164383566,
          81.93112054794521,
          214.6518191780822,
          null,
          46.586558904109594,
          null,
          62.94975342465754,
          34.713446575342466,
          null,
          null,
          null
         ],
         "xaxis": "x",
         "y": [
          1296.0141899690075,
          12725.882871656162,
          13268.979675848694,
          4449.303604743443,
          null,
          18785.062966196416,
          14285.968045713102,
          51351.584988736475,
          44612.13448406123,
          16930.800414517056,
          null,
          39918.68174485494,
          5012.92203379185,
          12100.317022077359,
          18434.674547842696,
          42011.12221074213,
          null,
          2493.1252860809486,
          null,
          6394.35393747146,
          14556.58025254134,
          14938.96832452572,
          14803.591187220658,
          null,
          20405.64400088175,
          1645.9746981577475,
          711.9762319696456,
          3884.6119842071594,
          2963.609316463082,
          45802.272180338194,
          7166.937005404931,
          672.5142577325427,
          1360.8072748479517,
          22870.03356013364,
          18911.744318743382,
          14317.704374759562,
          2010.171162655073,
          3966.0478082818154,
          15508.288432214415,
          4313.552420925899,
          25378.532704142384,
          7505.662512203227,
          27371.337405273065,
          32682.214206036027,
          922.2784344597329,
          50903.7434876635,
          3029.5565922678393,
          9278.677038951044,
          17026.04154648115,
          null,
          9723.285368225614,
          13158.177858896526,
          9354.049619081392,
          12055.159456354826,
          null,
          30164.348508065978,
          7984.580520604487,
          2188.17783041663,
          null,
          40816.68441048993,
          41338.51628307244,
          15083.858700534158,
          1720.9172965951527,
          18835.83184100994,
          46894.80911101664,
          4344.379144978159,
          25411.01513841347,
          null,
          8194.650797801423,
          1708.4682081387805,
          1547.941146857398,
          null,
          1514.9687602152542,
          4767.46222214469,
          28632.138468737383,
          42958.99997586504,
          7392.35610615025,
          12704.45153533625,
          17754.9288358715,
          11858.09609915686,
          61394.44347842014,
          37255.023030957214,
          36180.569231961694,
          7080.481016007034,
          38518.9947888087,
          8796.998893572718,
          25963.19823602415,
          3523.4318343604527,
          null,
          51292.35867905585,
          4781.301945624701,
          7298.501885323509,
          27692.091690829297,
          8878.685012634469,
          2065.08357178729,
          798.0027042878237,
          13423.350017556366,
          30840.8979650611,
          55787.99044473372,
          1303.6118590620106,
          1296.9830551035764,
          25858.2887029772,
          null,
          1352.2009666632114,
          34305.971029059074,
          3309.557000987723,
          20768.78155690208,
          15948.015159478768,
          7280.050493233563,
          13185.564343878674,
          20371.179526760454,
          8320.123154545243,
          953.6603942065277,
          5371.516947428199,
          8515.203610094803,
          null,
          3141.521987629399,
          50080.170639751035,
          38686.90120531373,
          4715.446170230679,
          945.3896602950964,
          5191.005284934445,
          1553.1168557055516,
          13741.962359679901,
          88755.92344659612,
          38755.11092891637,
          5592.433754839354,
          21494.92132935261,
          null,
          9604.79016627229,
          10034.706958333827,
          8781.755904585129,
          30885.8376100405,
          28791.45483731299,
          141654.74710654138,
          25674.486317345454,
          25785.05559770479,
          2066.260402816291,
          null,
          9724.060487457748,
          null,
          null,
          3629.1284252373644,
          50094.62207996611,
          2997.957909622595,
          16179.024308008251,
          28500.191944742615,
          1357.3840087578928,
          77279.9802560006,
          26643.328324226914,
          32731.361271565867,
          null,
          null,
          12080.68786295442,
          41253.020970279955,
          null,
          34171.29344780144,
          11668.507520514471,
          null,
          null,
          46847.871409695515,
          63999.40607685787,
          2366.2176751784227,
          5078.376444632756,
          3026.369744353974,
          15679.084903049812,
          1612.175731124346,
          null,
          24501.848697913774,
          10477.237588899296,
          27958.30235545653,
          15161.922934040475,
          2158.6520859398815,
          7787.23145824526,
          82585.54406640386,
          38739.02849056901,
          57622.686878130924,
          20178.3067737604,
          11365.844145810885,
          null,
          5288.801072444411,
          8492.010841369643,
          1805.9083817684698,
          3420.458242742537,
          1587.0545961747955
         ],
         "yaxis": "y"
        }
       ],
       "layout": {
        "legend": {
         "tracegroupgap": 0
        },
        "margin": {
         "t": 60
        },
        "template": {
         "data": {
          "bar": [
           {
            "error_x": {
             "color": "#2a3f5f"
            },
            "error_y": {
             "color": "#2a3f5f"
            },
            "marker": {
             "line": {
              "color": "#E5ECF6",
              "width": 0.5
             },
             "pattern": {
              "fillmode": "overlay",
              "size": 10,
              "solidity": 0.2
             }
            },
            "type": "bar"
           }
          ],
          "barpolar": [
           {
            "marker": {
             "line": {
              "color": "#E5ECF6",
              "width": 0.5
             },
             "pattern": {
              "fillmode": "overlay",
              "size": 10,
              "solidity": 0.2
             }
            },
            "type": "barpolar"
           }
          ],
          "carpet": [
           {
            "aaxis": {
             "endlinecolor": "#2a3f5f",
             "gridcolor": "white",
             "linecolor": "white",
             "minorgridcolor": "white",
             "startlinecolor": "#2a3f5f"
            },
            "baxis": {
             "endlinecolor": "#2a3f5f",
             "gridcolor": "white",
             "linecolor": "white",
             "minorgridcolor": "white",
             "startlinecolor": "#2a3f5f"
            },
            "type": "carpet"
           }
          ],
          "choropleth": [
           {
            "colorbar": {
             "outlinewidth": 0,
             "ticks": ""
            },
            "type": "choropleth"
           }
          ],
          "contour": [
           {
            "colorbar": {
             "outlinewidth": 0,
             "ticks": ""
            },
            "colorscale": [
             [
              0,
              "#0d0887"
             ],
             [
              0.1111111111111111,
              "#46039f"
             ],
             [
              0.2222222222222222,
              "#7201a8"
             ],
             [
              0.3333333333333333,
              "#9c179e"
             ],
             [
              0.4444444444444444,
              "#bd3786"
             ],
             [
              0.5555555555555556,
              "#d8576b"
             ],
             [
              0.6666666666666666,
              "#ed7953"
             ],
             [
              0.7777777777777778,
              "#fb9f3a"
             ],
             [
              0.8888888888888888,
              "#fdca26"
             ],
             [
              1,
              "#f0f921"
             ]
            ],
            "type": "contour"
           }
          ],
          "contourcarpet": [
           {
            "colorbar": {
             "outlinewidth": 0,
             "ticks": ""
            },
            "type": "contourcarpet"
           }
          ],
          "heatmap": [
           {
            "colorbar": {
             "outlinewidth": 0,
             "ticks": ""
            },
            "colorscale": [
             [
              0,
              "#0d0887"
             ],
             [
              0.1111111111111111,
              "#46039f"
             ],
             [
              0.2222222222222222,
              "#7201a8"
             ],
             [
              0.3333333333333333,
              "#9c179e"
             ],
             [
              0.4444444444444444,
              "#bd3786"
             ],
             [
              0.5555555555555556,
              "#d8576b"
             ],
             [
              0.6666666666666666,
              "#ed7953"
             ],
             [
              0.7777777777777778,
              "#fb9f3a"
             ],
             [
              0.8888888888888888,
              "#fdca26"
             ],
             [
              1,
              "#f0f921"
             ]
            ],
            "type": "heatmap"
           }
          ],
          "heatmapgl": [
           {
            "colorbar": {
             "outlinewidth": 0,
             "ticks": ""
            },
            "colorscale": [
             [
              0,
              "#0d0887"
             ],
             [
              0.1111111111111111,
              "#46039f"
             ],
             [
              0.2222222222222222,
              "#7201a8"
             ],
             [
              0.3333333333333333,
              "#9c179e"
             ],
             [
              0.4444444444444444,
              "#bd3786"
             ],
             [
              0.5555555555555556,
              "#d8576b"
             ],
             [
              0.6666666666666666,
              "#ed7953"
             ],
             [
              0.7777777777777778,
              "#fb9f3a"
             ],
             [
              0.8888888888888888,
              "#fdca26"
             ],
             [
              1,
              "#f0f921"
             ]
            ],
            "type": "heatmapgl"
           }
          ],
          "histogram": [
           {
            "marker": {
             "pattern": {
              "fillmode": "overlay",
              "size": 10,
              "solidity": 0.2
             }
            },
            "type": "histogram"
           }
          ],
          "histogram2d": [
           {
            "colorbar": {
             "outlinewidth": 0,
             "ticks": ""
            },
            "colorscale": [
             [
              0,
              "#0d0887"
             ],
             [
              0.1111111111111111,
              "#46039f"
             ],
             [
              0.2222222222222222,
              "#7201a8"
             ],
             [
              0.3333333333333333,
              "#9c179e"
             ],
             [
              0.4444444444444444,
              "#bd3786"
             ],
             [
              0.5555555555555556,
              "#d8576b"
             ],
             [
              0.6666666666666666,
              "#ed7953"
             ],
             [
              0.7777777777777778,
              "#fb9f3a"
             ],
             [
              0.8888888888888888,
              "#fdca26"
             ],
             [
              1,
              "#f0f921"
             ]
            ],
            "type": "histogram2d"
           }
          ],
          "histogram2dcontour": [
           {
            "colorbar": {
             "outlinewidth": 0,
             "ticks": ""
            },
            "colorscale": [
             [
              0,
              "#0d0887"
             ],
             [
              0.1111111111111111,
              "#46039f"
             ],
             [
              0.2222222222222222,
              "#7201a8"
             ],
             [
              0.3333333333333333,
              "#9c179e"
             ],
             [
              0.4444444444444444,
              "#bd3786"
             ],
             [
              0.5555555555555556,
              "#d8576b"
             ],
             [
              0.6666666666666666,
              "#ed7953"
             ],
             [
              0.7777777777777778,
              "#fb9f3a"
             ],
             [
              0.8888888888888888,
              "#fdca26"
             ],
             [
              1,
              "#f0f921"
             ]
            ],
            "type": "histogram2dcontour"
           }
          ],
          "mesh3d": [
           {
            "colorbar": {
             "outlinewidth": 0,
             "ticks": ""
            },
            "type": "mesh3d"
           }
          ],
          "parcoords": [
           {
            "line": {
             "colorbar": {
              "outlinewidth": 0,
              "ticks": ""
             }
            },
            "type": "parcoords"
           }
          ],
          "pie": [
           {
            "automargin": true,
            "type": "pie"
           }
          ],
          "scatter": [
           {
            "fillpattern": {
             "fillmode": "overlay",
             "size": 10,
             "solidity": 0.2
            },
            "type": "scatter"
           }
          ],
          "scatter3d": [
           {
            "line": {
             "colorbar": {
              "outlinewidth": 0,
              "ticks": ""
             }
            },
            "marker": {
             "colorbar": {
              "outlinewidth": 0,
              "ticks": ""
             }
            },
            "type": "scatter3d"
           }
          ],
          "scattercarpet": [
           {
            "marker": {
             "colorbar": {
              "outlinewidth": 0,
              "ticks": ""
             }
            },
            "type": "scattercarpet"
           }
          ],
          "scattergeo": [
           {
            "marker": {
             "colorbar": {
              "outlinewidth": 0,
              "ticks": ""
             }
            },
            "type": "scattergeo"
           }
          ],
          "scattergl": [
           {
            "marker": {
             "colorbar": {
              "outlinewidth": 0,
              "ticks": ""
             }
            },
            "type": "scattergl"
           }
          ],
          "scattermapbox": [
           {
            "marker": {
             "colorbar": {
              "outlinewidth": 0,
              "ticks": ""
             }
            },
            "type": "scattermapbox"
           }
          ],
          "scatterpolar": [
           {
            "marker": {
             "colorbar": {
              "outlinewidth": 0,
              "ticks": ""
             }
            },
            "type": "scatterpolar"
           }
          ],
          "scatterpolargl": [
           {
            "marker": {
             "colorbar": {
              "outlinewidth": 0,
              "ticks": ""
             }
            },
            "type": "scatterpolargl"
           }
          ],
          "scatterternary": [
           {
            "marker": {
             "colorbar": {
              "outlinewidth": 0,
              "ticks": ""
             }
            },
            "type": "scatterternary"
           }
          ],
          "surface": [
           {
            "colorbar": {
             "outlinewidth": 0,
             "ticks": ""
            },
            "colorscale": [
             [
              0,
              "#0d0887"
             ],
             [
              0.1111111111111111,
              "#46039f"
             ],
             [
              0.2222222222222222,
              "#7201a8"
             ],
             [
              0.3333333333333333,
              "#9c179e"
             ],
             [
              0.4444444444444444,
              "#bd3786"
             ],
             [
              0.5555555555555556,
              "#d8576b"
             ],
             [
              0.6666666666666666,
              "#ed7953"
             ],
             [
              0.7777777777777778,
              "#fb9f3a"
             ],
             [
              0.8888888888888888,
              "#fdca26"
             ],
             [
              1,
              "#f0f921"
             ]
            ],
            "type": "surface"
           }
          ],
          "table": [
           {
            "cells": {
             "fill": {
              "color": "#EBF0F8"
             },
             "line": {
              "color": "white"
             }
            },
            "header": {
             "fill": {
              "color": "#C8D4E3"
             },
             "line": {
              "color": "white"
             }
            },
            "type": "table"
           }
          ]
         },
         "layout": {
          "annotationdefaults": {
           "arrowcolor": "#2a3f5f",
           "arrowhead": 0,
           "arrowwidth": 1
          },
          "autotypenumbers": "strict",
          "coloraxis": {
           "colorbar": {
            "outlinewidth": 0,
            "ticks": ""
           }
          },
          "colorscale": {
           "diverging": [
            [
             0,
             "#8e0152"
            ],
            [
             0.1,
             "#c51b7d"
            ],
            [
             0.2,
             "#de77ae"
            ],
            [
             0.3,
             "#f1b6da"
            ],
            [
             0.4,
             "#fde0ef"
            ],
            [
             0.5,
             "#f7f7f7"
            ],
            [
             0.6,
             "#e6f5d0"
            ],
            [
             0.7,
             "#b8e186"
            ],
            [
             0.8,
             "#7fbc41"
            ],
            [
             0.9,
             "#4d9221"
            ],
            [
             1,
             "#276419"
            ]
           ],
           "sequential": [
            [
             0,
             "#0d0887"
            ],
            [
             0.1111111111111111,
             "#46039f"
            ],
            [
             0.2222222222222222,
             "#7201a8"
            ],
            [
             0.3333333333333333,
             "#9c179e"
            ],
            [
             0.4444444444444444,
             "#bd3786"
            ],
            [
             0.5555555555555556,
             "#d8576b"
            ],
            [
             0.6666666666666666,
             "#ed7953"
            ],
            [
             0.7777777777777778,
             "#fb9f3a"
            ],
            [
             0.8888888888888888,
             "#fdca26"
            ],
            [
             1,
             "#f0f921"
            ]
           ],
           "sequentialminus": [
            [
             0,
             "#0d0887"
            ],
            [
             0.1111111111111111,
             "#46039f"
            ],
            [
             0.2222222222222222,
             "#7201a8"
            ],
            [
             0.3333333333333333,
             "#9c179e"
            ],
            [
             0.4444444444444444,
             "#bd3786"
            ],
            [
             0.5555555555555556,
             "#d8576b"
            ],
            [
             0.6666666666666666,
             "#ed7953"
            ],
            [
             0.7777777777777778,
             "#fb9f3a"
            ],
            [
             0.8888888888888888,
             "#fdca26"
            ],
            [
             1,
             "#f0f921"
            ]
           ]
          },
          "colorway": [
           "#636efa",
           "#EF553B",
           "#00cc96",
           "#ab63fa",
           "#FFA15A",
           "#19d3f3",
           "#FF6692",
           "#B6E880",
           "#FF97FF",
           "#FECB52"
          ],
          "font": {
           "color": "#2a3f5f"
          },
          "geo": {
           "bgcolor": "white",
           "lakecolor": "white",
           "landcolor": "#E5ECF6",
           "showlakes": true,
           "showland": true,
           "subunitcolor": "white"
          },
          "hoverlabel": {
           "align": "left"
          },
          "hovermode": "closest",
          "mapbox": {
           "style": "light"
          },
          "paper_bgcolor": "white",
          "plot_bgcolor": "#E5ECF6",
          "polar": {
           "angularaxis": {
            "gridcolor": "white",
            "linecolor": "white",
            "ticks": ""
           },
           "bgcolor": "#E5ECF6",
           "radialaxis": {
            "gridcolor": "white",
            "linecolor": "white",
            "ticks": ""
           }
          },
          "scene": {
           "xaxis": {
            "backgroundcolor": "#E5ECF6",
            "gridcolor": "white",
            "gridwidth": 2,
            "linecolor": "white",
            "showbackground": true,
            "ticks": "",
            "zerolinecolor": "white"
           },
           "yaxis": {
            "backgroundcolor": "#E5ECF6",
            "gridcolor": "white",
            "gridwidth": 2,
            "linecolor": "white",
            "showbackground": true,
            "ticks": "",
            "zerolinecolor": "white"
           },
           "zaxis": {
            "backgroundcolor": "#E5ECF6",
            "gridcolor": "white",
            "gridwidth": 2,
            "linecolor": "white",
            "showbackground": true,
            "ticks": "",
            "zerolinecolor": "white"
           }
          },
          "shapedefaults": {
           "line": {
            "color": "#2a3f5f"
           }
          },
          "ternary": {
           "aaxis": {
            "gridcolor": "white",
            "linecolor": "white",
            "ticks": ""
           },
           "baxis": {
            "gridcolor": "white",
            "linecolor": "white",
            "ticks": ""
           },
           "bgcolor": "#E5ECF6",
           "caxis": {
            "gridcolor": "white",
            "linecolor": "white",
            "ticks": ""
           }
          },
          "title": {
           "x": 0.05
          },
          "xaxis": {
           "automargin": true,
           "gridcolor": "white",
           "linecolor": "white",
           "ticks": "",
           "title": {
            "standoff": 15
           },
           "zerolinecolor": "white",
           "zerolinewidth": 2
          },
          "yaxis": {
           "automargin": true,
           "gridcolor": "white",
           "linecolor": "white",
           "ticks": "",
           "title": {
            "standoff": 15
           },
           "zerolinecolor": "white",
           "zerolinewidth": 2
          }
         }
        },
        "xaxis": {
         "anchor": "y",
         "domain": [
          0,
          1
         ],
         "title": {
          "text": "Energy per capita, kWh/(day.person)"
         }
        },
        "yaxis": {
         "anchor": "x",
         "domain": [
          0,
          1
         ],
         "title": {
          "text": "GDP per capita, $"
         }
        }
       }
      }
     },
     "metadata": {},
     "output_type": "display_data"
    }
   ],
   "source": [
    "# plot gdp vs energy_per_capita in an interactive plot\n",
    "fig = px.scatter(df, x='energy_per_capita', y='gdp_per_capita', hover_data=['country'])\n",
    "# label x and y axis\n",
    "fig.update_xaxes(title_text='Energy per capita, kWh/(day.person)')\n",
    "fig.update_yaxes(title_text='GDP per capita, $')\n",
    "fig.show()"
   ]
  },
  {
   "cell_type": "code",
   "execution_count": 17,
   "metadata": {},
   "outputs": [
    {
     "name": "stderr",
     "output_type": "stream",
     "text": [
      "c:\\Users\\aaeft\\venvs\\myccs\\Lib\\site-packages\\seaborn\\_oldcore.py:1498: FutureWarning:\n",
      "\n",
      "is_categorical_dtype is deprecated and will be removed in a future version. Use isinstance(dtype, CategoricalDtype) instead\n",
      "\n",
      "c:\\Users\\aaeft\\venvs\\myccs\\Lib\\site-packages\\seaborn\\_oldcore.py:1498: FutureWarning:\n",
      "\n",
      "is_categorical_dtype is deprecated and will be removed in a future version. Use isinstance(dtype, CategoricalDtype) instead\n",
      "\n"
     ]
    },
    {
     "data": {
      "image/png": "[encoded data removed]",
      "text/plain": [
       "<Figure size 1000x600 with 1 Axes>"
      ]
     },
     "metadata": {},
     "output_type": "display_data"
    }
   ],
   "source": [
    "# plot gdp vs energy_per_capita with seaborn\n",
    "# change seaborn style for a white background\n",
    "sns.set_theme(style='white', font_scale=1.2)\n",
    "plt.figure(figsize=(10, 6))\n",
    "sns.scatterplot(x='energy_per_capita', y='gdp_per_capita', data=df)\n",
    "plt.xlabel('Energy per capita, kWh/(day.person)')\n",
    "plt.ylabel('GDP per capita, $')\n",
    "\n",
    "# save the plot\n",
    "plt.savefig('../resources/gdp_vs_energy_per_capita.png')"
   ]
  },
  {
   "cell_type": "code",
   "execution_count": 31,
   "metadata": {},
   "outputs": [
    {
     "data": {
      "text/html": [
       "<div>\n",
       "<style scoped>\n",
       "    .dataframe tbody tr th:only-of-type {\n",
       "        vertical-align: middle;\n",
       "    }\n",
       "\n",
       "    .dataframe tbody tr th {\n",
       "        vertical-align: top;\n",
       "    }\n",
       "\n",
       "    .dataframe thead th {\n",
       "        text-align: right;\n",
       "    }\n",
       "</style>\n",
       "<table border=\"1\" class=\"dataframe\">\n",
       "  <thead>\n",
       "    <tr style=\"text-align: right;\">\n",
       "      <th></th>\n",
       "      <th>country</th>\n",
       "      <th>iso_code</th>\n",
       "      <th>year</th>\n",
       "      <th>land_area_m2</th>\n",
       "      <th>population</th>\n",
       "      <th>land_per_person</th>\n",
       "      <th>land_per_person_footbal_field</th>\n",
       "    </tr>\n",
       "  </thead>\n",
       "  <tbody>\n",
       "    <tr>\n",
       "      <th>0</th>\n",
       "      <td>Afghanistan</td>\n",
       "      <td>AFG</td>\n",
       "      <td>2021</td>\n",
       "      <td>6.522300e+11</td>\n",
       "      <td>40000411</td>\n",
       "      <td>16305.582460</td>\n",
       "      <td>2.203457</td>\n",
       "    </tr>\n",
       "    <tr>\n",
       "      <th>1</th>\n",
       "      <td>Albania</td>\n",
       "      <td>ALB</td>\n",
       "      <td>2021</td>\n",
       "      <td>2.740000e+10</td>\n",
       "      <td>2849643</td>\n",
       "      <td>9615.239523</td>\n",
       "      <td>1.299357</td>\n",
       "    </tr>\n",
       "    <tr>\n",
       "      <th>2</th>\n",
       "      <td>Algeria</td>\n",
       "      <td>DZA</td>\n",
       "      <td>2021</td>\n",
       "      <td>2.381741e+12</td>\n",
       "      <td>44761101</td>\n",
       "      <td>53210.062907</td>\n",
       "      <td>7.190549</td>\n",
       "    </tr>\n",
       "    <tr>\n",
       "      <th>3</th>\n",
       "      <td>American Samoa</td>\n",
       "      <td>ASM</td>\n",
       "      <td>2021</td>\n",
       "      <td>2.000000e+08</td>\n",
       "      <td>49248</td>\n",
       "      <td>4061.078622</td>\n",
       "      <td>0.548794</td>\n",
       "    </tr>\n",
       "    <tr>\n",
       "      <th>4</th>\n",
       "      <td>Andorra</td>\n",
       "      <td>AND</td>\n",
       "      <td>2021</td>\n",
       "      <td>4.700000e+08</td>\n",
       "      <td>78375</td>\n",
       "      <td>5996.810207</td>\n",
       "      <td>0.810380</td>\n",
       "    </tr>\n",
       "    <tr>\n",
       "      <th>...</th>\n",
       "      <td>...</td>\n",
       "      <td>...</td>\n",
       "      <td>...</td>\n",
       "      <td>...</td>\n",
       "      <td>...</td>\n",
       "      <td>...</td>\n",
       "      <td>...</td>\n",
       "    </tr>\n",
       "    <tr>\n",
       "      <th>209</th>\n",
       "      <td>Venezuela</td>\n",
       "      <td>VEN</td>\n",
       "      <td>2021</td>\n",
       "      <td>8.820500e+11</td>\n",
       "      <td>28237831</td>\n",
       "      <td>31236.464302</td>\n",
       "      <td>4.221144</td>\n",
       "    </tr>\n",
       "    <tr>\n",
       "      <th>210</th>\n",
       "      <td>Vietnam</td>\n",
       "      <td>VNM</td>\n",
       "      <td>2021</td>\n",
       "      <td>3.134290e+11</td>\n",
       "      <td>98935101</td>\n",
       "      <td>3168.026280</td>\n",
       "      <td>0.428112</td>\n",
       "    </tr>\n",
       "    <tr>\n",
       "      <th>211</th>\n",
       "      <td>Yemen</td>\n",
       "      <td>YEM</td>\n",
       "      <td>2021</td>\n",
       "      <td>5.279700e+11</td>\n",
       "      <td>37140233</td>\n",
       "      <td>14215.581254</td>\n",
       "      <td>1.921024</td>\n",
       "    </tr>\n",
       "    <tr>\n",
       "      <th>212</th>\n",
       "      <td>Zambia</td>\n",
       "      <td>ZMB</td>\n",
       "      <td>2021</td>\n",
       "      <td>7.433900e+11</td>\n",
       "      <td>19603610</td>\n",
       "      <td>37921.076781</td>\n",
       "      <td>5.124470</td>\n",
       "    </tr>\n",
       "    <tr>\n",
       "      <th>213</th>\n",
       "      <td>Zimbabwe</td>\n",
       "      <td>ZWE</td>\n",
       "      <td>2021</td>\n",
       "      <td>3.868500e+11</td>\n",
       "      <td>15797220</td>\n",
       "      <td>24488.485949</td>\n",
       "      <td>3.309255</td>\n",
       "    </tr>\n",
       "  </tbody>\n",
       "</table>\n",
       "<p>214 rows × 7 columns</p>\n",
       "</div>"
      ],
      "text/plain": [
       "            country iso_code  year  land_area_m2  population  land_per_person  \\\n",
       "0       Afghanistan      AFG  2021  6.522300e+11    40000411     16305.582460   \n",
       "1           Albania      ALB  2021  2.740000e+10     2849643      9615.239523   \n",
       "2           Algeria      DZA  2021  2.381741e+12    44761101     53210.062907   \n",
       "3    American Samoa      ASM  2021  2.000000e+08       49248      4061.078622   \n",
       "4           Andorra      AND  2021  4.700000e+08       78375      5996.810207   \n",
       "..              ...      ...   ...           ...         ...              ...   \n",
       "209       Venezuela      VEN  2021  8.820500e+11    28237831     31236.464302   \n",
       "210         Vietnam      VNM  2021  3.134290e+11    98935101      3168.026280   \n",
       "211           Yemen      YEM  2021  5.279700e+11    37140233     14215.581254   \n",
       "212          Zambia      ZMB  2021  7.433900e+11    19603610     37921.076781   \n",
       "213        Zimbabwe      ZWE  2021  3.868500e+11    15797220     24488.485949   \n",
       "\n",
       "     land_per_person_footbal_field  \n",
       "0                         2.203457  \n",
       "1                         1.299357  \n",
       "2                         7.190549  \n",
       "3                         0.548794  \n",
       "4                         0.810380  \n",
       "..                             ...  \n",
       "209                       4.221144  \n",
       "210                       0.428112  \n",
       "211                       1.921024  \n",
       "212                       5.124470  \n",
       "213                       3.309255  \n",
       "\n",
       "[214 rows x 7 columns]"
      ]
     },
     "execution_count": 31,
     "metadata": {},
     "output_type": "execute_result"
    }
   ],
   "source": [
    "# lan per person\n",
    "land = pd.read_csv('../data/land-area-km.csv')\n",
    "# change column name from 'Entity' to 'country' and 'Code' to 'iso_code' and 'Year' to 'year' and 'Land area (sq. km)' to 'land_area_m2'\n",
    "land.rename(columns={'Entity':'country', 'Code':'iso_code', 'Year': 'year', 'Land area (sq. km)': 'land_area_m2'}, inplace=True)\n",
    "land['land_area_m2'] = land['land_area_m2']*1e6 # convert to m^2\n",
    "last_year = land['year'].max()\n",
    "land = land[land['year'] == last_year].reset_index(drop=True)\n",
    "land = land[land['iso_code'].notna()].reset_index(drop=True)\n",
    "land = land[land['iso_code'] != 'OWID_WRL'].reset_index(drop=True)\n",
    "\n",
    "# load population data\n",
    "population = pd.read_csv('../data/population.csv')\n",
    "population.rename(columns={'Entity':'country', 'Code':'iso_code', 'Year': 'year', 'Population (historical)': 'population'}, inplace=True)\n",
    "population = population[population['year'] == last_year].reset_index(drop=True)\n",
    "population = population[population['iso_code'].notna()].reset_index(drop=True)\n",
    "population = population[population['iso_code'] != 'OWID_WRL'].reset_index(drop=True)\n",
    "\n",
    "# merge land and population\n",
    "land_population = pd.merge(land, population, on='iso_code', how='inner')\n",
    "# remove country_y and year_y columns\n",
    "land_population.drop(columns=['country_y', 'year_y'], inplace=True)\n",
    "# rename country_x and year_x columns\n",
    "land_population.rename(columns={'country_x':'country', 'year_x':'year'}, inplace=True)\n",
    "footbal_field = 7400 # m^2\n",
    "land_population['land_per_person'] = land_population['land_area_m2']/land_population['population']\n",
    "land_population['land_per_person_footbal_field'] = land_population['land_per_person']/footbal_field\n",
    "land_population"
   ]
  },
  {
   "cell_type": "code",
   "execution_count": 37,
   "metadata": {},
   "outputs": [
    {
     "name": "stderr",
     "output_type": "stream",
     "text": [
      "c:\\Users\\aaeft\\venvs\\myccs\\Lib\\site-packages\\seaborn\\_oldcore.py:1498: FutureWarning:\n",
      "\n",
      "is_categorical_dtype is deprecated and will be removed in a future version. Use isinstance(dtype, CategoricalDtype) instead\n",
      "\n",
      "c:\\Users\\aaeft\\venvs\\myccs\\Lib\\site-packages\\seaborn\\_oldcore.py:1498: FutureWarning:\n",
      "\n",
      "is_categorical_dtype is deprecated and will be removed in a future version. Use isinstance(dtype, CategoricalDtype) instead\n",
      "\n",
      "c:\\Users\\aaeft\\venvs\\myccs\\Lib\\site-packages\\seaborn\\_oldcore.py:1498: FutureWarning:\n",
      "\n",
      "is_categorical_dtype is deprecated and will be removed in a future version. Use isinstance(dtype, CategoricalDtype) instead\n",
      "\n"
     ]
    },
    {
     "data": {
      "text/plain": [
       "<matplotlib.lines.Line2D at 0x20e3a2d1b50>"
      ]
     },
     "execution_count": 37,
     "metadata": {},
     "output_type": "execute_result"
    },
    {
     "data": {
      "image/png": "[encoded data removed]",
      "text/plain": [
       "<Figure size 1000x6000 with 1 Axes>"
      ]
     },
     "metadata": {},
     "output_type": "display_data"
    }
   ],
   "source": [
    "# barchart of land_per_person_footbal_field for countries with <10 football fields\n",
    "plt.figure(figsize=(10, 60))\n",
    "sns.barplot(x='land_per_person_footbal_field', y='country', data=land_population[land_population['land_per_person_footbal_field'] < 10].sort_values(by='land_per_person_footbal_field', ascending=False))\n",
    "plt.xlabel('Land per person, football field')\n",
    "plt.ylabel('Country')\n",
    "plt.title('Land per person in football field')\n",
    "# plot a vertical line at 1 football field\n",
    "plt.axvline(x=1, color='red', linestyle='--')\n"
   ]
  },
  {
   "cell_type": "code",
   "execution_count": 30,
   "metadata": {},
   "outputs": [
    {
     "data": {
      "text/plain": [
       "7140"
      ]
     },
     "execution_count": 30,
     "metadata": {},
     "output_type": "execute_result"
    }
   ],
   "source": [
    "105*68"
   ]
  },
  {
   "cell_type": "code",
   "execution_count": 22,
   "metadata": {},
   "outputs": [
    {
     "data": {
      "text/html": [
       "<div>\n",
       "<style scoped>\n",
       "    .dataframe tbody tr th:only-of-type {\n",
       "        vertical-align: middle;\n",
       "    }\n",
       "\n",
       "    .dataframe tbody tr th {\n",
       "        vertical-align: top;\n",
       "    }\n",
       "\n",
       "    .dataframe thead th {\n",
       "        text-align: right;\n",
       "    }\n",
       "</style>\n",
       "<table border=\"1\" class=\"dataframe\">\n",
       "  <thead>\n",
       "    <tr style=\"text-align: right;\">\n",
       "      <th></th>\n",
       "      <th>country</th>\n",
       "      <th>year</th>\n",
       "      <th>iso_code</th>\n",
       "      <th>population</th>\n",
       "      <th>gdp</th>\n",
       "      <th>biofuel_cons_change_pct</th>\n",
       "      <th>biofuel_cons_change_twh</th>\n",
       "      <th>biofuel_cons_per_capita</th>\n",
       "      <th>biofuel_consumption</th>\n",
       "      <th>biofuel_elec_per_capita</th>\n",
       "      <th>...</th>\n",
       "      <th>solar_share_elec</th>\n",
       "      <th>solar_share_energy</th>\n",
       "      <th>wind_cons_change_pct</th>\n",
       "      <th>wind_cons_change_twh</th>\n",
       "      <th>wind_consumption</th>\n",
       "      <th>wind_elec_per_capita</th>\n",
       "      <th>wind_electricity</th>\n",
       "      <th>wind_energy_per_capita</th>\n",
       "      <th>wind_share_elec</th>\n",
       "      <th>wind_share_energy</th>\n",
       "    </tr>\n",
       "  </thead>\n",
       "  <tbody>\n",
       "    <tr>\n",
       "      <th>0</th>\n",
       "      <td>Afghanistan</td>\n",
       "      <td>2022</td>\n",
       "      <td>AFG</td>\n",
       "      <td>41128772.0</td>\n",
       "      <td>5.330347e+10</td>\n",
       "      <td>NaN</td>\n",
       "      <td>NaN</td>\n",
       "      <td>NaN</td>\n",
       "      <td>NaN</td>\n",
       "      <td>0.000</td>\n",
       "      <td>...</td>\n",
       "      <td>9.639</td>\n",
       "      <td>NaN</td>\n",
       "      <td>NaN</td>\n",
       "      <td>NaN</td>\n",
       "      <td>NaN</td>\n",
       "      <td>0.000</td>\n",
       "      <td>0.00</td>\n",
       "      <td>NaN</td>\n",
       "      <td>0.000</td>\n",
       "      <td>NaN</td>\n",
       "    </tr>\n",
       "    <tr>\n",
       "      <th>1</th>\n",
       "      <td>Albania</td>\n",
       "      <td>2022</td>\n",
       "      <td>ALB</td>\n",
       "      <td>2842318.0</td>\n",
       "      <td>3.617101e+10</td>\n",
       "      <td>NaN</td>\n",
       "      <td>NaN</td>\n",
       "      <td>NaN</td>\n",
       "      <td>NaN</td>\n",
       "      <td>0.000</td>\n",
       "      <td>...</td>\n",
       "      <td>0.571</td>\n",
       "      <td>NaN</td>\n",
       "      <td>NaN</td>\n",
       "      <td>NaN</td>\n",
       "      <td>NaN</td>\n",
       "      <td>0.000</td>\n",
       "      <td>0.00</td>\n",
       "      <td>NaN</td>\n",
       "      <td>0.000</td>\n",
       "      <td>NaN</td>\n",
       "    </tr>\n",
       "    <tr>\n",
       "      <th>2</th>\n",
       "      <td>Algeria</td>\n",
       "      <td>2022</td>\n",
       "      <td>DZA</td>\n",
       "      <td>44903228.0</td>\n",
       "      <td>5.958200e+11</td>\n",
       "      <td>NaN</td>\n",
       "      <td>NaN</td>\n",
       "      <td>NaN</td>\n",
       "      <td>NaN</td>\n",
       "      <td>0.000</td>\n",
       "      <td>...</td>\n",
       "      <td>0.748</td>\n",
       "      <td>0.230</td>\n",
       "      <td>52.381</td>\n",
       "      <td>0.014</td>\n",
       "      <td>0.042</td>\n",
       "      <td>0.223</td>\n",
       "      <td>0.01</td>\n",
       "      <td>0.929</td>\n",
       "      <td>0.011</td>\n",
       "      <td>0.006</td>\n",
       "    </tr>\n",
       "    <tr>\n",
       "      <th>3</th>\n",
       "      <td>American Samoa</td>\n",
       "      <td>2022</td>\n",
       "      <td>ASM</td>\n",
       "      <td>44295.0</td>\n",
       "      <td>NaN</td>\n",
       "      <td>NaN</td>\n",
       "      <td>NaN</td>\n",
       "      <td>NaN</td>\n",
       "      <td>NaN</td>\n",
       "      <td>0.000</td>\n",
       "      <td>...</td>\n",
       "      <td>5.556</td>\n",
       "      <td>NaN</td>\n",
       "      <td>NaN</td>\n",
       "      <td>NaN</td>\n",
       "      <td>NaN</td>\n",
       "      <td>0.000</td>\n",
       "      <td>0.00</td>\n",
       "      <td>NaN</td>\n",
       "      <td>0.000</td>\n",
       "      <td>NaN</td>\n",
       "    </tr>\n",
       "    <tr>\n",
       "      <th>4</th>\n",
       "      <td>Angola</td>\n",
       "      <td>2022</td>\n",
       "      <td>AGO</td>\n",
       "      <td>35588996.0</td>\n",
       "      <td>1.583462e+11</td>\n",
       "      <td>NaN</td>\n",
       "      <td>NaN</td>\n",
       "      <td>NaN</td>\n",
       "      <td>NaN</td>\n",
       "      <td>1.405</td>\n",
       "      <td>...</td>\n",
       "      <td>0.118</td>\n",
       "      <td>NaN</td>\n",
       "      <td>NaN</td>\n",
       "      <td>NaN</td>\n",
       "      <td>NaN</td>\n",
       "      <td>0.000</td>\n",
       "      <td>0.00</td>\n",
       "      <td>NaN</td>\n",
       "      <td>0.000</td>\n",
       "      <td>NaN</td>\n",
       "    </tr>\n",
       "    <tr>\n",
       "      <th>...</th>\n",
       "      <td>...</td>\n",
       "      <td>...</td>\n",
       "      <td>...</td>\n",
       "      <td>...</td>\n",
       "      <td>...</td>\n",
       "      <td>...</td>\n",
       "      <td>...</td>\n",
       "      <td>...</td>\n",
       "      <td>...</td>\n",
       "      <td>...</td>\n",
       "      <td>...</td>\n",
       "      <td>...</td>\n",
       "      <td>...</td>\n",
       "      <td>...</td>\n",
       "      <td>...</td>\n",
       "      <td>...</td>\n",
       "      <td>...</td>\n",
       "      <td>...</td>\n",
       "      <td>...</td>\n",
       "      <td>...</td>\n",
       "      <td>...</td>\n",
       "    </tr>\n",
       "    <tr>\n",
       "      <th>205</th>\n",
       "      <td>Venezuela</td>\n",
       "      <td>2022</td>\n",
       "      <td>VEN</td>\n",
       "      <td>28301700.0</td>\n",
       "      <td>1.496821e+11</td>\n",
       "      <td>NaN</td>\n",
       "      <td>NaN</td>\n",
       "      <td>NaN</td>\n",
       "      <td>NaN</td>\n",
       "      <td>0.000</td>\n",
       "      <td>...</td>\n",
       "      <td>0.012</td>\n",
       "      <td>0.000</td>\n",
       "      <td>-15.270</td>\n",
       "      <td>-0.008</td>\n",
       "      <td>0.042</td>\n",
       "      <td>3.180</td>\n",
       "      <td>0.09</td>\n",
       "      <td>1.494</td>\n",
       "      <td>0.106</td>\n",
       "      <td>0.007</td>\n",
       "    </tr>\n",
       "    <tr>\n",
       "      <th>206</th>\n",
       "      <td>Vietnam</td>\n",
       "      <td>2022</td>\n",
       "      <td>VNM</td>\n",
       "      <td>98186856.0</td>\n",
       "      <td>8.338038e+11</td>\n",
       "      <td>NaN</td>\n",
       "      <td>NaN</td>\n",
       "      <td>NaN</td>\n",
       "      <td>NaN</td>\n",
       "      <td>3.666</td>\n",
       "      <td>...</td>\n",
       "      <td>10.143</td>\n",
       "      <td>5.396</td>\n",
       "      <td>172.104</td>\n",
       "      <td>14.959</td>\n",
       "      <td>23.701</td>\n",
       "      <td>81.885</td>\n",
       "      <td>8.04</td>\n",
       "      <td>241.391</td>\n",
       "      <td>3.093</td>\n",
       "      <td>1.905</td>\n",
       "    </tr>\n",
       "    <tr>\n",
       "      <th>207</th>\n",
       "      <td>Yemen</td>\n",
       "      <td>2022</td>\n",
       "      <td>YEM</td>\n",
       "      <td>33696612.0</td>\n",
       "      <td>6.085299e+10</td>\n",
       "      <td>NaN</td>\n",
       "      <td>NaN</td>\n",
       "      <td>NaN</td>\n",
       "      <td>NaN</td>\n",
       "      <td>0.000</td>\n",
       "      <td>...</td>\n",
       "      <td>20.339</td>\n",
       "      <td>NaN</td>\n",
       "      <td>NaN</td>\n",
       "      <td>NaN</td>\n",
       "      <td>NaN</td>\n",
       "      <td>0.000</td>\n",
       "      <td>0.00</td>\n",
       "      <td>NaN</td>\n",
       "      <td>0.000</td>\n",
       "      <td>NaN</td>\n",
       "    </tr>\n",
       "    <tr>\n",
       "      <th>208</th>\n",
       "      <td>Zambia</td>\n",
       "      <td>2022</td>\n",
       "      <td>ZMB</td>\n",
       "      <td>20017670.0</td>\n",
       "      <td>6.846960e+10</td>\n",
       "      <td>NaN</td>\n",
       "      <td>NaN</td>\n",
       "      <td>NaN</td>\n",
       "      <td>NaN</td>\n",
       "      <td>3.996</td>\n",
       "      <td>...</td>\n",
       "      <td>0.719</td>\n",
       "      <td>NaN</td>\n",
       "      <td>NaN</td>\n",
       "      <td>NaN</td>\n",
       "      <td>NaN</td>\n",
       "      <td>0.000</td>\n",
       "      <td>0.00</td>\n",
       "      <td>NaN</td>\n",
       "      <td>0.000</td>\n",
       "      <td>NaN</td>\n",
       "    </tr>\n",
       "    <tr>\n",
       "      <th>209</th>\n",
       "      <td>Zimbabwe</td>\n",
       "      <td>2022</td>\n",
       "      <td>ZWE</td>\n",
       "      <td>16320539.0</td>\n",
       "      <td>2.590159e+10</td>\n",
       "      <td>NaN</td>\n",
       "      <td>NaN</td>\n",
       "      <td>NaN</td>\n",
       "      <td>NaN</td>\n",
       "      <td>6.127</td>\n",
       "      <td>...</td>\n",
       "      <td>0.336</td>\n",
       "      <td>NaN</td>\n",
       "      <td>NaN</td>\n",
       "      <td>NaN</td>\n",
       "      <td>NaN</td>\n",
       "      <td>0.000</td>\n",
       "      <td>0.00</td>\n",
       "      <td>NaN</td>\n",
       "      <td>0.000</td>\n",
       "      <td>NaN</td>\n",
       "    </tr>\n",
       "  </tbody>\n",
       "</table>\n",
       "<p>210 rows × 129 columns</p>\n",
       "</div>"
      ],
      "text/plain": [
       "            country  year iso_code  population           gdp  \\\n",
       "0       Afghanistan  2022      AFG  41128772.0  5.330347e+10   \n",
       "1           Albania  2022      ALB   2842318.0  3.617101e+10   \n",
       "2           Algeria  2022      DZA  44903228.0  5.958200e+11   \n",
       "3    American Samoa  2022      ASM     44295.0           NaN   \n",
       "4            Angola  2022      AGO  35588996.0  1.583462e+11   \n",
       "..              ...   ...      ...         ...           ...   \n",
       "205       Venezuela  2022      VEN  28301700.0  1.496821e+11   \n",
       "206         Vietnam  2022      VNM  98186856.0  8.338038e+11   \n",
       "207           Yemen  2022      YEM  33696612.0  6.085299e+10   \n",
       "208          Zambia  2022      ZMB  20017670.0  6.846960e+10   \n",
       "209        Zimbabwe  2022      ZWE  16320539.0  2.590159e+10   \n",
       "\n",
       "     biofuel_cons_change_pct  biofuel_cons_change_twh  \\\n",
       "0                        NaN                      NaN   \n",
       "1                        NaN                      NaN   \n",
       "2                        NaN                      NaN   \n",
       "3                        NaN                      NaN   \n",
       "4                        NaN                      NaN   \n",
       "..                       ...                      ...   \n",
       "205                      NaN                      NaN   \n",
       "206                      NaN                      NaN   \n",
       "207                      NaN                      NaN   \n",
       "208                      NaN                      NaN   \n",
       "209                      NaN                      NaN   \n",
       "\n",
       "     biofuel_cons_per_capita  biofuel_consumption  biofuel_elec_per_capita  \\\n",
       "0                        NaN                  NaN                    0.000   \n",
       "1                        NaN                  NaN                    0.000   \n",
       "2                        NaN                  NaN                    0.000   \n",
       "3                        NaN                  NaN                    0.000   \n",
       "4                        NaN                  NaN                    1.405   \n",
       "..                       ...                  ...                      ...   \n",
       "205                      NaN                  NaN                    0.000   \n",
       "206                      NaN                  NaN                    3.666   \n",
       "207                      NaN                  NaN                    0.000   \n",
       "208                      NaN                  NaN                    3.996   \n",
       "209                      NaN                  NaN                    6.127   \n",
       "\n",
       "     ...  solar_share_elec  solar_share_energy  wind_cons_change_pct  \\\n",
       "0    ...             9.639                 NaN                   NaN   \n",
       "1    ...             0.571                 NaN                   NaN   \n",
       "2    ...             0.748               0.230                52.381   \n",
       "3    ...             5.556                 NaN                   NaN   \n",
       "4    ...             0.118                 NaN                   NaN   \n",
       "..   ...               ...                 ...                   ...   \n",
       "205  ...             0.012               0.000               -15.270   \n",
       "206  ...            10.143               5.396               172.104   \n",
       "207  ...            20.339                 NaN                   NaN   \n",
       "208  ...             0.719                 NaN                   NaN   \n",
       "209  ...             0.336                 NaN                   NaN   \n",
       "\n",
       "     wind_cons_change_twh  wind_consumption  wind_elec_per_capita  \\\n",
       "0                     NaN               NaN                 0.000   \n",
       "1                     NaN               NaN                 0.000   \n",
       "2                   0.014             0.042                 0.223   \n",
       "3                     NaN               NaN                 0.000   \n",
       "4                     NaN               NaN                 0.000   \n",
       "..                    ...               ...                   ...   \n",
       "205                -0.008             0.042                 3.180   \n",
       "206                14.959            23.701                81.885   \n",
       "207                   NaN               NaN                 0.000   \n",
       "208                   NaN               NaN                 0.000   \n",
       "209                   NaN               NaN                 0.000   \n",
       "\n",
       "     wind_electricity  wind_energy_per_capita  wind_share_elec  \\\n",
       "0                0.00                     NaN            0.000   \n",
       "1                0.00                     NaN            0.000   \n",
       "2                0.01                   0.929            0.011   \n",
       "3                0.00                     NaN            0.000   \n",
       "4                0.00                     NaN            0.000   \n",
       "..                ...                     ...              ...   \n",
       "205              0.09                   1.494            0.106   \n",
       "206              8.04                 241.391            3.093   \n",
       "207              0.00                     NaN            0.000   \n",
       "208              0.00                     NaN            0.000   \n",
       "209              0.00                     NaN            0.000   \n",
       "\n",
       "     wind_share_energy  \n",
       "0                  NaN  \n",
       "1                  NaN  \n",
       "2                0.006  \n",
       "3                  NaN  \n",
       "4                  NaN  \n",
       "..                 ...  \n",
       "205              0.007  \n",
       "206              1.905  \n",
       "207                NaN  \n",
       "208                NaN  \n",
       "209                NaN  \n",
       "\n",
       "[210 rows x 129 columns]"
      ]
     },
     "execution_count": 22,
     "metadata": {},
     "output_type": "execute_result"
    }
   ],
   "source": [
    "energy"
   ]
  }
 ],
 "metadata": {
  "kernelspec": {
   "display_name": "myccs",
   "language": "python",
   "name": "python3"
  },
  "language_info": {
   "codemirror_mode": {
    "name": "ipython",
    "version": 3
   },
   "file_extension": ".py",
   "mimetype": "text/x-python",
   "name": "python",
   "nbconvert_exporter": "python",
   "pygments_lexer": "ipython3",
   "version": "3.11.9"
  }
 },
 "nbformat": 4,
 "nbformat_minor": 2
}
