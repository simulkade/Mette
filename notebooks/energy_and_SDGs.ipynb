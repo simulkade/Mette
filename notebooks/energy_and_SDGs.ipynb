{
 "cells": [
  {
   "cell_type": "markdown",
   "metadata": {},
   "source": [
    "# Teaching objectives\n",
    "The students are expected to:\n",
    "  - describe the sustainable development goals (SDG)\n",
    "  - explain the link between the energy consumption and SDG indices\n",
    "  - analyze the energy supply and demand of a European country\n",
    "  - quantify the average energy demand of a European person\n",
    "  - quantitatively explain the potential role of hydrogen in future energy systems and achieving SDGs\n",
    "\n",
    "## Teaching material\n",
    "All the data and Python codes will be shared with the participants. Working with real data is the best way to learn to describe sustainability in \"numbers; not adjectives\".\n"
   ]
  },
  {
   "cell_type": "markdown",
   "metadata": {},
   "source": [
    "# Sustainable Development Goals (SDG)\n",
    "Here's the first paragraph of the history of SDGs from the [official UN website](https://sdgs.un.org/goals):\n",
    " > The 2030 Agenda for Sustainable Development, adopted by all United Nations Member States in 2015, provides a shared blueprint for __peace and prosperity for people and the planet__, now and into the future. At its heart are the __17 Sustainable Development Goals (SDGs)__, which are an __urgent call for action__ by all countries - developed and developing - in a global partnership. They recognize that __ending poverty and other deprivations__ must go hand-in-hand with strategies that __improve health and education__, __reduce inequality__, and spur __economic growth__ – all __while tackling climate change__ and working to __preserve our oceans and forests__.  \n",
    " \n",
    "![SDG Image](../resources/Sustainable_Development_Goals.svg.png)\n",
    "\n",
    "## SDGs and energy\n",
    "The SDGs are not independent of each other. There are strong correlations between some of these goals. Energy consumption of a nation, for instance, is strongly linked to the prosperity of a nation. Note that we try to avoid a cause and effect interpretation here: so it does not matter if the prosperity comes first and lead to a higher energy consumption that seems to be an indicator of a better life style, or having a lot of energy leads to prosperity and a better life. Let's have a look at the data. We will use the national energy consumption data from [our world in data](), gross national product (GDP) from [the World Bank](), national direct CO2 emission from [our world in data](), and finally the sustainable development indices from [the sustainable development report website](https://dashboards.sdgindex.org/downloads)"
   ]
  },
  {
   "cell_type": "code",
   "execution_count": 1,
   "metadata": {},
   "outputs": [],
   "source": [
    "# load energy data\n",
    "import pandas as pd\n",
    "import numpy as np\n",
    "import matplotlib.pyplot as plt\n",
    "import seaborn as sns\n",
    "\n",
    "# load data\n",
    "energy = pd.read_csv(\"../data/owid-energy-data.csv\")\n",
    "# filter for the final year of data\n",
    "energy = energy[energy[\"year\"] == 2022].reset_index(drop=True)\n",
    "# remove iso_code = NaN\n",
    "energy = energy[energy[\"iso_code\"].notna()].reset_index(drop=True)\n",
    "energy[\"energy_per_capita\"] = energy[\"energy_per_capita\"] / 365  # to kWh/person/day\n",
    "\n",
    "CO2 = pd.read_csv(\"../data/co-emissions-per-capita.csv\")\n",
    "# change column name from 'Entity' to 'country' and 'Code' to 'iso_code'\n",
    "CO2.rename(\n",
    "    columns={\"Entity\": \"country\", \"Code\": \"iso_code\", \"Year\": \"year\"}, inplace=True\n",
    ")\n",
    "# filter for Year == 2022\n",
    "CO2 = CO2[CO2[\"year\"] == 2022].reset_index(drop=True)\n",
    "# remove iso_code = NaN or iso_code = OWID_WRL\n",
    "CO2 = CO2[CO2[\"iso_code\"].notna()].reset_index(drop=True)\n",
    "CO2 = CO2[CO2[\"iso_code\"] != \"OWID_WRL\"].reset_index(drop=True)\n",
    "\n",
    "# load data for sustainable development goals\n",
    "sdg = pd.read_excel(\"../data/SDR2024-data.xlsx\", sheet_name=\"Full Database\")\n",
    "# change column name from 'Country Code ISO3' to iso_code\n",
    "sdg.rename(\n",
    "    columns={\"Country Code ISO3\": \"iso_code\", \"Country\": \"country\"}, inplace=True\n",
    ")\n",
    "# remove iso_code that contains _\n",
    "sdg = sdg[~sdg[\"iso_code\"].str.contains(\"_\")].reset_index(drop=True)\n",
    "\n",
    "# working with greenhouse_gas_emissions, energy_per_capita (kWh/person), energy_per_gdp\n",
    "# all per capita are reported in kWh/person"
   ]
  },
  {
   "cell_type": "code",
   "execution_count": 2,
   "metadata": {},
   "outputs": [],
   "source": [
    "# extract sdg columns 'Goal 1 Score' to 'Goal 17 Score', and country name and iso_code\n",
    "sdg_score = sdg[\n",
    "    [\n",
    "        \"country\",\n",
    "        \"iso_code\",\n",
    "        \"Goal 1 Score\",\n",
    "        \"Goal 2 Score\",\n",
    "        \"Goal 3 Score\",\n",
    "        \"Goal 4 Score\",\n",
    "        \"Goal 5 Score\",\n",
    "        \"Goal 6 Score\",\n",
    "        \"Goal 7 Score\",\n",
    "        \"Goal 8 Score\",\n",
    "        \"Goal 9 Score\",\n",
    "        \"Goal 10 Score\",\n",
    "        \"Goal 11 Score\",\n",
    "        \"Goal 12 Score\",\n",
    "        \"Goal 13 Score\",\n",
    "        \"Goal 14 Score\",\n",
    "        \"Goal 15 Score\",\n",
    "        \"Goal 16 Score\",\n",
    "        \"Goal 17 Score\",\n",
    "    ]\n",
    "].copy()\n",
    "# merge energy, CO2, and sdg_score\n",
    "df = pd.merge(energy, CO2, on=\"iso_code\", how=\"inner\")\n",
    "df = pd.merge(df, sdg_score, on=\"iso_code\", how=\"inner\")\n",
    "df[\"gdp_per_capita\"] = df[\"gdp\"] / df[\"population\"]"
   ]
  },
  {
   "cell_type": "code",
   "execution_count": 12,
   "metadata": {},
   "outputs": [
    {
     "data": {
      "application/vnd.plotly.v1+json": {
       "config": {
        "plotlyServerURL": "https://plot.ly"
       },
       "data": [
        {
         "customdata": [
          [
           "Afghanistan"
          ],
          [
           "Albania"
          ],
          [
           "Algeria"
          ],
          [
           "Angola"
          ],
          [
           "Antigua and Barbuda"
          ],
          [
           "Argentina"
          ],
          [
           "Armenia"
          ],
          [
           "Australia"
          ],
          [
           "Austria"
          ],
          [
           "Azerbaijan"
          ],
          [
           "Bahamas, The"
          ],
          [
           "Bahrain"
          ],
          [
           "Bangladesh"
          ],
          [
           "Barbados"
          ],
          [
           "Belarus"
          ],
          [
           "Belgium"
          ],
          [
           "Belize"
          ],
          [
           "Benin"
          ],
          [
           "Bhutan"
          ],
          [
           "Bolivia"
          ],
          [
           "Bosnia and Herzegovina"
          ],
          [
           "Botswana"
          ],
          [
           "Brazil"
          ],
          [
           "Brunei Darussalam"
          ],
          [
           "Bulgaria"
          ],
          [
           "Burkina Faso"
          ],
          [
           "Burundi"
          ],
          [
           "Cambodia"
          ],
          [
           "Cameroon"
          ],
          [
           "Canada"
          ],
          [
           "Cabo Verde"
          ],
          [
           "Central African Republic"
          ],
          [
           "Chad"
          ],
          [
           "Chile"
          ],
          [
           "China"
          ],
          [
           "Colombia"
          ],
          [
           "Comoros"
          ],
          [
           "Congo, Rep."
          ],
          [
           "Costa Rica"
          ],
          [
           "Cote d'Ivoire"
          ],
          [
           "Croatia"
          ],
          [
           "Cuba"
          ],
          [
           "Cyprus"
          ],
          [
           "Czechia"
          ],
          [
           "Congo, Dem. Rep."
          ],
          [
           "Denmark"
          ],
          [
           "Djibouti"
          ],
          [
           "Dominica"
          ],
          [
           "Dominican Republic"
          ],
          [
           "Timor-Leste"
          ],
          [
           "Ecuador"
          ],
          [
           "Egypt, Arab Rep."
          ],
          [
           "El Salvador"
          ],
          [
           "Equatorial Guinea"
          ],
          [
           "Eritrea"
          ],
          [
           "Estonia"
          ],
          [
           "Eswatini"
          ],
          [
           "Ethiopia"
          ],
          [
           "Fiji"
          ],
          [
           "Finland"
          ],
          [
           "France"
          ],
          [
           "Gabon"
          ],
          [
           "Gambia, The"
          ],
          [
           "Georgia"
          ],
          [
           "Germany"
          ],
          [
           "Ghana"
          ],
          [
           "Greece"
          ],
          [
           "Grenada"
          ],
          [
           "Guatemala"
          ],
          [
           "Guinea"
          ],
          [
           "Guinea-Bissau"
          ],
          [
           "Guyana"
          ],
          [
           "Haiti"
          ],
          [
           "Honduras"
          ],
          [
           "Hungary"
          ],
          [
           "Iceland"
          ],
          [
           "India"
          ],
          [
           "Indonesia"
          ],
          [
           "Iran, Islamic Rep."
          ],
          [
           "Iraq"
          ],
          [
           "Ireland"
          ],
          [
           "Israel"
          ],
          [
           "Italy"
          ],
          [
           "Jamaica"
          ],
          [
           "Japan"
          ],
          [
           "Jordan"
          ],
          [
           "Kazakhstan"
          ],
          [
           "Kenya"
          ],
          [
           "Kiribati"
          ],
          [
           "Kuwait"
          ],
          [
           "Kyrgyz Republic"
          ],
          [
           "Lao PDR"
          ],
          [
           "Latvia"
          ],
          [
           "Lebanon"
          ],
          [
           "Lesotho"
          ],
          [
           "Liberia"
          ],
          [
           "Libya"
          ],
          [
           "Lithuania"
          ],
          [
           "Luxembourg"
          ],
          [
           "Madagascar"
          ],
          [
           "Malawi"
          ],
          [
           "Malaysia"
          ],
          [
           "Maldives"
          ],
          [
           "Mali"
          ],
          [
           "Malta"
          ],
          [
           "Mauritania"
          ],
          [
           "Mauritius"
          ],
          [
           "Mexico"
          ],
          [
           "Moldova"
          ],
          [
           "Mongolia"
          ],
          [
           "Montenegro"
          ],
          [
           "Morocco"
          ],
          [
           "Mozambique"
          ],
          [
           "Myanmar"
          ],
          [
           "Namibia"
          ],
          [
           "Nauru"
          ],
          [
           "Nepal"
          ],
          [
           "Netherlands"
          ],
          [
           "New Zealand"
          ],
          [
           "Nicaragua"
          ],
          [
           "Niger"
          ],
          [
           "Nigeria"
          ],
          [
           "Korea, Dem. Rep."
          ],
          [
           "North Macedonia"
          ],
          [
           "Norway"
          ],
          [
           "Oman"
          ],
          [
           "Pakistan"
          ],
          [
           "Panama"
          ],
          [
           "Papua New Guinea"
          ],
          [
           "Paraguay"
          ],
          [
           "Peru"
          ],
          [
           "Philippines"
          ],
          [
           "Poland"
          ],
          [
           "Portugal"
          ],
          [
           "Qatar"
          ],
          [
           "Romania"
          ],
          [
           "Russian Federation"
          ],
          [
           "Rwanda"
          ],
          [
           "St. Kitts and Nevis"
          ],
          [
           "St. Lucia"
          ],
          [
           "St. Vincent and the Grenadines"
          ],
          [
           "Samoa"
          ],
          [
           "Sao Tome and Principe"
          ],
          [
           "Saudi Arabia"
          ],
          [
           "Senegal"
          ],
          [
           "Serbia"
          ],
          [
           "Seychelles"
          ],
          [
           "Sierra Leone"
          ],
          [
           "Singapore"
          ],
          [
           "Slovak Republic"
          ],
          [
           "Slovenia"
          ],
          [
           "Solomon Islands"
          ],
          [
           "Somalia"
          ],
          [
           "South Africa"
          ],
          [
           "Korea, Rep."
          ],
          [
           "South Sudan"
          ],
          [
           "Spain"
          ],
          [
           "Sri Lanka"
          ],
          [
           "Sudan"
          ],
          [
           "Suriname"
          ],
          [
           "Sweden"
          ],
          [
           "Switzerland"
          ],
          [
           "Syrian Arab Republic"
          ],
          [
           "Tajikistan"
          ],
          [
           "Tanzania"
          ],
          [
           "Thailand"
          ],
          [
           "Togo"
          ],
          [
           "Tonga"
          ],
          [
           "Trinidad and Tobago"
          ],
          [
           "Tunisia"
          ],
          [
           "Türkiye"
          ],
          [
           "Turkmenistan"
          ],
          [
           "Uganda"
          ],
          [
           "Ukraine"
          ],
          [
           "United Arab Emirates"
          ],
          [
           "United Kingdom"
          ],
          [
           "United States"
          ],
          [
           "Uruguay"
          ],
          [
           "Uzbekistan"
          ],
          [
           "Vanuatu"
          ],
          [
           "Venezuela, RB"
          ],
          [
           "Vietnam"
          ],
          [
           "Yemen, Rep."
          ],
          [
           "Zambia"
          ],
          [
           "Zimbabwe"
          ]
         ],
         "hovertemplate": "energy_per_capita=%{x}<br>Goal 1 Score=%{y}<br>country=%{customdata[0]}<extra></extra>",
         "legendgroup": "",
         "marker": {
          "color": "#636efa",
          "symbol": "circle"
         },
         "mode": "markers",
         "name": "",
         "orientation": "v",
         "showlegend": false,
         "type": "scatter",
         "x": [
          null,
          null,
          44.795945205479455,
          null,
          null,
          61.968835616438355,
          null,
          173.84182465753426,
          116.38788493150685,
          55.62100821917809,
          null,
          null,
          8.289846575342466,
          null,
          84.57201917808219,
          163.23909589041094,
          null,
          null,
          null,
          null,
          null,
          null,
          47.48985479452055,
          null,
          92.7018301369863,
          null,
          null,
          null,
          null,
          282.98816438356164,
          null,
          null,
          null,
          70.36753424657535,
          85.53445479452056,
          32.220701369863015,
          null,
          null,
          null,
          null,
          63.33251780821917,
          null,
          69.3406301369863,
          118.9803397260274,
          null,
          91.88437534246575,
          null,
          null,
          null,
          null,
          33.8989698630137,
          27.311835616438355,
          null,
          null,
          null,
          130.9716301369863,
          null,
          null,
          null,
          158.5908493150685,
          97.44317260273974,
          null,
          null,
          null,
          112.15909589041095,
          null,
          82.92736986301371,
          null,
          null,
          null,
          null,
          null,
          null,
          null,
          73.39529589041096,
          468.2590739726028,
          19.53180821917808,
          27.759323287671233,
          107.26393424657535,
          40.86192876712329,
          101.43096164383562,
          93.55874246575343,
          79.73813150684931,
          null,
          110.62375890410958,
          null,
          115.71350684931507,
          null,
          null,
          277.5097589041096,
          null,
          null,
          56.95866301369863,
          null,
          null,
          null,
          null,
          64.8218,
          163.9925095890411,
          null,
          null,
          107.47001369863014,
          null,
          null,
          null,
          null,
          null,
          48.8425506849315,
          null,
          null,
          null,
          19.53289315068493,
          null,
          null,
          null,
          null,
          null,
          148.99564383561645,
          122.69228493150685,
          null,
          null,
          null,
          null,
          40.08523287671233,
          268.5685780821918,
          249.59169589041096,
          11.60258904109589,
          null,
          null,
          null,
          27.193493150684933,
          13.537397260273972,
          81.58370684931506,
          70.06792602739726,
          576.044605479452,
          50.18779452054794,
          163.4253095890411,
          null,
          null,
          null,
          null,
          null,
          null,
          null,
          null,
          null,
          null,
          null,
          404.3077479452055,
          87.33251780821918,
          91.24706849315069,
          null,
          null,
          61.90241369863014,
          187.29905753424657,
          null,
          91.6550410958904,
          12.24492602739726,
          null,
          null,
          161.45740547945206,
          90.93571232876714,
          null,
          null,
          null,
          53.034942465753424,
          null,
          null,
          309.6760712328767,
          null,
          63.31127397260274,
          192.91175068493152,
          null,
          44.58342465753425,
          393.40916164383566,
          81.93112054794521,
          214.6518191780822,
          null,
          46.586558904109594,
          null,
          62.94975342465754,
          34.713446575342466,
          null,
          null,
          null
         ],
         "xaxis": "x",
         "y": [
          5.1265,
          98.632,
          97.7635,
          32.6725,
          null,
          96.882,
          95.7115,
          99.3495,
          99.18700000000001,
          99.3255,
          null,
          null,
          81.384,
          null,
          99.184,
          99.503,
          64.77000000000001,
          55.14,
          93.108,
          93.275,
          99.8965,
          65.1435,
          84.3935,
          null,
          98.6735,
          26.9505,
          0,
          null,
          49.9725,
          99.5865,
          91.456,
          4.517,
          25.746,
          95.70400000000001,
          97.96700000000001,
          73.54050000000001,
          49.894,
          25.7925,
          95.62100000000001,
          72.8525,
          99.411,
          null,
          99.933,
          99.73150000000001,
          7.4565,
          99.266,
          65.375,
          null,
          96.01950000000001,
          null,
          87.297,
          89.6195,
          90.44149999999999,
          null,
          null,
          98.5155,
          32.9105,
          53.684,
          91.813,
          99.6135,
          99.4905,
          87.525,
          28.2885,
          84.3595,
          99.477,
          58.61799999999999,
          99.071,
          null,
          77.85499999999999,
          65.0075,
          33.633,
          96.196,
          40.9975,
          70.846,
          98.922,
          99.85300000000001,
          92.337,
          87.1435,
          95.431,
          95.583,
          99.9315,
          98.58850000000001,
          98.4985,
          91.617,
          99.256,
          98.24199999999999,
          98.724,
          49.1885,
          null,
          null,
          91.6515,
          68.147,
          98.81,
          98.7295,
          31.2865,
          27.608,
          null,
          98.784,
          99.64099999999999,
          3.984,
          0,
          98.8935,
          99.087,
          46.713,
          99.65950000000001,
          77.10300000000001,
          97.9305,
          87.13850000000001,
          98.6,
          95.79400000000001,
          98.986,
          91.642,
          3.463,
          87.011,
          64.271,
          null,
          83.76750000000001,
          99.4265,
          null,
          73.6675,
          16.662,
          30.723,
          null,
          96.63300000000001,
          99.19900000000001,
          null,
          78.53450000000001,
          95.5395,
          30.785,
          95.665,
          86.01950000000001,
          81.01,
          99.061,
          98.672,
          null,
          98.68549999999999,
          98.88300000000001,
          26.7995,
          null,
          null,
          null,
          null,
          45.9055,
          null,
          66.213,
          98.66650000000001,
          null,
          65.4225,
          null,
          99.1735,
          99.40350000000001,
          null,
          20.6055,
          51.6655,
          99.4485,
          0,
          98.763,
          85.07300000000001,
          32.68,
          98.12700000000001,
          98.7515,
          99.4695,
          84.4875,
          81.71100000000001,
          25.661,
          98.678,
          33.247,
          null,
          98.26650000000001,
          97.8035,
          98.4485,
          98.912,
          25.684,
          null,
          99.6795,
          99.8005,
          99.41650000000001,
          98.461,
          70.5295,
          null,
          20.4085,
          97.9315,
          2.64,
          10.0895,
          22.0645
         ],
         "yaxis": "y"
        }
       ],
       "layout": {
        "legend": {
         "tracegroupgap": 0
        },
        "margin": {
         "t": 60
        },
        "template": {
         "data": {
          "bar": [
           {
            "error_x": {
             "color": "#2a3f5f"
            },
            "error_y": {
             "color": "#2a3f5f"
            },
            "marker": {
             "line": {
              "color": "#E5ECF6",
              "width": 0.5
             },
             "pattern": {
              "fillmode": "overlay",
              "size": 10,
              "solidity": 0.2
             }
            },
            "type": "bar"
           }
          ],
          "barpolar": [
           {
            "marker": {
             "line": {
              "color": "#E5ECF6",
              "width": 0.5
             },
             "pattern": {
              "fillmode": "overlay",
              "size": 10,
              "solidity": 0.2
             }
            },
            "type": "barpolar"
           }
          ],
          "carpet": [
           {
            "aaxis": {
             "endlinecolor": "#2a3f5f",
             "gridcolor": "white",
             "linecolor": "white",
             "minorgridcolor": "white",
             "startlinecolor": "#2a3f5f"
            },
            "baxis": {
             "endlinecolor": "#2a3f5f",
             "gridcolor": "white",
             "linecolor": "white",
             "minorgridcolor": "white",
             "startlinecolor": "#2a3f5f"
            },
            "type": "carpet"
           }
          ],
          "choropleth": [
           {
            "colorbar": {
             "outlinewidth": 0,
             "ticks": ""
            },
            "type": "choropleth"
           }
          ],
          "contour": [
           {
            "colorbar": {
             "outlinewidth": 0,
             "ticks": ""
            },
            "colorscale": [
             [
              0,
              "#0d0887"
             ],
             [
              0.1111111111111111,
              "#46039f"
             ],
             [
              0.2222222222222222,
              "#7201a8"
             ],
             [
              0.3333333333333333,
              "#9c179e"
             ],
             [
              0.4444444444444444,
              "#bd3786"
             ],
             [
              0.5555555555555556,
              "#d8576b"
             ],
             [
              0.6666666666666666,
              "#ed7953"
             ],
             [
              0.7777777777777778,
              "#fb9f3a"
             ],
             [
              0.8888888888888888,
              "#fdca26"
             ],
             [
              1,
              "#f0f921"
             ]
            ],
            "type": "contour"
           }
          ],
          "contourcarpet": [
           {
            "colorbar": {
             "outlinewidth": 0,
             "ticks": ""
            },
            "type": "contourcarpet"
           }
          ],
          "heatmap": [
           {
            "colorbar": {
             "outlinewidth": 0,
             "ticks": ""
            },
            "colorscale": [
             [
              0,
              "#0d0887"
             ],
             [
              0.1111111111111111,
              "#46039f"
             ],
             [
              0.2222222222222222,
              "#7201a8"
             ],
             [
              0.3333333333333333,
              "#9c179e"
             ],
             [
              0.4444444444444444,
              "#bd3786"
             ],
             [
              0.5555555555555556,
              "#d8576b"
             ],
             [
              0.6666666666666666,
              "#ed7953"
             ],
             [
              0.7777777777777778,
              "#fb9f3a"
             ],
             [
              0.8888888888888888,
              "#fdca26"
             ],
             [
              1,
              "#f0f921"
             ]
            ],
            "type": "heatmap"
           }
          ],
          "heatmapgl": [
           {
            "colorbar": {
             "outlinewidth": 0,
             "ticks": ""
            },
            "colorscale": [
             [
              0,
              "#0d0887"
             ],
             [
              0.1111111111111111,
              "#46039f"
             ],
             [
              0.2222222222222222,
              "#7201a8"
             ],
             [
              0.3333333333333333,
              "#9c179e"
             ],
             [
              0.4444444444444444,
              "#bd3786"
             ],
             [
              0.5555555555555556,
              "#d8576b"
             ],
             [
              0.6666666666666666,
              "#ed7953"
             ],
             [
              0.7777777777777778,
              "#fb9f3a"
             ],
             [
              0.8888888888888888,
              "#fdca26"
             ],
             [
              1,
              "#f0f921"
             ]
            ],
            "type": "heatmapgl"
           }
          ],
          "histogram": [
           {
            "marker": {
             "pattern": {
              "fillmode": "overlay",
              "size": 10,
              "solidity": 0.2
             }
            },
            "type": "histogram"
           }
          ],
          "histogram2d": [
           {
            "colorbar": {
             "outlinewidth": 0,
             "ticks": ""
            },
            "colorscale": [
             [
              0,
              "#0d0887"
             ],
             [
              0.1111111111111111,
              "#46039f"
             ],
             [
              0.2222222222222222,
              "#7201a8"
             ],
             [
              0.3333333333333333,
              "#9c179e"
             ],
             [
              0.4444444444444444,
              "#bd3786"
             ],
             [
              0.5555555555555556,
              "#d8576b"
             ],
             [
              0.6666666666666666,
              "#ed7953"
             ],
             [
              0.7777777777777778,
              "#fb9f3a"
             ],
             [
              0.8888888888888888,
              "#fdca26"
             ],
             [
              1,
              "#f0f921"
             ]
            ],
            "type": "histogram2d"
           }
          ],
          "histogram2dcontour": [
           {
            "colorbar": {
             "outlinewidth": 0,
             "ticks": ""
            },
            "colorscale": [
             [
              0,
              "#0d0887"
             ],
             [
              0.1111111111111111,
              "#46039f"
             ],
             [
              0.2222222222222222,
              "#7201a8"
             ],
             [
              0.3333333333333333,
              "#9c179e"
             ],
             [
              0.4444444444444444,
              "#bd3786"
             ],
             [
              0.5555555555555556,
              "#d8576b"
             ],
             [
              0.6666666666666666,
              "#ed7953"
             ],
             [
              0.7777777777777778,
              "#fb9f3a"
             ],
             [
              0.8888888888888888,
              "#fdca26"
             ],
             [
              1,
              "#f0f921"
             ]
            ],
            "type": "histogram2dcontour"
           }
          ],
          "mesh3d": [
           {
            "colorbar": {
             "outlinewidth": 0,
             "ticks": ""
            },
            "type": "mesh3d"
           }
          ],
          "parcoords": [
           {
            "line": {
             "colorbar": {
              "outlinewidth": 0,
              "ticks": ""
             }
            },
            "type": "parcoords"
           }
          ],
          "pie": [
           {
            "automargin": true,
            "type": "pie"
           }
          ],
          "scatter": [
           {
            "fillpattern": {
             "fillmode": "overlay",
             "size": 10,
             "solidity": 0.2
            },
            "type": "scatter"
           }
          ],
          "scatter3d": [
           {
            "line": {
             "colorbar": {
              "outlinewidth": 0,
              "ticks": ""
             }
            },
            "marker": {
             "colorbar": {
              "outlinewidth": 0,
              "ticks": ""
             }
            },
            "type": "scatter3d"
           }
          ],
          "scattercarpet": [
           {
            "marker": {
             "colorbar": {
              "outlinewidth": 0,
              "ticks": ""
             }
            },
            "type": "scattercarpet"
           }
          ],
          "scattergeo": [
           {
            "marker": {
             "colorbar": {
              "outlinewidth": 0,
              "ticks": ""
             }
            },
            "type": "scattergeo"
           }
          ],
          "scattergl": [
           {
            "marker": {
             "colorbar": {
              "outlinewidth": 0,
              "ticks": ""
             }
            },
            "type": "scattergl"
           }
          ],
          "scattermapbox": [
           {
            "marker": {
             "colorbar": {
              "outlinewidth": 0,
              "ticks": ""
             }
            },
            "type": "scattermapbox"
           }
          ],
          "scatterpolar": [
           {
            "marker": {
             "colorbar": {
              "outlinewidth": 0,
              "ticks": ""
             }
            },
            "type": "scatterpolar"
           }
          ],
          "scatterpolargl": [
           {
            "marker": {
             "colorbar": {
              "outlinewidth": 0,
              "ticks": ""
             }
            },
            "type": "scatterpolargl"
           }
          ],
          "scatterternary": [
           {
            "marker": {
             "colorbar": {
              "outlinewidth": 0,
              "ticks": ""
             }
            },
            "type": "scatterternary"
           }
          ],
          "surface": [
           {
            "colorbar": {
             "outlinewidth": 0,
             "ticks": ""
            },
            "colorscale": [
             [
              0,
              "#0d0887"
             ],
             [
              0.1111111111111111,
              "#46039f"
             ],
             [
              0.2222222222222222,
              "#7201a8"
             ],
             [
              0.3333333333333333,
              "#9c179e"
             ],
             [
              0.4444444444444444,
              "#bd3786"
             ],
             [
              0.5555555555555556,
              "#d8576b"
             ],
             [
              0.6666666666666666,
              "#ed7953"
             ],
             [
              0.7777777777777778,
              "#fb9f3a"
             ],
             [
              0.8888888888888888,
              "#fdca26"
             ],
             [
              1,
              "#f0f921"
             ]
            ],
            "type": "surface"
           }
          ],
          "table": [
           {
            "cells": {
             "fill": {
              "color": "#EBF0F8"
             },
             "line": {
              "color": "white"
             }
            },
            "header": {
             "fill": {
              "color": "#C8D4E3"
             },
             "line": {
              "color": "white"
             }
            },
            "type": "table"
           }
          ]
         },
         "layout": {
          "annotationdefaults": {
           "arrowcolor": "#2a3f5f",
           "arrowhead": 0,
           "arrowwidth": 1
          },
          "autotypenumbers": "strict",
          "coloraxis": {
           "colorbar": {
            "outlinewidth": 0,
            "ticks": ""
           }
          },
          "colorscale": {
           "diverging": [
            [
             0,
             "#8e0152"
            ],
            [
             0.1,
             "#c51b7d"
            ],
            [
             0.2,
             "#de77ae"
            ],
            [
             0.3,
             "#f1b6da"
            ],
            [
             0.4,
             "#fde0ef"
            ],
            [
             0.5,
             "#f7f7f7"
            ],
            [
             0.6,
             "#e6f5d0"
            ],
            [
             0.7,
             "#b8e186"
            ],
            [
             0.8,
             "#7fbc41"
            ],
            [
             0.9,
             "#4d9221"
            ],
            [
             1,
             "#276419"
            ]
           ],
           "sequential": [
            [
             0,
             "#0d0887"
            ],
            [
             0.1111111111111111,
             "#46039f"
            ],
            [
             0.2222222222222222,
             "#7201a8"
            ],
            [
             0.3333333333333333,
             "#9c179e"
            ],
            [
             0.4444444444444444,
             "#bd3786"
            ],
            [
             0.5555555555555556,
             "#d8576b"
            ],
            [
             0.6666666666666666,
             "#ed7953"
            ],
            [
             0.7777777777777778,
             "#fb9f3a"
            ],
            [
             0.8888888888888888,
             "#fdca26"
            ],
            [
             1,
             "#f0f921"
            ]
           ],
           "sequentialminus": [
            [
             0,
             "#0d0887"
            ],
            [
             0.1111111111111111,
             "#46039f"
            ],
            [
             0.2222222222222222,
             "#7201a8"
            ],
            [
             0.3333333333333333,
             "#9c179e"
            ],
            [
             0.4444444444444444,
             "#bd3786"
            ],
            [
             0.5555555555555556,
             "#d8576b"
            ],
            [
             0.6666666666666666,
             "#ed7953"
            ],
            [
             0.7777777777777778,
             "#fb9f3a"
            ],
            [
             0.8888888888888888,
             "#fdca26"
            ],
            [
             1,
             "#f0f921"
            ]
           ]
          },
          "colorway": [
           "#636efa",
           "#EF553B",
           "#00cc96",
           "#ab63fa",
           "#FFA15A",
           "#19d3f3",
           "#FF6692",
           "#B6E880",
           "#FF97FF",
           "#FECB52"
          ],
          "font": {
           "color": "#2a3f5f"
          },
          "geo": {
           "bgcolor": "white",
           "lakecolor": "white",
           "landcolor": "#E5ECF6",
           "showlakes": true,
           "showland": true,
           "subunitcolor": "white"
          },
          "hoverlabel": {
           "align": "left"
          },
          "hovermode": "closest",
          "mapbox": {
           "style": "light"
          },
          "paper_bgcolor": "white",
          "plot_bgcolor": "#E5ECF6",
          "polar": {
           "angularaxis": {
            "gridcolor": "white",
            "linecolor": "white",
            "ticks": ""
           },
           "bgcolor": "#E5ECF6",
           "radialaxis": {
            "gridcolor": "white",
            "linecolor": "white",
            "ticks": ""
           }
          },
          "scene": {
           "xaxis": {
            "backgroundcolor": "#E5ECF6",
            "gridcolor": "white",
            "gridwidth": 2,
            "linecolor": "white",
            "showbackground": true,
            "ticks": "",
            "zerolinecolor": "white"
           },
           "yaxis": {
            "backgroundcolor": "#E5ECF6",
            "gridcolor": "white",
            "gridwidth": 2,
            "linecolor": "white",
            "showbackground": true,
            "ticks": "",
            "zerolinecolor": "white"
           },
           "zaxis": {
            "backgroundcolor": "#E5ECF6",
            "gridcolor": "white",
            "gridwidth": 2,
            "linecolor": "white",
            "showbackground": true,
            "ticks": "",
            "zerolinecolor": "white"
           }
          },
          "shapedefaults": {
           "line": {
            "color": "#2a3f5f"
           }
          },
          "ternary": {
           "aaxis": {
            "gridcolor": "white",
            "linecolor": "white",
            "ticks": ""
           },
           "baxis": {
            "gridcolor": "white",
            "linecolor": "white",
            "ticks": ""
           },
           "bgcolor": "#E5ECF6",
           "caxis": {
            "gridcolor": "white",
            "linecolor": "white",
            "ticks": ""
           }
          },
          "title": {
           "x": 0.05
          },
          "xaxis": {
           "automargin": true,
           "gridcolor": "white",
           "linecolor": "white",
           "ticks": "",
           "title": {
            "standoff": 15
           },
           "zerolinecolor": "white",
           "zerolinewidth": 2
          },
          "yaxis": {
           "automargin": true,
           "gridcolor": "white",
           "linecolor": "white",
           "ticks": "",
           "title": {
            "standoff": 15
           },
           "zerolinecolor": "white",
           "zerolinewidth": 2
          }
         }
        },
        "xaxis": {
         "anchor": "y",
         "domain": [
          0,
          1
         ],
         "title": {
          "text": "Energy per capita, kWh/(day.person)"
         }
        },
        "yaxis": {
         "anchor": "x",
         "domain": [
          0,
          1
         ],
         "title": {
          "text": "Goal 1 Score"
         }
        }
       }
      }
     },
     "metadata": {},
     "output_type": "display_data"
    }
   ],
   "source": [
    "# plot energy_per_gdp vs sdg score in an interactive plot\n",
    "import plotly.express as px\n",
    "\n",
    "fig = px.scatter(df, x=\"energy_per_capita\", y=\"Goal 1 Score\", hover_data=[\"country\"])\n",
    "fig.update_xaxes(title_text=\"Energy per capita, kWh/(day.person)\")\n",
    "fig.show()\n",
    "\n",
    "# plt.figure(figsize=(10, 6))\n",
    "# plt.scatter(df['energy_per_capita']/365, df['Goal 1 Score'], color='blue', alpha=0.5)\n",
    "# plt.xlabel('Energy per capita, kWh/(day.person)')\n",
    "# plt.ylabel('Goal 7 Score')"
   ]
  },
  {
   "cell_type": "code",
   "execution_count": 4,
   "metadata": {},
   "outputs": [
    {
     "data": {
      "application/vnd.jupyter.widget-view+json": {
       "model_id": "509090cf4df54dc2b114f9d281acc677",
       "version_major": 2,
       "version_minor": 0
      },
      "text/plain": [
       "Dropdown(description='Y-axis:', index=12, options=('Goal 1 Score', 'Goal 2 Score', 'Goal 3 Score', 'Goal 4 Sco…"
      ]
     },
     "metadata": {},
     "output_type": "display_data"
    },
    {
     "data": {
      "application/vnd.jupyter.widget-view+json": {
       "model_id": "d731a750481d47d4b70c85cb68b7ce9d",
       "version_major": 2,
       "version_minor": 0
      },
      "text/plain": [
       "Output()"
      ]
     },
     "metadata": {},
     "output_type": "display_data"
    }
   ],
   "source": [
    "import matplotlib.pyplot as plt\n",
    "import pandas as pd\n",
    "import ipywidgets as widgets\n",
    "from IPython.display import display, clear_output\n",
    "\n",
    "\n",
    "# Dictionary mapping goals to their titles\n",
    "goal_titles = {\n",
    "    \"Goal 1 Score\": \"No Poverty\",\n",
    "    \"Goal 2 Score\": \"Zero Hunger\",\n",
    "    \"Goal 3 Score\": \"Good Health and Well-being\",\n",
    "    \"Goal 4 Score\": \"Quality Education\",\n",
    "    \"Goal 5 Score\": \"Gender Equality\",\n",
    "    \"Goal 6 Score\": \"Clean Water and Sanitation\",\n",
    "    \"Goal 7 Score\": \"Affordable and Clean Energy\",\n",
    "    \"Goal 8 Score\": \"Decent Work and Economic Growth\",\n",
    "    \"Goal 9 Score\": \"Industry, Innovation, and Infrastructure\",\n",
    "    \"Goal 10 Score\": \"Reduced Inequality\",\n",
    "    \"Goal 11 Score\": \"Sustainable Cities and Communities\",\n",
    "    \"Goal 12 Score\": \"Responsible Consumption and Production\",\n",
    "    \"Goal 13 Score\": \"Climate Action\",\n",
    "    \"Goal 14 Score\": \"Life Below Water\",\n",
    "    \"Goal 15 Score\": \"Life on Land\",\n",
    "    \"Goal 16 Score\": \"Peace and Justice Strong Institutions\",\n",
    "    \"Goal 17 Score\": \"Partnerships to achieve the Goal\",\n",
    "}\n",
    "\n",
    "# Create an output widget\n",
    "output = widgets.Output()\n",
    "\n",
    "\n",
    "# Function to update the plot\n",
    "def update_plot(y_axis):\n",
    "    with output:\n",
    "        clear_output(wait=True)\n",
    "        plt.figure(figsize=(10, 6))\n",
    "        plt.scatter(df[\"energy_per_capita\"], df[y_axis])\n",
    "        plt.xlabel(\"Energy per capita, kWh/(day.person)\")\n",
    "        plt.ylabel(y_axis)\n",
    "        plt.title(f\"Energy per capita vs {y_axis} ({goal_titles[y_axis]})\")\n",
    "        for i, txt in enumerate(df[\"iso_code\"]):\n",
    "            plt.annotate(txt, (df[\"energy_per_capita\"][i], df[y_axis][i]), fontsize=8)\n",
    "        plt.show()\n",
    "\n",
    "\n",
    "# Create a dropdown widget\n",
    "dropdown = widgets.Dropdown(\n",
    "    options=[f\"Goal {i} Score\" for i in range(1, 18)],\n",
    "    value=\"Goal 13 Score\",\n",
    "    description=\"Y-axis:\",\n",
    ")\n",
    "\n",
    "# Display the dropdown and update the plot when the value changes\n",
    "widgets.interactive(update_plot, y_axis=dropdown)\n",
    "display(dropdown)\n",
    "display(output)\n",
    "\n",
    "# Initial plot\n",
    "update_plot(dropdown.value)"
   ]
  },
  {
   "cell_type": "code",
   "execution_count": 5,
   "metadata": {},
   "outputs": [
    {
     "data": {
      "image/png": "[encoded data removed]",
      "text/plain": [
       "<Figure size 1000x600 with 1 Axes>"
      ]
     },
     "metadata": {},
     "output_type": "display_data"
    }
   ],
   "source": [
    "# plot energy_per_gdp vs sdg score 1 with seaborn\n",
    "sns.set_theme(style=\"white\")\n",
    "plt.figure(figsize=(10, 6))\n",
    "sns.scatterplot(data=df, x=\"energy_per_capita\", y=\"Goal 1 Score\")\n",
    "plt.xlabel(\"Energy per capita, kWh/(day.person)\")\n",
    "# plt.ylabel('Goal 1 Score')\n",
    "plt.show()"
   ]
  },
  {
   "cell_type": "code",
   "execution_count": 6,
   "metadata": {},
   "outputs": [
    {
     "data": {
      "application/vnd.plotly.v1+json": {
       "config": {
        "plotlyServerURL": "https://plot.ly"
       },
       "data": [
        {
         "customdata": [
          [
           "Afghanistan"
          ],
          [
           "Albania"
          ],
          [
           "Algeria"
          ],
          [
           "Angola"
          ],
          [
           "Antigua and Barbuda"
          ],
          [
           "Argentina"
          ],
          [
           "Armenia"
          ],
          [
           "Australia"
          ],
          [
           "Austria"
          ],
          [
           "Azerbaijan"
          ],
          [
           "Bahamas, The"
          ],
          [
           "Bahrain"
          ],
          [
           "Bangladesh"
          ],
          [
           "Barbados"
          ],
          [
           "Belarus"
          ],
          [
           "Belgium"
          ],
          [
           "Belize"
          ],
          [
           "Benin"
          ],
          [
           "Bhutan"
          ],
          [
           "Bolivia"
          ],
          [
           "Bosnia and Herzegovina"
          ],
          [
           "Botswana"
          ],
          [
           "Brazil"
          ],
          [
           "Brunei Darussalam"
          ],
          [
           "Bulgaria"
          ],
          [
           "Burkina Faso"
          ],
          [
           "Burundi"
          ],
          [
           "Cambodia"
          ],
          [
           "Cameroon"
          ],
          [
           "Canada"
          ],
          [
           "Cabo Verde"
          ],
          [
           "Central African Republic"
          ],
          [
           "Chad"
          ],
          [
           "Chile"
          ],
          [
           "China"
          ],
          [
           "Colombia"
          ],
          [
           "Comoros"
          ],
          [
           "Congo, Rep."
          ],
          [
           "Costa Rica"
          ],
          [
           "Cote d'Ivoire"
          ],
          [
           "Croatia"
          ],
          [
           "Cuba"
          ],
          [
           "Cyprus"
          ],
          [
           "Czechia"
          ],
          [
           "Congo, Dem. Rep."
          ],
          [
           "Denmark"
          ],
          [
           "Djibouti"
          ],
          [
           "Dominica"
          ],
          [
           "Dominican Republic"
          ],
          [
           "Timor-Leste"
          ],
          [
           "Ecuador"
          ],
          [
           "Egypt, Arab Rep."
          ],
          [
           "El Salvador"
          ],
          [
           "Equatorial Guinea"
          ],
          [
           "Eritrea"
          ],
          [
           "Estonia"
          ],
          [
           "Eswatini"
          ],
          [
           "Ethiopia"
          ],
          [
           "Fiji"
          ],
          [
           "Finland"
          ],
          [
           "France"
          ],
          [
           "Gabon"
          ],
          [
           "Gambia, The"
          ],
          [
           "Georgia"
          ],
          [
           "Germany"
          ],
          [
           "Ghana"
          ],
          [
           "Greece"
          ],
          [
           "Grenada"
          ],
          [
           "Guatemala"
          ],
          [
           "Guinea"
          ],
          [
           "Guinea-Bissau"
          ],
          [
           "Guyana"
          ],
          [
           "Haiti"
          ],
          [
           "Honduras"
          ],
          [
           "Hungary"
          ],
          [
           "Iceland"
          ],
          [
           "India"
          ],
          [
           "Indonesia"
          ],
          [
           "Iran, Islamic Rep."
          ],
          [
           "Iraq"
          ],
          [
           "Ireland"
          ],
          [
           "Israel"
          ],
          [
           "Italy"
          ],
          [
           "Jamaica"
          ],
          [
           "Japan"
          ],
          [
           "Jordan"
          ],
          [
           "Kazakhstan"
          ],
          [
           "Kenya"
          ],
          [
           "Kiribati"
          ],
          [
           "Kuwait"
          ],
          [
           "Kyrgyz Republic"
          ],
          [
           "Lao PDR"
          ],
          [
           "Latvia"
          ],
          [
           "Lebanon"
          ],
          [
           "Lesotho"
          ],
          [
           "Liberia"
          ],
          [
           "Libya"
          ],
          [
           "Lithuania"
          ],
          [
           "Luxembourg"
          ],
          [
           "Madagascar"
          ],
          [
           "Malawi"
          ],
          [
           "Malaysia"
          ],
          [
           "Maldives"
          ],
          [
           "Mali"
          ],
          [
           "Malta"
          ],
          [
           "Mauritania"
          ],
          [
           "Mauritius"
          ],
          [
           "Mexico"
          ],
          [
           "Moldova"
          ],
          [
           "Mongolia"
          ],
          [
           "Montenegro"
          ],
          [
           "Morocco"
          ],
          [
           "Mozambique"
          ],
          [
           "Myanmar"
          ],
          [
           "Namibia"
          ],
          [
           "Nauru"
          ],
          [
           "Nepal"
          ],
          [
           "Netherlands"
          ],
          [
           "New Zealand"
          ],
          [
           "Nicaragua"
          ],
          [
           "Niger"
          ],
          [
           "Nigeria"
          ],
          [
           "Korea, Dem. Rep."
          ],
          [
           "North Macedonia"
          ],
          [
           "Norway"
          ],
          [
           "Oman"
          ],
          [
           "Pakistan"
          ],
          [
           "Panama"
          ],
          [
           "Papua New Guinea"
          ],
          [
           "Paraguay"
          ],
          [
           "Peru"
          ],
          [
           "Philippines"
          ],
          [
           "Poland"
          ],
          [
           "Portugal"
          ],
          [
           "Qatar"
          ],
          [
           "Romania"
          ],
          [
           "Russian Federation"
          ],
          [
           "Rwanda"
          ],
          [
           "St. Kitts and Nevis"
          ],
          [
           "St. Lucia"
          ],
          [
           "St. Vincent and the Grenadines"
          ],
          [
           "Samoa"
          ],
          [
           "Sao Tome and Principe"
          ],
          [
           "Saudi Arabia"
          ],
          [
           "Senegal"
          ],
          [
           "Serbia"
          ],
          [
           "Seychelles"
          ],
          [
           "Sierra Leone"
          ],
          [
           "Singapore"
          ],
          [
           "Slovak Republic"
          ],
          [
           "Slovenia"
          ],
          [
           "Solomon Islands"
          ],
          [
           "Somalia"
          ],
          [
           "South Africa"
          ],
          [
           "Korea, Rep."
          ],
          [
           "South Sudan"
          ],
          [
           "Spain"
          ],
          [
           "Sri Lanka"
          ],
          [
           "Sudan"
          ],
          [
           "Suriname"
          ],
          [
           "Sweden"
          ],
          [
           "Switzerland"
          ],
          [
           "Syrian Arab Republic"
          ],
          [
           "Tajikistan"
          ],
          [
           "Tanzania"
          ],
          [
           "Thailand"
          ],
          [
           "Togo"
          ],
          [
           "Tonga"
          ],
          [
           "Trinidad and Tobago"
          ],
          [
           "Tunisia"
          ],
          [
           "Türkiye"
          ],
          [
           "Turkmenistan"
          ],
          [
           "Uganda"
          ],
          [
           "Ukraine"
          ],
          [
           "United Arab Emirates"
          ],
          [
           "United Kingdom"
          ],
          [
           "United States"
          ],
          [
           "Uruguay"
          ],
          [
           "Uzbekistan"
          ],
          [
           "Vanuatu"
          ],
          [
           "Venezuela, RB"
          ],
          [
           "Vietnam"
          ],
          [
           "Yemen, Rep."
          ],
          [
           "Zambia"
          ],
          [
           "Zimbabwe"
          ]
         ],
         "hovertemplate": "energy_per_capita=%{x}<br>gdp_per_capita=%{y}<br>country=%{customdata[0]}<extra></extra>",
         "legendgroup": "",
         "marker": {
          "color": "#636efa",
          "symbol": "circle"
         },
         "mode": "markers",
         "name": "",
         "orientation": "v",
         "showlegend": false,
         "type": "scatter",
         "x": [
          null,
          null,
          44.795945205479455,
          null,
          null,
          61.968835616438355,
          null,
          173.84182465753426,
          116.38788493150685,
          55.62100821917809,
          null,
          null,
          8.289846575342466,
          null,
          84.57201917808219,
          163.23909589041094,
          null,
          null,
          null,
          null,
          null,
          null,
          47.48985479452055,
          null,
          92.7018301369863,
          null,
          null,
          null,
          null,
          282.98816438356164,
          null,
          null,
          null,
          70.36753424657535,
          85.53445479452056,
          32.220701369863015,
          null,
          null,
          null,
          null,
          63.33251780821917,
          null,
          69.3406301369863,
          118.9803397260274,
          null,
          91.88437534246575,
          null,
          null,
          null,
          null,
          33.8989698630137,
          27.311835616438355,
          null,
          null,
          null,
          130.9716301369863,
          null,
          null,
          null,
          158.5908493150685,
          97.44317260273974,
          null,
          null,
          null,
          112.15909589041095,
          null,
          82.92736986301371,
          null,
          null,
          null,
          null,
          null,
          null,
          null,
          73.39529589041096,
          468.2590739726028,
          19.53180821917808,
          27.759323287671233,
          107.26393424657535,
          40.86192876712329,
          101.43096164383562,
          93.55874246575343,
          79.73813150684931,
          null,
          110.62375890410958,
          null,
          115.71350684931507,
          null,
          null,
          277.5097589041096,
          null,
          null,
          56.95866301369863,
          null,
          null,
          null,
          null,
          64.8218,
          163.9925095890411,
          null,
          null,
          107.47001369863014,
          null,
          null,
          null,
          null,
          null,
          48.8425506849315,
          null,
          null,
          null,
          19.53289315068493,
          null,
          null,
          null,
          null,
          null,
          148.99564383561645,
          122.69228493150685,
          null,
          null,
          null,
          null,
          40.08523287671233,
          268.5685780821918,
          249.59169589041096,
          11.60258904109589,
          null,
          null,
          null,
          27.193493150684933,
          13.537397260273972,
          81.58370684931506,
          70.06792602739726,
          576.044605479452,
          50.18779452054794,
          163.4253095890411,
          null,
          null,
          null,
          null,
          null,
          null,
          null,
          null,
          null,
          null,
          null,
          404.3077479452055,
          87.33251780821918,
          91.24706849315069,
          null,
          null,
          61.90241369863014,
          187.29905753424657,
          null,
          91.6550410958904,
          12.24492602739726,
          null,
          null,
          161.45740547945206,
          90.93571232876714,
          null,
          null,
          null,
          53.034942465753424,
          null,
          null,
          309.6760712328767,
          null,
          63.31127397260274,
          192.91175068493152,
          null,
          44.58342465753425,
          393.40916164383566,
          81.93112054794521,
          214.6518191780822,
          null,
          46.586558904109594,
          null,
          62.94975342465754,
          34.713446575342466,
          null,
          null,
          null
         ],
         "xaxis": "x",
         "y": [
          1296.0141899690075,
          12725.882871656162,
          13268.979675848694,
          4449.303604743443,
          null,
          18785.062966196416,
          14285.968045713102,
          51351.584988736475,
          44612.13448406123,
          16930.800414517056,
          null,
          39918.68174485494,
          5012.92203379185,
          12100.317022077359,
          18434.674547842696,
          42011.12221074213,
          null,
          2493.1252860809486,
          null,
          6394.35393747146,
          14556.58025254134,
          14938.96832452572,
          14803.591187220658,
          null,
          20405.64400088175,
          1645.9746981577475,
          711.9762319696456,
          3884.6119842071594,
          2963.609316463082,
          45802.272180338194,
          7166.937005404931,
          672.5142577325427,
          1360.8072748479517,
          22870.03356013364,
          18911.744318743382,
          14317.704374759562,
          2010.171162655073,
          3966.0478082818154,
          15508.288432214415,
          4313.552420925899,
          25378.532704142384,
          7505.662512203227,
          27371.337405273065,
          32682.214206036027,
          922.2784344597329,
          50903.7434876635,
          3029.5565922678393,
          9278.677038951044,
          17026.04154648115,
          null,
          9723.285368225614,
          13158.177858896526,
          9354.049619081392,
          12055.159456354826,
          null,
          30164.348508065978,
          7984.580520604487,
          2188.17783041663,
          null,
          40816.68441048993,
          41338.51628307244,
          15083.858700534158,
          1720.9172965951527,
          18835.83184100994,
          46894.80911101664,
          4344.379144978159,
          25411.01513841347,
          null,
          8194.650797801423,
          1708.4682081387805,
          1547.941146857398,
          null,
          1514.9687602152542,
          4767.46222214469,
          28632.138468737383,
          42958.99997586504,
          7392.35610615025,
          12704.45153533625,
          17754.9288358715,
          11858.09609915686,
          61394.44347842014,
          37255.023030957214,
          36180.569231961694,
          7080.481016007034,
          38518.9947888087,
          8796.998893572718,
          25963.19823602415,
          3523.4318343604527,
          null,
          51292.35867905585,
          4781.301945624701,
          7298.501885323509,
          27692.091690829297,
          8878.685012634469,
          2065.08357178729,
          798.0027042878237,
          13423.350017556366,
          30840.8979650611,
          55787.99044473372,
          1303.6118590620106,
          1296.9830551035764,
          25858.2887029772,
          null,
          1352.2009666632114,
          34305.971029059074,
          3309.557000987723,
          20768.78155690208,
          15948.015159478768,
          7280.050493233563,
          13185.564343878674,
          20371.179526760454,
          8320.123154545243,
          953.6603942065277,
          5371.516947428199,
          8515.203610094803,
          null,
          3141.521987629399,
          50080.170639751035,
          38686.90120531373,
          4715.446170230679,
          945.3896602950964,
          5191.005284934445,
          1553.1168557055516,
          13741.962359679901,
          88755.92344659612,
          38755.11092891637,
          5592.433754839354,
          21494.92132935261,
          null,
          9604.79016627229,
          10034.706958333827,
          8781.755904585129,
          30885.8376100405,
          28791.45483731299,
          141654.74710654138,
          25674.486317345454,
          25785.05559770479,
          2066.260402816291,
          null,
          9724.060487457748,
          null,
          null,
          3629.1284252373644,
          50094.62207996611,
          2997.957909622595,
          16179.024308008251,
          28500.191944742615,
          1357.3840087578928,
          77279.9802560006,
          26643.328324226914,
          32731.361271565867,
          null,
          null,
          12080.68786295442,
          41253.020970279955,
          null,
          34171.29344780144,
          11668.507520514471,
          null,
          null,
          46847.871409695515,
          63999.40607685787,
          2366.2176751784227,
          5078.376444632756,
          3026.369744353974,
          15679.084903049812,
          1612.175731124346,
          null,
          24501.848697913774,
          10477.237588899296,
          27958.30235545653,
          15161.922934040475,
          2158.6520859398815,
          7787.23145824526,
          82585.54406640386,
          38739.02849056901,
          57622.686878130924,
          20178.3067737604,
          11365.844145810885,
          null,
          5288.801072444411,
          8492.010841369643,
          1805.9083817684698,
          3420.458242742537,
          1587.0545961747955
         ],
         "yaxis": "y"
        }
       ],
       "layout": {
        "legend": {
         "tracegroupgap": 0
        },
        "margin": {
         "t": 60
        },
        "template": {
         "data": {
          "bar": [
           {
            "error_x": {
             "color": "#2a3f5f"
            },
            "error_y": {
             "color": "#2a3f5f"
            },
            "marker": {
             "line": {
              "color": "#E5ECF6",
              "width": 0.5
             },
             "pattern": {
              "fillmode": "overlay",
              "size": 10,
              "solidity": 0.2
             }
            },
            "type": "bar"
           }
          ],
          "barpolar": [
           {
            "marker": {
             "line": {
              "color": "#E5ECF6",
              "width": 0.5
             },
             "pattern": {
              "fillmode": "overlay",
              "size": 10,
              "solidity": 0.2
             }
            },
            "type": "barpolar"
           }
          ],
          "carpet": [
           {
            "aaxis": {
             "endlinecolor": "#2a3f5f",
             "gridcolor": "white",
             "linecolor": "white",
             "minorgridcolor": "white",
             "startlinecolor": "#2a3f5f"
            },
            "baxis": {
             "endlinecolor": "#2a3f5f",
             "gridcolor": "white",
             "linecolor": "white",
             "minorgridcolor": "white",
             "startlinecolor": "#2a3f5f"
            },
            "type": "carpet"
           }
          ],
          "choropleth": [
           {
            "colorbar": {
             "outlinewidth": 0,
             "ticks": ""
            },
            "type": "choropleth"
           }
          ],
          "contour": [
           {
            "colorbar": {
             "outlinewidth": 0,
             "ticks": ""
            },
            "colorscale": [
             [
              0,
              "#0d0887"
             ],
             [
              0.1111111111111111,
              "#46039f"
             ],
             [
              0.2222222222222222,
              "#7201a8"
             ],
             [
              0.3333333333333333,
              "#9c179e"
             ],
             [
              0.4444444444444444,
              "#bd3786"
             ],
             [
              0.5555555555555556,
              "#d8576b"
             ],
             [
              0.6666666666666666,
              "#ed7953"
             ],
             [
              0.7777777777777778,
              "#fb9f3a"
             ],
             [
              0.8888888888888888,
              "#fdca26"
             ],
             [
              1,
              "#f0f921"
             ]
            ],
            "type": "contour"
           }
          ],
          "contourcarpet": [
           {
            "colorbar": {
             "outlinewidth": 0,
             "ticks": ""
            },
            "type": "contourcarpet"
           }
          ],
          "heatmap": [
           {
            "colorbar": {
             "outlinewidth": 0,
             "ticks": ""
            },
            "colorscale": [
             [
              0,
              "#0d0887"
             ],
             [
              0.1111111111111111,
              "#46039f"
             ],
             [
              0.2222222222222222,
              "#7201a8"
             ],
             [
              0.3333333333333333,
              "#9c179e"
             ],
             [
              0.4444444444444444,
              "#bd3786"
             ],
             [
              0.5555555555555556,
              "#d8576b"
             ],
             [
              0.6666666666666666,
              "#ed7953"
             ],
             [
              0.7777777777777778,
              "#fb9f3a"
             ],
             [
              0.8888888888888888,
              "#fdca26"
             ],
             [
              1,
              "#f0f921"
             ]
            ],
            "type": "heatmap"
           }
          ],
          "heatmapgl": [
           {
            "colorbar": {
             "outlinewidth": 0,
             "ticks": ""
            },
            "colorscale": [
             [
              0,
              "#0d0887"
             ],
             [
              0.1111111111111111,
              "#46039f"
             ],
             [
              0.2222222222222222,
              "#7201a8"
             ],
             [
              0.3333333333333333,
              "#9c179e"
             ],
             [
              0.4444444444444444,
              "#bd3786"
             ],
             [
              0.5555555555555556,
              "#d8576b"
             ],
             [
              0.6666666666666666,
              "#ed7953"
             ],
             [
              0.7777777777777778,
              "#fb9f3a"
             ],
             [
              0.8888888888888888,
              "#fdca26"
             ],
             [
              1,
              "#f0f921"
             ]
            ],
            "type": "heatmapgl"
           }
          ],
          "histogram": [
           {
            "marker": {
             "pattern": {
              "fillmode": "overlay",
              "size": 10,
              "solidity": 0.2
             }
            },
            "type": "histogram"
           }
          ],
          "histogram2d": [
           {
            "colorbar": {
             "outlinewidth": 0,
             "ticks": ""
            },
            "colorscale": [
             [
              0,
              "#0d0887"
             ],
             [
              0.1111111111111111,
              "#46039f"
             ],
             [
              0.2222222222222222,
              "#7201a8"
             ],
             [
              0.3333333333333333,
              "#9c179e"
             ],
             [
              0.4444444444444444,
              "#bd3786"
             ],
             [
              0.5555555555555556,
              "#d8576b"
             ],
             [
              0.6666666666666666,
              "#ed7953"
             ],
             [
              0.7777777777777778,
              "#fb9f3a"
             ],
             [
              0.8888888888888888,
              "#fdca26"
             ],
             [
              1,
              "#f0f921"
             ]
            ],
            "type": "histogram2d"
           }
          ],
          "histogram2dcontour": [
           {
            "colorbar": {
             "outlinewidth": 0,
             "ticks": ""
            },
            "colorscale": [
             [
              0,
              "#0d0887"
             ],
             [
              0.1111111111111111,
              "#46039f"
             ],
             [
              0.2222222222222222,
              "#7201a8"
             ],
             [
              0.3333333333333333,
              "#9c179e"
             ],
             [
              0.4444444444444444,
              "#bd3786"
             ],
             [
              0.5555555555555556,
              "#d8576b"
             ],
             [
              0.6666666666666666,
              "#ed7953"
             ],
             [
              0.7777777777777778,
              "#fb9f3a"
             ],
             [
              0.8888888888888888,
              "#fdca26"
             ],
             [
              1,
              "#f0f921"
             ]
            ],
            "type": "histogram2dcontour"
           }
          ],
          "mesh3d": [
           {
            "colorbar": {
             "outlinewidth": 0,
             "ticks": ""
            },
            "type": "mesh3d"
           }
          ],
          "parcoords": [
           {
            "line": {
             "colorbar": {
              "outlinewidth": 0,
              "ticks": ""
             }
            },
            "type": "parcoords"
           }
          ],
          "pie": [
           {
            "automargin": true,
            "type": "pie"
           }
          ],
          "scatter": [
           {
            "fillpattern": {
             "fillmode": "overlay",
             "size": 10,
             "solidity": 0.2
            },
            "type": "scatter"
           }
          ],
          "scatter3d": [
           {
            "line": {
             "colorbar": {
              "outlinewidth": 0,
              "ticks": ""
             }
            },
            "marker": {
             "colorbar": {
              "outlinewidth": 0,
              "ticks": ""
             }
            },
            "type": "scatter3d"
           }
          ],
          "scattercarpet": [
           {
            "marker": {
             "colorbar": {
              "outlinewidth": 0,
              "ticks": ""
             }
            },
            "type": "scattercarpet"
           }
          ],
          "scattergeo": [
           {
            "marker": {
             "colorbar": {
              "outlinewidth": 0,
              "ticks": ""
             }
            },
            "type": "scattergeo"
           }
          ],
          "scattergl": [
           {
            "marker": {
             "colorbar": {
              "outlinewidth": 0,
              "ticks": ""
             }
            },
            "type": "scattergl"
           }
          ],
          "scattermapbox": [
           {
            "marker": {
             "colorbar": {
              "outlinewidth": 0,
              "ticks": ""
             }
            },
            "type": "scattermapbox"
           }
          ],
          "scatterpolar": [
           {
            "marker": {
             "colorbar": {
              "outlinewidth": 0,
              "ticks": ""
             }
            },
            "type": "scatterpolar"
           }
          ],
          "scatterpolargl": [
           {
            "marker": {
             "colorbar": {
              "outlinewidth": 0,
              "ticks": ""
             }
            },
            "type": "scatterpolargl"
           }
          ],
          "scatterternary": [
           {
            "marker": {
             "colorbar": {
              "outlinewidth": 0,
              "ticks": ""
             }
            },
            "type": "scatterternary"
           }
          ],
          "surface": [
           {
            "colorbar": {
             "outlinewidth": 0,
             "ticks": ""
            },
            "colorscale": [
             [
              0,
              "#0d0887"
             ],
             [
              0.1111111111111111,
              "#46039f"
             ],
             [
              0.2222222222222222,
              "#7201a8"
             ],
             [
              0.3333333333333333,
              "#9c179e"
             ],
             [
              0.4444444444444444,
              "#bd3786"
             ],
             [
              0.5555555555555556,
              "#d8576b"
             ],
             [
              0.6666666666666666,
              "#ed7953"
             ],
             [
              0.7777777777777778,
              "#fb9f3a"
             ],
             [
              0.8888888888888888,
              "#fdca26"
             ],
             [
              1,
              "#f0f921"
             ]
            ],
            "type": "surface"
           }
          ],
          "table": [
           {
            "cells": {
             "fill": {
              "color": "#EBF0F8"
             },
             "line": {
              "color": "white"
             }
            },
            "header": {
             "fill": {
              "color": "#C8D4E3"
             },
             "line": {
              "color": "white"
             }
            },
            "type": "table"
           }
          ]
         },
         "layout": {
          "annotationdefaults": {
           "arrowcolor": "#2a3f5f",
           "arrowhead": 0,
           "arrowwidth": 1
          },
          "autotypenumbers": "strict",
          "coloraxis": {
           "colorbar": {
            "outlinewidth": 0,
            "ticks": ""
           }
          },
          "colorscale": {
           "diverging": [
            [
             0,
             "#8e0152"
            ],
            [
             0.1,
             "#c51b7d"
            ],
            [
             0.2,
             "#de77ae"
            ],
            [
             0.3,
             "#f1b6da"
            ],
            [
             0.4,
             "#fde0ef"
            ],
            [
             0.5,
             "#f7f7f7"
            ],
            [
             0.6,
             "#e6f5d0"
            ],
            [
             0.7,
             "#b8e186"
            ],
            [
             0.8,
             "#7fbc41"
            ],
            [
             0.9,
             "#4d9221"
            ],
            [
             1,
             "#276419"
            ]
           ],
           "sequential": [
            [
             0,
             "#0d0887"
            ],
            [
             0.1111111111111111,
             "#46039f"
            ],
            [
             0.2222222222222222,
             "#7201a8"
            ],
            [
             0.3333333333333333,
             "#9c179e"
            ],
            [
             0.4444444444444444,
             "#bd3786"
            ],
            [
             0.5555555555555556,
             "#d8576b"
            ],
            [
             0.6666666666666666,
             "#ed7953"
            ],
            [
             0.7777777777777778,
             "#fb9f3a"
            ],
            [
             0.8888888888888888,
             "#fdca26"
            ],
            [
             1,
             "#f0f921"
            ]
           ],
           "sequentialminus": [
            [
             0,
             "#0d0887"
            ],
            [
             0.1111111111111111,
             "#46039f"
            ],
            [
             0.2222222222222222,
             "#7201a8"
            ],
            [
             0.3333333333333333,
             "#9c179e"
            ],
            [
             0.4444444444444444,
             "#bd3786"
            ],
            [
             0.5555555555555556,
             "#d8576b"
            ],
            [
             0.6666666666666666,
             "#ed7953"
            ],
            [
             0.7777777777777778,
             "#fb9f3a"
            ],
            [
             0.8888888888888888,
             "#fdca26"
            ],
            [
             1,
             "#f0f921"
            ]
           ]
          },
          "colorway": [
           "#636efa",
           "#EF553B",
           "#00cc96",
           "#ab63fa",
           "#FFA15A",
           "#19d3f3",
           "#FF6692",
           "#B6E880",
           "#FF97FF",
           "#FECB52"
          ],
          "font": {
           "color": "#2a3f5f"
          },
          "geo": {
           "bgcolor": "white",
           "lakecolor": "white",
           "landcolor": "#E5ECF6",
           "showlakes": true,
           "showland": true,
           "subunitcolor": "white"
          },
          "hoverlabel": {
           "align": "left"
          },
          "hovermode": "closest",
          "mapbox": {
           "style": "light"
          },
          "paper_bgcolor": "white",
          "plot_bgcolor": "#E5ECF6",
          "polar": {
           "angularaxis": {
            "gridcolor": "white",
            "linecolor": "white",
            "ticks": ""
           },
           "bgcolor": "#E5ECF6",
           "radialaxis": {
            "gridcolor": "white",
            "linecolor": "white",
            "ticks": ""
           }
          },
          "scene": {
           "xaxis": {
            "backgroundcolor": "#E5ECF6",
            "gridcolor": "white",
            "gridwidth": 2,
            "linecolor": "white",
            "showbackground": true,
            "ticks": "",
            "zerolinecolor": "white"
           },
           "yaxis": {
            "backgroundcolor": "#E5ECF6",
            "gridcolor": "white",
            "gridwidth": 2,
            "linecolor": "white",
            "showbackground": true,
            "ticks": "",
            "zerolinecolor": "white"
           },
           "zaxis": {
            "backgroundcolor": "#E5ECF6",
            "gridcolor": "white",
            "gridwidth": 2,
            "linecolor": "white",
            "showbackground": true,
            "ticks": "",
            "zerolinecolor": "white"
           }
          },
          "shapedefaults": {
           "line": {
            "color": "#2a3f5f"
           }
          },
          "ternary": {
           "aaxis": {
            "gridcolor": "white",
            "linecolor": "white",
            "ticks": ""
           },
           "baxis": {
            "gridcolor": "white",
            "linecolor": "white",
            "ticks": ""
           },
           "bgcolor": "#E5ECF6",
           "caxis": {
            "gridcolor": "white",
            "linecolor": "white",
            "ticks": ""
           }
          },
          "title": {
           "x": 0.05
          },
          "xaxis": {
           "automargin": true,
           "gridcolor": "white",
           "linecolor": "white",
           "ticks": "",
           "title": {
            "standoff": 15
           },
           "zerolinecolor": "white",
           "zerolinewidth": 2
          },
          "yaxis": {
           "automargin": true,
           "gridcolor": "white",
           "linecolor": "white",
           "ticks": "",
           "title": {
            "standoff": 15
           },
           "zerolinecolor": "white",
           "zerolinewidth": 2
          }
         }
        },
        "xaxis": {
         "anchor": "y",
         "domain": [
          0,
          1
         ],
         "title": {
          "text": "Energy per capita, kWh/(day.person)"
         }
        },
        "yaxis": {
         "anchor": "x",
         "domain": [
          0,
          1
         ],
         "title": {
          "text": "GDP per capita, $"
         }
        }
       }
      }
     },
     "metadata": {},
     "output_type": "display_data"
    }
   ],
   "source": [
    "# plot gdp vs energy_per_capita in an interactive plot\n",
    "fig = px.scatter(df, x=\"energy_per_capita\", y=\"gdp_per_capita\", hover_data=[\"country\"])\n",
    "# label x and y axis\n",
    "fig.update_xaxes(title_text=\"Energy per capita, kWh/(day.person)\")\n",
    "fig.update_yaxes(title_text=\"GDP per capita, $\")\n",
    "fig.show()"
   ]
  },
  {
   "cell_type": "code",
   "execution_count": 7,
   "metadata": {},
   "outputs": [
    {
     "data": {
      "image/png": "[encoded data removed]",
      "text/plain": [
       "<Figure size 1000x600 with 1 Axes>"
      ]
     },
     "metadata": {},
     "output_type": "display_data"
    }
   ],
   "source": [
    "# plot gdp vs energy_per_capita with seaborn\n",
    "# change seaborn style for a white background\n",
    "sns.set_theme(style=\"white\", font_scale=1.2)\n",
    "plt.figure(figsize=(10, 6))\n",
    "sns.scatterplot(x=\"energy_per_capita\", y=\"gdp_per_capita\", data=df)\n",
    "plt.xlabel(\"Energy per capita, kWh/(day.person)\")\n",
    "plt.ylabel(\"GDP per capita, $\")\n",
    "\n",
    "# save the plot\n",
    "plt.savefig(\"../resources/gdp_vs_energy_per_capita.png\")"
   ]
  },
  {
   "cell_type": "code",
   "execution_count": 8,
   "metadata": {},
   "outputs": [
    {
     "data": {
      "text/html": [
       "<div>\n",
       "<style scoped>\n",
       "    .dataframe tbody tr th:only-of-type {\n",
       "        vertical-align: middle;\n",
       "    }\n",
       "\n",
       "    .dataframe tbody tr th {\n",
       "        vertical-align: top;\n",
       "    }\n",
       "\n",
       "    .dataframe thead th {\n",
       "        text-align: right;\n",
       "    }\n",
       "</style>\n",
       "<table border=\"1\" class=\"dataframe\">\n",
       "  <thead>\n",
       "    <tr style=\"text-align: right;\">\n",
       "      <th></th>\n",
       "      <th>country</th>\n",
       "      <th>iso_code</th>\n",
       "      <th>year</th>\n",
       "      <th>land_area_m2</th>\n",
       "      <th>population</th>\n",
       "      <th>land_per_person</th>\n",
       "      <th>land_per_person_footbal_field</th>\n",
       "    </tr>\n",
       "  </thead>\n",
       "  <tbody>\n",
       "    <tr>\n",
       "      <th>0</th>\n",
       "      <td>Afghanistan</td>\n",
       "      <td>AFG</td>\n",
       "      <td>2021</td>\n",
       "      <td>6.522300e+11</td>\n",
       "      <td>40000411</td>\n",
       "      <td>16305.582460</td>\n",
       "      <td>2.203457</td>\n",
       "    </tr>\n",
       "    <tr>\n",
       "      <th>1</th>\n",
       "      <td>Albania</td>\n",
       "      <td>ALB</td>\n",
       "      <td>2021</td>\n",
       "      <td>2.740000e+10</td>\n",
       "      <td>2849643</td>\n",
       "      <td>9615.239523</td>\n",
       "      <td>1.299357</td>\n",
       "    </tr>\n",
       "    <tr>\n",
       "      <th>2</th>\n",
       "      <td>Algeria</td>\n",
       "      <td>DZA</td>\n",
       "      <td>2021</td>\n",
       "      <td>2.381741e+12</td>\n",
       "      <td>44761101</td>\n",
       "      <td>53210.062907</td>\n",
       "      <td>7.190549</td>\n",
       "    </tr>\n",
       "    <tr>\n",
       "      <th>3</th>\n",
       "      <td>American Samoa</td>\n",
       "      <td>ASM</td>\n",
       "      <td>2021</td>\n",
       "      <td>2.000000e+08</td>\n",
       "      <td>49248</td>\n",
       "      <td>4061.078622</td>\n",
       "      <td>0.548794</td>\n",
       "    </tr>\n",
       "    <tr>\n",
       "      <th>4</th>\n",
       "      <td>Andorra</td>\n",
       "      <td>AND</td>\n",
       "      <td>2021</td>\n",
       "      <td>4.700000e+08</td>\n",
       "      <td>78375</td>\n",
       "      <td>5996.810207</td>\n",
       "      <td>0.810380</td>\n",
       "    </tr>\n",
       "    <tr>\n",
       "      <th>...</th>\n",
       "      <td>...</td>\n",
       "      <td>...</td>\n",
       "      <td>...</td>\n",
       "      <td>...</td>\n",
       "      <td>...</td>\n",
       "      <td>...</td>\n",
       "      <td>...</td>\n",
       "    </tr>\n",
       "    <tr>\n",
       "      <th>209</th>\n",
       "      <td>Venezuela</td>\n",
       "      <td>VEN</td>\n",
       "      <td>2021</td>\n",
       "      <td>8.820500e+11</td>\n",
       "      <td>28237831</td>\n",
       "      <td>31236.464302</td>\n",
       "      <td>4.221144</td>\n",
       "    </tr>\n",
       "    <tr>\n",
       "      <th>210</th>\n",
       "      <td>Vietnam</td>\n",
       "      <td>VNM</td>\n",
       "      <td>2021</td>\n",
       "      <td>3.134290e+11</td>\n",
       "      <td>98935101</td>\n",
       "      <td>3168.026280</td>\n",
       "      <td>0.428112</td>\n",
       "    </tr>\n",
       "    <tr>\n",
       "      <th>211</th>\n",
       "      <td>Yemen</td>\n",
       "      <td>YEM</td>\n",
       "      <td>2021</td>\n",
       "      <td>5.279700e+11</td>\n",
       "      <td>37140233</td>\n",
       "      <td>14215.581254</td>\n",
       "      <td>1.921024</td>\n",
       "    </tr>\n",
       "    <tr>\n",
       "      <th>212</th>\n",
       "      <td>Zambia</td>\n",
       "      <td>ZMB</td>\n",
       "      <td>2021</td>\n",
       "      <td>7.433900e+11</td>\n",
       "      <td>19603610</td>\n",
       "      <td>37921.076781</td>\n",
       "      <td>5.124470</td>\n",
       "    </tr>\n",
       "    <tr>\n",
       "      <th>213</th>\n",
       "      <td>Zimbabwe</td>\n",
       "      <td>ZWE</td>\n",
       "      <td>2021</td>\n",
       "      <td>3.868500e+11</td>\n",
       "      <td>15797220</td>\n",
       "      <td>24488.485949</td>\n",
       "      <td>3.309255</td>\n",
       "    </tr>\n",
       "  </tbody>\n",
       "</table>\n",
       "<p>214 rows × 7 columns</p>\n",
       "</div>"
      ],
      "text/plain": [
       "            country iso_code  year  land_area_m2  population  land_per_person  \\\n",
       "0       Afghanistan      AFG  2021  6.522300e+11    40000411     16305.582460   \n",
       "1           Albania      ALB  2021  2.740000e+10     2849643      9615.239523   \n",
       "2           Algeria      DZA  2021  2.381741e+12    44761101     53210.062907   \n",
       "3    American Samoa      ASM  2021  2.000000e+08       49248      4061.078622   \n",
       "4           Andorra      AND  2021  4.700000e+08       78375      5996.810207   \n",
       "..              ...      ...   ...           ...         ...              ...   \n",
       "209       Venezuela      VEN  2021  8.820500e+11    28237831     31236.464302   \n",
       "210         Vietnam      VNM  2021  3.134290e+11    98935101      3168.026280   \n",
       "211           Yemen      YEM  2021  5.279700e+11    37140233     14215.581254   \n",
       "212          Zambia      ZMB  2021  7.433900e+11    19603610     37921.076781   \n",
       "213        Zimbabwe      ZWE  2021  3.868500e+11    15797220     24488.485949   \n",
       "\n",
       "     land_per_person_footbal_field  \n",
       "0                         2.203457  \n",
       "1                         1.299357  \n",
       "2                         7.190549  \n",
       "3                         0.548794  \n",
       "4                         0.810380  \n",
       "..                             ...  \n",
       "209                       4.221144  \n",
       "210                       0.428112  \n",
       "211                       1.921024  \n",
       "212                       5.124470  \n",
       "213                       3.309255  \n",
       "\n",
       "[214 rows x 7 columns]"
      ]
     },
     "execution_count": 8,
     "metadata": {},
     "output_type": "execute_result"
    }
   ],
   "source": [
    "# lan per person\n",
    "land = pd.read_csv(\"../data/land-area-km.csv\")\n",
    "# change column name from 'Entity' to 'country' and 'Code' to 'iso_code' and 'Year' to 'year' and 'Land area (sq. km)' to 'land_area_m2'\n",
    "land.rename(\n",
    "    columns={\n",
    "        \"Entity\": \"country\",\n",
    "        \"Code\": \"iso_code\",\n",
    "        \"Year\": \"year\",\n",
    "        \"Land area (sq. km)\": \"land_area_m2\",\n",
    "    },\n",
    "    inplace=True,\n",
    ")\n",
    "land[\"land_area_m2\"] = land[\"land_area_m2\"] * 1e6  # convert to m^2\n",
    "last_year = land[\"year\"].max()\n",
    "land = land[land[\"year\"] == last_year].reset_index(drop=True)\n",
    "land = land[land[\"iso_code\"].notna()].reset_index(drop=True)\n",
    "land = land[land[\"iso_code\"] != \"OWID_WRL\"].reset_index(drop=True)\n",
    "\n",
    "# load population data\n",
    "population = pd.read_csv(\"../data/population.csv\")\n",
    "population.rename(\n",
    "    columns={\n",
    "        \"Entity\": \"country\",\n",
    "        \"Code\": \"iso_code\",\n",
    "        \"Year\": \"year\",\n",
    "        \"Population (historical)\": \"population\",\n",
    "    },\n",
    "    inplace=True,\n",
    ")\n",
    "population = population[population[\"year\"] == last_year].reset_index(drop=True)\n",
    "population = population[population[\"iso_code\"].notna()].reset_index(drop=True)\n",
    "population = population[population[\"iso_code\"] != \"OWID_WRL\"].reset_index(drop=True)\n",
    "\n",
    "# merge land and population\n",
    "land_population = pd.merge(land, population, on=\"iso_code\", how=\"inner\")\n",
    "# remove country_y and year_y columns\n",
    "land_population.drop(columns=[\"country_y\", \"year_y\"], inplace=True)\n",
    "# rename country_x and year_x columns\n",
    "land_population.rename(columns={\"country_x\": \"country\", \"year_x\": \"year\"}, inplace=True)\n",
    "footbal_field = 7400  # m^2\n",
    "land_population[\"land_per_person\"] = (\n",
    "    land_population[\"land_area_m2\"] / land_population[\"population\"]\n",
    ")\n",
    "land_population[\"land_per_person_footbal_field\"] = (\n",
    "    land_population[\"land_per_person\"] / footbal_field\n",
    ")\n",
    "land_population"
   ]
  },
  {
   "cell_type": "code",
   "execution_count": 9,
   "metadata": {},
   "outputs": [
    {
     "data": {
      "text/plain": [
       "<matplotlib.lines.Line2D at 0x173310baf60>"
      ]
     },
     "execution_count": 9,
     "metadata": {},
     "output_type": "execute_result"
    },
    {
     "data": {
      "image/png": "[encoded data removed]",
      "text/plain": [
       "<Figure size 1000x6000 with 1 Axes>"
      ]
     },
     "metadata": {},
     "output_type": "display_data"
    }
   ],
   "source": [
    "# barchart of land_per_person_footbal_field for countries with <10 football fields\n",
    "plt.figure(figsize=(10, 60))\n",
    "sns.barplot(\n",
    "    x=\"land_per_person_footbal_field\",\n",
    "    y=\"country\",\n",
    "    data=land_population[\n",
    "        land_population[\"land_per_person_footbal_field\"] < 10\n",
    "    ].sort_values(by=\"land_per_person_footbal_field\", ascending=False),\n",
    ")\n",
    "plt.xlabel(\"Land per person, football field\")\n",
    "plt.ylabel(\"Country\")\n",
    "plt.title(\"Land per person in football field\")\n",
    "# plot a vertical line at 1 football field\n",
    "plt.axvline(x=1, color=\"red\", linestyle=\"--\")"
   ]
  },
  {
   "cell_type": "code",
   "execution_count": 10,
   "metadata": {},
   "outputs": [
    {
     "data": {
      "text/plain": [
       "7140"
      ]
     },
     "execution_count": 10,
     "metadata": {},
     "output_type": "execute_result"
    }
   ],
   "source": [
    "105 * 68"
   ]
  },
  {
   "cell_type": "code",
   "execution_count": 11,
   "metadata": {},
   "outputs": [
    {
     "data": {
      "text/html": [
       "<div>\n",
       "<style scoped>\n",
       "    .dataframe tbody tr th:only-of-type {\n",
       "        vertical-align: middle;\n",
       "    }\n",
       "\n",
       "    .dataframe tbody tr th {\n",
       "        vertical-align: top;\n",
       "    }\n",
       "\n",
       "    .dataframe thead th {\n",
       "        text-align: right;\n",
       "    }\n",
       "</style>\n",
       "<table border=\"1\" class=\"dataframe\">\n",
       "  <thead>\n",
       "    <tr style=\"text-align: right;\">\n",
       "      <th></th>\n",
       "      <th>country</th>\n",
       "      <th>year</th>\n",
       "      <th>iso_code</th>\n",
       "      <th>population</th>\n",
       "      <th>gdp</th>\n",
       "      <th>biofuel_cons_change_pct</th>\n",
       "      <th>biofuel_cons_change_twh</th>\n",
       "      <th>biofuel_cons_per_capita</th>\n",
       "      <th>biofuel_consumption</th>\n",
       "      <th>biofuel_elec_per_capita</th>\n",
       "      <th>...</th>\n",
       "      <th>solar_share_elec</th>\n",
       "      <th>solar_share_energy</th>\n",
       "      <th>wind_cons_change_pct</th>\n",
       "      <th>wind_cons_change_twh</th>\n",
       "      <th>wind_consumption</th>\n",
       "      <th>wind_elec_per_capita</th>\n",
       "      <th>wind_electricity</th>\n",
       "      <th>wind_energy_per_capita</th>\n",
       "      <th>wind_share_elec</th>\n",
       "      <th>wind_share_energy</th>\n",
       "    </tr>\n",
       "  </thead>\n",
       "  <tbody>\n",
       "    <tr>\n",
       "      <th>0</th>\n",
       "      <td>Afghanistan</td>\n",
       "      <td>2022</td>\n",
       "      <td>AFG</td>\n",
       "      <td>41128772.0</td>\n",
       "      <td>5.330347e+10</td>\n",
       "      <td>NaN</td>\n",
       "      <td>NaN</td>\n",
       "      <td>NaN</td>\n",
       "      <td>NaN</td>\n",
       "      <td>0.000</td>\n",
       "      <td>...</td>\n",
       "      <td>9.639</td>\n",
       "      <td>NaN</td>\n",
       "      <td>NaN</td>\n",
       "      <td>NaN</td>\n",
       "      <td>NaN</td>\n",
       "      <td>0.000</td>\n",
       "      <td>0.00</td>\n",
       "      <td>NaN</td>\n",
       "      <td>0.000</td>\n",
       "      <td>NaN</td>\n",
       "    </tr>\n",
       "    <tr>\n",
       "      <th>1</th>\n",
       "      <td>Albania</td>\n",
       "      <td>2022</td>\n",
       "      <td>ALB</td>\n",
       "      <td>2842318.0</td>\n",
       "      <td>3.617101e+10</td>\n",
       "      <td>NaN</td>\n",
       "      <td>NaN</td>\n",
       "      <td>NaN</td>\n",
       "      <td>NaN</td>\n",
       "      <td>0.000</td>\n",
       "      <td>...</td>\n",
       "      <td>0.571</td>\n",
       "      <td>NaN</td>\n",
       "      <td>NaN</td>\n",
       "      <td>NaN</td>\n",
       "      <td>NaN</td>\n",
       "      <td>0.000</td>\n",
       "      <td>0.00</td>\n",
       "      <td>NaN</td>\n",
       "      <td>0.000</td>\n",
       "      <td>NaN</td>\n",
       "    </tr>\n",
       "    <tr>\n",
       "      <th>2</th>\n",
       "      <td>Algeria</td>\n",
       "      <td>2022</td>\n",
       "      <td>DZA</td>\n",
       "      <td>44903228.0</td>\n",
       "      <td>5.958200e+11</td>\n",
       "      <td>NaN</td>\n",
       "      <td>NaN</td>\n",
       "      <td>NaN</td>\n",
       "      <td>NaN</td>\n",
       "      <td>0.000</td>\n",
       "      <td>...</td>\n",
       "      <td>0.748</td>\n",
       "      <td>0.230</td>\n",
       "      <td>52.381</td>\n",
       "      <td>0.014</td>\n",
       "      <td>0.042</td>\n",
       "      <td>0.223</td>\n",
       "      <td>0.01</td>\n",
       "      <td>0.929</td>\n",
       "      <td>0.011</td>\n",
       "      <td>0.006</td>\n",
       "    </tr>\n",
       "    <tr>\n",
       "      <th>3</th>\n",
       "      <td>American Samoa</td>\n",
       "      <td>2022</td>\n",
       "      <td>ASM</td>\n",
       "      <td>44295.0</td>\n",
       "      <td>NaN</td>\n",
       "      <td>NaN</td>\n",
       "      <td>NaN</td>\n",
       "      <td>NaN</td>\n",
       "      <td>NaN</td>\n",
       "      <td>0.000</td>\n",
       "      <td>...</td>\n",
       "      <td>5.556</td>\n",
       "      <td>NaN</td>\n",
       "      <td>NaN</td>\n",
       "      <td>NaN</td>\n",
       "      <td>NaN</td>\n",
       "      <td>0.000</td>\n",
       "      <td>0.00</td>\n",
       "      <td>NaN</td>\n",
       "      <td>0.000</td>\n",
       "      <td>NaN</td>\n",
       "    </tr>\n",
       "    <tr>\n",
       "      <th>4</th>\n",
       "      <td>Angola</td>\n",
       "      <td>2022</td>\n",
       "      <td>AGO</td>\n",
       "      <td>35588996.0</td>\n",
       "      <td>1.583462e+11</td>\n",
       "      <td>NaN</td>\n",
       "      <td>NaN</td>\n",
       "      <td>NaN</td>\n",
       "      <td>NaN</td>\n",
       "      <td>1.405</td>\n",
       "      <td>...</td>\n",
       "      <td>0.118</td>\n",
       "      <td>NaN</td>\n",
       "      <td>NaN</td>\n",
       "      <td>NaN</td>\n",
       "      <td>NaN</td>\n",
       "      <td>0.000</td>\n",
       "      <td>0.00</td>\n",
       "      <td>NaN</td>\n",
       "      <td>0.000</td>\n",
       "      <td>NaN</td>\n",
       "    </tr>\n",
       "    <tr>\n",
       "      <th>...</th>\n",
       "      <td>...</td>\n",
       "      <td>...</td>\n",
       "      <td>...</td>\n",
       "      <td>...</td>\n",
       "      <td>...</td>\n",
       "      <td>...</td>\n",
       "      <td>...</td>\n",
       "      <td>...</td>\n",
       "      <td>...</td>\n",
       "      <td>...</td>\n",
       "      <td>...</td>\n",
       "      <td>...</td>\n",
       "      <td>...</td>\n",
       "      <td>...</td>\n",
       "      <td>...</td>\n",
       "      <td>...</td>\n",
       "      <td>...</td>\n",
       "      <td>...</td>\n",
       "      <td>...</td>\n",
       "      <td>...</td>\n",
       "      <td>...</td>\n",
       "    </tr>\n",
       "    <tr>\n",
       "      <th>205</th>\n",
       "      <td>Venezuela</td>\n",
       "      <td>2022</td>\n",
       "      <td>VEN</td>\n",
       "      <td>28301700.0</td>\n",
       "      <td>1.496821e+11</td>\n",
       "      <td>NaN</td>\n",
       "      <td>NaN</td>\n",
       "      <td>NaN</td>\n",
       "      <td>NaN</td>\n",
       "      <td>0.000</td>\n",
       "      <td>...</td>\n",
       "      <td>0.012</td>\n",
       "      <td>0.000</td>\n",
       "      <td>-15.270</td>\n",
       "      <td>-0.008</td>\n",
       "      <td>0.042</td>\n",
       "      <td>3.180</td>\n",
       "      <td>0.09</td>\n",
       "      <td>1.494</td>\n",
       "      <td>0.106</td>\n",
       "      <td>0.007</td>\n",
       "    </tr>\n",
       "    <tr>\n",
       "      <th>206</th>\n",
       "      <td>Vietnam</td>\n",
       "      <td>2022</td>\n",
       "      <td>VNM</td>\n",
       "      <td>98186856.0</td>\n",
       "      <td>8.338038e+11</td>\n",
       "      <td>NaN</td>\n",
       "      <td>NaN</td>\n",
       "      <td>NaN</td>\n",
       "      <td>NaN</td>\n",
       "      <td>3.666</td>\n",
       "      <td>...</td>\n",
       "      <td>10.143</td>\n",
       "      <td>5.396</td>\n",
       "      <td>172.104</td>\n",
       "      <td>14.959</td>\n",
       "      <td>23.701</td>\n",
       "      <td>81.885</td>\n",
       "      <td>8.04</td>\n",
       "      <td>241.391</td>\n",
       "      <td>3.093</td>\n",
       "      <td>1.905</td>\n",
       "    </tr>\n",
       "    <tr>\n",
       "      <th>207</th>\n",
       "      <td>Yemen</td>\n",
       "      <td>2022</td>\n",
       "      <td>YEM</td>\n",
       "      <td>33696612.0</td>\n",
       "      <td>6.085299e+10</td>\n",
       "      <td>NaN</td>\n",
       "      <td>NaN</td>\n",
       "      <td>NaN</td>\n",
       "      <td>NaN</td>\n",
       "      <td>0.000</td>\n",
       "      <td>...</td>\n",
       "      <td>20.339</td>\n",
       "      <td>NaN</td>\n",
       "      <td>NaN</td>\n",
       "      <td>NaN</td>\n",
       "      <td>NaN</td>\n",
       "      <td>0.000</td>\n",
       "      <td>0.00</td>\n",
       "      <td>NaN</td>\n",
       "      <td>0.000</td>\n",
       "      <td>NaN</td>\n",
       "    </tr>\n",
       "    <tr>\n",
       "      <th>208</th>\n",
       "      <td>Zambia</td>\n",
       "      <td>2022</td>\n",
       "      <td>ZMB</td>\n",
       "      <td>20017670.0</td>\n",
       "      <td>6.846960e+10</td>\n",
       "      <td>NaN</td>\n",
       "      <td>NaN</td>\n",
       "      <td>NaN</td>\n",
       "      <td>NaN</td>\n",
       "      <td>3.996</td>\n",
       "      <td>...</td>\n",
       "      <td>0.719</td>\n",
       "      <td>NaN</td>\n",
       "      <td>NaN</td>\n",
       "      <td>NaN</td>\n",
       "      <td>NaN</td>\n",
       "      <td>0.000</td>\n",
       "      <td>0.00</td>\n",
       "      <td>NaN</td>\n",
       "      <td>0.000</td>\n",
       "      <td>NaN</td>\n",
       "    </tr>\n",
       "    <tr>\n",
       "      <th>209</th>\n",
       "      <td>Zimbabwe</td>\n",
       "      <td>2022</td>\n",
       "      <td>ZWE</td>\n",
       "      <td>16320539.0</td>\n",
       "      <td>2.590159e+10</td>\n",
       "      <td>NaN</td>\n",
       "      <td>NaN</td>\n",
       "      <td>NaN</td>\n",
       "      <td>NaN</td>\n",
       "      <td>6.127</td>\n",
       "      <td>...</td>\n",
       "      <td>0.336</td>\n",
       "      <td>NaN</td>\n",
       "      <td>NaN</td>\n",
       "      <td>NaN</td>\n",
       "      <td>NaN</td>\n",
       "      <td>0.000</td>\n",
       "      <td>0.00</td>\n",
       "      <td>NaN</td>\n",
       "      <td>0.000</td>\n",
       "      <td>NaN</td>\n",
       "    </tr>\n",
       "  </tbody>\n",
       "</table>\n",
       "<p>210 rows × 129 columns</p>\n",
       "</div>"
      ],
      "text/plain": [
       "            country  year iso_code  population           gdp  \\\n",
       "0       Afghanistan  2022      AFG  41128772.0  5.330347e+10   \n",
       "1           Albania  2022      ALB   2842318.0  3.617101e+10   \n",
       "2           Algeria  2022      DZA  44903228.0  5.958200e+11   \n",
       "3    American Samoa  2022      ASM     44295.0           NaN   \n",
       "4            Angola  2022      AGO  35588996.0  1.583462e+11   \n",
       "..              ...   ...      ...         ...           ...   \n",
       "205       Venezuela  2022      VEN  28301700.0  1.496821e+11   \n",
       "206         Vietnam  2022      VNM  98186856.0  8.338038e+11   \n",
       "207           Yemen  2022      YEM  33696612.0  6.085299e+10   \n",
       "208          Zambia  2022      ZMB  20017670.0  6.846960e+10   \n",
       "209        Zimbabwe  2022      ZWE  16320539.0  2.590159e+10   \n",
       "\n",
       "     biofuel_cons_change_pct  biofuel_cons_change_twh  \\\n",
       "0                        NaN                      NaN   \n",
       "1                        NaN                      NaN   \n",
       "2                        NaN                      NaN   \n",
       "3                        NaN                      NaN   \n",
       "4                        NaN                      NaN   \n",
       "..                       ...                      ...   \n",
       "205                      NaN                      NaN   \n",
       "206                      NaN                      NaN   \n",
       "207                      NaN                      NaN   \n",
       "208                      NaN                      NaN   \n",
       "209                      NaN                      NaN   \n",
       "\n",
       "     biofuel_cons_per_capita  biofuel_consumption  biofuel_elec_per_capita  \\\n",
       "0                        NaN                  NaN                    0.000   \n",
       "1                        NaN                  NaN                    0.000   \n",
       "2                        NaN                  NaN                    0.000   \n",
       "3                        NaN                  NaN                    0.000   \n",
       "4                        NaN                  NaN                    1.405   \n",
       "..                       ...                  ...                      ...   \n",
       "205                      NaN                  NaN                    0.000   \n",
       "206                      NaN                  NaN                    3.666   \n",
       "207                      NaN                  NaN                    0.000   \n",
       "208                      NaN                  NaN                    3.996   \n",
       "209                      NaN                  NaN                    6.127   \n",
       "\n",
       "     ...  solar_share_elec  solar_share_energy  wind_cons_change_pct  \\\n",
       "0    ...             9.639                 NaN                   NaN   \n",
       "1    ...             0.571                 NaN                   NaN   \n",
       "2    ...             0.748               0.230                52.381   \n",
       "3    ...             5.556                 NaN                   NaN   \n",
       "4    ...             0.118                 NaN                   NaN   \n",
       "..   ...               ...                 ...                   ...   \n",
       "205  ...             0.012               0.000               -15.270   \n",
       "206  ...            10.143               5.396               172.104   \n",
       "207  ...            20.339                 NaN                   NaN   \n",
       "208  ...             0.719                 NaN                   NaN   \n",
       "209  ...             0.336                 NaN                   NaN   \n",
       "\n",
       "     wind_cons_change_twh  wind_consumption  wind_elec_per_capita  \\\n",
       "0                     NaN               NaN                 0.000   \n",
       "1                     NaN               NaN                 0.000   \n",
       "2                   0.014             0.042                 0.223   \n",
       "3                     NaN               NaN                 0.000   \n",
       "4                     NaN               NaN                 0.000   \n",
       "..                    ...               ...                   ...   \n",
       "205                -0.008             0.042                 3.180   \n",
       "206                14.959            23.701                81.885   \n",
       "207                   NaN               NaN                 0.000   \n",
       "208                   NaN               NaN                 0.000   \n",
       "209                   NaN               NaN                 0.000   \n",
       "\n",
       "     wind_electricity  wind_energy_per_capita  wind_share_elec  \\\n",
       "0                0.00                     NaN            0.000   \n",
       "1                0.00                     NaN            0.000   \n",
       "2                0.01                   0.929            0.011   \n",
       "3                0.00                     NaN            0.000   \n",
       "4                0.00                     NaN            0.000   \n",
       "..                ...                     ...              ...   \n",
       "205              0.09                   1.494            0.106   \n",
       "206              8.04                 241.391            3.093   \n",
       "207              0.00                     NaN            0.000   \n",
       "208              0.00                     NaN            0.000   \n",
       "209              0.00                     NaN            0.000   \n",
       "\n",
       "     wind_share_energy  \n",
       "0                  NaN  \n",
       "1                  NaN  \n",
       "2                0.006  \n",
       "3                  NaN  \n",
       "4                  NaN  \n",
       "..                 ...  \n",
       "205              0.007  \n",
       "206              1.905  \n",
       "207                NaN  \n",
       "208                NaN  \n",
       "209                NaN  \n",
       "\n",
       "[210 rows x 129 columns]"
      ]
     },
     "execution_count": 11,
     "metadata": {},
     "output_type": "execute_result"
    }
   ],
   "source": [
    "energy"
   ]
  }
 ],
 "metadata": {
  "kernelspec": {
   "display_name": "myccs",
   "language": "python",
   "name": "python3"
  },
  "language_info": {
   "codemirror_mode": {
    "name": "ipython",
    "version": 3
   },
   "file_extension": ".py",
   "mimetype": "text/x-python",
   "name": "python",
   "nbconvert_exporter": "python",
   "pygments_lexer": "ipython3",
   "version": "3.12.5"
  }
 },
 "nbformat": 4,
 "nbformat_minor": 2
}
