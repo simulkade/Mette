{
 "cells": [
  {
   "cell_type": "markdown",
   "metadata": {},
   "source": [
    "# Development story\n",
    "As usual, this is my training ground and whatever good comes out of it, goes straight to the package."
   ]
  },
  {
   "cell_type": "markdown",
   "metadata": {},
   "source": [
    "# Outline\n",
    "I am going to quickly put together a notebook (not this one; see this folder) that covers the following items:\n",
    "  - A link between the energy consumption and SDG measures\n",
    "  - Showing how to calculate the energy demand of a typical person in a European country\n",
    "  - Showing how to analyze energy data of a country"
   ]
  }
 ],
 "metadata": {
  "language_info": {
   "name": "python"
  }
 },
 "nbformat": 4,
 "nbformat_minor": 2
}
